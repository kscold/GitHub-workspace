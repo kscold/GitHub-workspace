{
 "cells": [
  {
   "cell_type": "code",
   "execution_count": 1,
   "metadata": {},
   "outputs": [
    {
     "name": "stdout",
     "output_type": "stream",
     "text": [
      "Collecting scikit-learn\n",
      "  Downloading scikit_learn-1.2.2-cp311-cp311-macosx_12_0_arm64.whl (8.4 MB)\n",
      "\u001b[2K     \u001b[90m━━━━━━━━━━━━━━━━━━━━━━━━━━━━━━━━━━━━━━━━\u001b[0m \u001b[32m8.4/8.4 MB\u001b[0m \u001b[31m1.5 MB/s\u001b[0m eta \u001b[36m0:00:00\u001b[0m00:01\u001b[0m00:01\u001b[0m\n",
      "\u001b[?25hRequirement already satisfied: numpy>=1.17.3 in /Library/Frameworks/Python.framework/Versions/3.11/lib/python3.11/site-packages (from scikit-learn) (1.24.2)\n",
      "Collecting scipy>=1.3.2\n",
      "  Downloading scipy-1.10.1-cp311-cp311-macosx_12_0_arm64.whl (28.7 MB)\n",
      "\u001b[2K     \u001b[90m━━━━━━━━━━━━━━━━━━━━━━━━━━━━━━━━━━━━━━━\u001b[0m \u001b[32m28.7/28.7 MB\u001b[0m \u001b[31m875.2 kB/s\u001b[0m eta \u001b[36m0:00:00\u001b[0m00:01\u001b[0m00:01\u001b[0m\n",
      "\u001b[?25hCollecting joblib>=1.1.1\n",
      "  Downloading joblib-1.2.0-py3-none-any.whl (297 kB)\n",
      "\u001b[2K     \u001b[90m━━━━━━━━━━━━━━━━━━━━━━━━━━━━━━━━━━━━━━━\u001b[0m \u001b[32m298.0/298.0 kB\u001b[0m \u001b[31m1.1 MB/s\u001b[0m eta \u001b[36m0:00:00\u001b[0ma \u001b[36m0:00:01\u001b[0m\n",
      "\u001b[?25hCollecting threadpoolctl>=2.0.0\n",
      "  Downloading threadpoolctl-3.1.0-py3-none-any.whl (14 kB)\n",
      "Installing collected packages: threadpoolctl, scipy, joblib, scikit-learn\n",
      "Successfully installed joblib-1.2.0 scikit-learn-1.2.2 scipy-1.10.1 threadpoolctl-3.1.0\n",
      "Note: you may need to restart the kernel to use updated packages.\n"
     ]
    }
   ],
   "source": [
    "# 통계의 힘 3세트 책 추천함 빅데이터 관심있으면\n",
    "%pip install scikit-learn"
   ]
  },
  {
   "cell_type": "code",
   "execution_count": 2,
   "metadata": {},
   "outputs": [],
   "source": [
    "import pandas as pd"
   ]
  },
  {
   "cell_type": "code",
   "execution_count": 4,
   "metadata": {},
   "outputs": [],
   "source": [
    "red_df =pd.read_csv(\"./winequality-red.csv\", sep=\";\") #구분자가 세미콜론으로 되어있이 때문에 ;설정\n",
    "white_df =pd.read_csv(\"./winequality-white.csv\", sep=\";\")"
   ]
  },
  {
   "cell_type": "code",
   "execution_count": 5,
   "metadata": {},
   "outputs": [
    {
     "name": "stdout",
     "output_type": "stream",
     "text": [
      "   fixed acidity  volatile acidity  citric acid  residual sugar  chlorides  \\\n",
      "0            7.4              0.70         0.00             1.9      0.076   \n",
      "1            7.8              0.88         0.00             2.6      0.098   \n",
      "2            7.8              0.76         0.04             2.3      0.092   \n",
      "3           11.2              0.28         0.56             1.9      0.075   \n",
      "4            7.4              0.70         0.00             1.9      0.076   \n",
      "\n",
      "   free sulfur dioxide  total sulfur dioxide  density    pH  sulphates  \\\n",
      "0                 11.0                  34.0   0.9978  3.51       0.56   \n",
      "1                 25.0                  67.0   0.9968  3.20       0.68   \n",
      "2                 15.0                  54.0   0.9970  3.26       0.65   \n",
      "3                 17.0                  60.0   0.9980  3.16       0.58   \n",
      "4                 11.0                  34.0   0.9978  3.51       0.56   \n",
      "\n",
      "   alcohol  quality  \n",
      "0      9.4        5  \n",
      "1      9.8        5  \n",
      "2      9.8        5  \n",
      "3      9.8        6  \n",
      "4      9.4        5  \n"
     ]
    }
   ],
   "source": [
    "print(red_df.head())"
   ]
  },
  {
   "cell_type": "code",
   "execution_count": 6,
   "metadata": {},
   "outputs": [],
   "source": [
    "red_df.insert(0, column='type', value='red') #컬럼을 하나 추가 \n",
    "white_df.insert(0, column='type', value='white') #열을 하나 추가 열이름은 타입 밸류는 와인으로 이름 설정"
   ]
  },
  {
   "cell_type": "code",
   "execution_count": 7,
   "metadata": {},
   "outputs": [
    {
     "name": "stdout",
     "output_type": "stream",
     "text": [
      "     type  fixed acidity  volatile acidity  citric acid  residual sugar  \\\n",
      "0     red            7.4             0.700         0.00             1.9   \n",
      "1     red            7.8             0.880         0.00             2.6   \n",
      "2     red            7.8             0.760         0.04             2.3   \n",
      "3     red           11.2             0.280         0.56             1.9   \n",
      "4     red            7.4             0.700         0.00             1.9   \n",
      "...   ...            ...               ...          ...             ...   \n",
      "1594  red            6.2             0.600         0.08             2.0   \n",
      "1595  red            5.9             0.550         0.10             2.2   \n",
      "1596  red            6.3             0.510         0.13             2.3   \n",
      "1597  red            5.9             0.645         0.12             2.0   \n",
      "1598  red            6.0             0.310         0.47             3.6   \n",
      "\n",
      "      chlorides  free sulfur dioxide  total sulfur dioxide  density    pH  \\\n",
      "0         0.076                 11.0                  34.0  0.99780  3.51   \n",
      "1         0.098                 25.0                  67.0  0.99680  3.20   \n",
      "2         0.092                 15.0                  54.0  0.99700  3.26   \n",
      "3         0.075                 17.0                  60.0  0.99800  3.16   \n",
      "4         0.076                 11.0                  34.0  0.99780  3.51   \n",
      "...         ...                  ...                   ...      ...   ...   \n",
      "1594      0.090                 32.0                  44.0  0.99490  3.45   \n",
      "1595      0.062                 39.0                  51.0  0.99512  3.52   \n",
      "1596      0.076                 29.0                  40.0  0.99574  3.42   \n",
      "1597      0.075                 32.0                  44.0  0.99547  3.57   \n",
      "1598      0.067                 18.0                  42.0  0.99549  3.39   \n",
      "\n",
      "      sulphates  alcohol  quality  \n",
      "0          0.56      9.4        5  \n",
      "1          0.68      9.8        5  \n",
      "2          0.65      9.8        5  \n",
      "3          0.58      9.8        6  \n",
      "4          0.56      9.4        5  \n",
      "...         ...      ...      ...  \n",
      "1594       0.58     10.5        5  \n",
      "1595       0.76     11.2        6  \n",
      "1596       0.75     11.0        6  \n",
      "1597       0.71     10.2        5  \n",
      "1598       0.66     11.0        6  \n",
      "\n",
      "[1599 rows x 13 columns]\n"
     ]
    }
   ],
   "source": [
    "print(red_df)"
   ]
  },
  {
   "cell_type": "code",
   "execution_count": 8,
   "metadata": {},
   "outputs": [
    {
     "name": "stdout",
     "output_type": "stream",
     "text": [
      "       type  fixed acidity  volatile acidity  citric acid  residual sugar  \\\n",
      "0     white            7.0              0.27         0.36            20.7   \n",
      "1     white            6.3              0.30         0.34             1.6   \n",
      "2     white            8.1              0.28         0.40             6.9   \n",
      "3     white            7.2              0.23         0.32             8.5   \n",
      "4     white            7.2              0.23         0.32             8.5   \n",
      "...     ...            ...               ...          ...             ...   \n",
      "4893  white            6.2              0.21         0.29             1.6   \n",
      "4894  white            6.6              0.32         0.36             8.0   \n",
      "4895  white            6.5              0.24         0.19             1.2   \n",
      "4896  white            5.5              0.29         0.30             1.1   \n",
      "4897  white            6.0              0.21         0.38             0.8   \n",
      "\n",
      "      chlorides  free sulfur dioxide  total sulfur dioxide  density    pH  \\\n",
      "0         0.045                 45.0                 170.0  1.00100  3.00   \n",
      "1         0.049                 14.0                 132.0  0.99400  3.30   \n",
      "2         0.050                 30.0                  97.0  0.99510  3.26   \n",
      "3         0.058                 47.0                 186.0  0.99560  3.19   \n",
      "4         0.058                 47.0                 186.0  0.99560  3.19   \n",
      "...         ...                  ...                   ...      ...   ...   \n",
      "4893      0.039                 24.0                  92.0  0.99114  3.27   \n",
      "4894      0.047                 57.0                 168.0  0.99490  3.15   \n",
      "4895      0.041                 30.0                 111.0  0.99254  2.99   \n",
      "4896      0.022                 20.0                 110.0  0.98869  3.34   \n",
      "4897      0.020                 22.0                  98.0  0.98941  3.26   \n",
      "\n",
      "      sulphates  alcohol  quality  \n",
      "0          0.45      8.8        6  \n",
      "1          0.49      9.5        6  \n",
      "2          0.44     10.1        6  \n",
      "3          0.40      9.9        6  \n",
      "4          0.40      9.9        6  \n",
      "...         ...      ...      ...  \n",
      "4893       0.50     11.2        6  \n",
      "4894       0.46      9.6        5  \n",
      "4895       0.46      9.4        6  \n",
      "4896       0.38     12.8        7  \n",
      "4897       0.32     11.8        6  \n",
      "\n",
      "[4898 rows x 13 columns]\n"
     ]
    }
   ],
   "source": [
    "print(white_df)"
   ]
  },
  {
   "cell_type": "code",
   "execution_count": 10,
   "metadata": {},
   "outputs": [
    {
     "name": "stdout",
     "output_type": "stream",
     "text": [
      "       type  fixed acidity  volatile acidity  citric acid  residual sugar  \\\n",
      "0       red            7.4              0.70         0.00             1.9   \n",
      "1       red            7.8              0.88         0.00             2.6   \n",
      "2       red            7.8              0.76         0.04             2.3   \n",
      "3       red           11.2              0.28         0.56             1.9   \n",
      "4       red            7.4              0.70         0.00             1.9   \n",
      "...     ...            ...               ...          ...             ...   \n",
      "6492  white            6.2              0.21         0.29             1.6   \n",
      "6493  white            6.6              0.32         0.36             8.0   \n",
      "6494  white            6.5              0.24         0.19             1.2   \n",
      "6495  white            5.5              0.29         0.30             1.1   \n",
      "6496  white            6.0              0.21         0.38             0.8   \n",
      "\n",
      "      chlorides  free sulfur dioxide  total sulfur dioxide  density    pH  \\\n",
      "0         0.076                 11.0                  34.0  0.99780  3.51   \n",
      "1         0.098                 25.0                  67.0  0.99680  3.20   \n",
      "2         0.092                 15.0                  54.0  0.99700  3.26   \n",
      "3         0.075                 17.0                  60.0  0.99800  3.16   \n",
      "4         0.076                 11.0                  34.0  0.99780  3.51   \n",
      "...         ...                  ...                   ...      ...   ...   \n",
      "6492      0.039                 24.0                  92.0  0.99114  3.27   \n",
      "6493      0.047                 57.0                 168.0  0.99490  3.15   \n",
      "6494      0.041                 30.0                 111.0  0.99254  2.99   \n",
      "6495      0.022                 20.0                 110.0  0.98869  3.34   \n",
      "6496      0.020                 22.0                  98.0  0.98941  3.26   \n",
      "\n",
      "      sulphates  alcohol  quality  \n",
      "0          0.56      9.4        5  \n",
      "1          0.68      9.8        5  \n",
      "2          0.65      9.8        5  \n",
      "3          0.58      9.8        6  \n",
      "4          0.56      9.4        5  \n",
      "...         ...      ...      ...  \n",
      "6492       0.50     11.2        6  \n",
      "6493       0.46      9.6        5  \n",
      "6494       0.46      9.4        6  \n",
      "6495       0.38     12.8        7  \n",
      "6496       0.32     11.8        6  \n",
      "\n",
      "[6497 rows x 13 columns]\n"
     ]
    }
   ],
   "source": [
    "wine = pd.concat([red_df, white_df], ignore_index=True) #데이터 프레임 두 개를 합쳐주는 옶션 ignore_index를 사용하여 원래 있던 \n",
    "#인덱스를 무시해서 만들어라. 이것을 안쓰면 원래 데이터 갯수로 인덱스를 먹음\n",
    "print(wine)"
   ]
  },
  {
   "cell_type": "code",
   "execution_count": 12,
   "metadata": {},
   "outputs": [
    {
     "data": {
      "text/html": [
       "<div>\n",
       "<style scoped>\n",
       "    .dataframe tbody tr th:only-of-type {\n",
       "        vertical-align: middle;\n",
       "    }\n",
       "\n",
       "    .dataframe tbody tr th {\n",
       "        vertical-align: top;\n",
       "    }\n",
       "\n",
       "    .dataframe thead th {\n",
       "        text-align: right;\n",
       "    }\n",
       "</style>\n",
       "<table border=\"1\" class=\"dataframe\">\n",
       "  <thead>\n",
       "    <tr style=\"text-align: right;\">\n",
       "      <th></th>\n",
       "      <th>fixed acidity</th>\n",
       "      <th>volatile acidity</th>\n",
       "      <th>citric acid</th>\n",
       "      <th>residual sugar</th>\n",
       "      <th>chlorides</th>\n",
       "      <th>free sulfur dioxide</th>\n",
       "      <th>total sulfur dioxide</th>\n",
       "      <th>density</th>\n",
       "      <th>pH</th>\n",
       "      <th>sulphates</th>\n",
       "      <th>alcohol</th>\n",
       "      <th>quality</th>\n",
       "    </tr>\n",
       "  </thead>\n",
       "  <tbody>\n",
       "    <tr>\n",
       "      <th>count</th>\n",
       "      <td>6497.000000</td>\n",
       "      <td>6497.000000</td>\n",
       "      <td>6497.000000</td>\n",
       "      <td>6497.000000</td>\n",
       "      <td>6497.000000</td>\n",
       "      <td>6497.000000</td>\n",
       "      <td>6497.000000</td>\n",
       "      <td>6497.000000</td>\n",
       "      <td>6497.000000</td>\n",
       "      <td>6497.000000</td>\n",
       "      <td>6497.000000</td>\n",
       "      <td>6497.000000</td>\n",
       "    </tr>\n",
       "    <tr>\n",
       "      <th>mean</th>\n",
       "      <td>7.215307</td>\n",
       "      <td>0.339666</td>\n",
       "      <td>0.318633</td>\n",
       "      <td>5.443235</td>\n",
       "      <td>0.056034</td>\n",
       "      <td>30.525319</td>\n",
       "      <td>115.744574</td>\n",
       "      <td>0.994697</td>\n",
       "      <td>3.218501</td>\n",
       "      <td>0.531268</td>\n",
       "      <td>10.491801</td>\n",
       "      <td>5.818378</td>\n",
       "    </tr>\n",
       "    <tr>\n",
       "      <th>std</th>\n",
       "      <td>1.296434</td>\n",
       "      <td>0.164636</td>\n",
       "      <td>0.145318</td>\n",
       "      <td>4.757804</td>\n",
       "      <td>0.035034</td>\n",
       "      <td>17.749400</td>\n",
       "      <td>56.521855</td>\n",
       "      <td>0.002999</td>\n",
       "      <td>0.160787</td>\n",
       "      <td>0.148806</td>\n",
       "      <td>1.192712</td>\n",
       "      <td>0.873255</td>\n",
       "    </tr>\n",
       "    <tr>\n",
       "      <th>min</th>\n",
       "      <td>3.800000</td>\n",
       "      <td>0.080000</td>\n",
       "      <td>0.000000</td>\n",
       "      <td>0.600000</td>\n",
       "      <td>0.009000</td>\n",
       "      <td>1.000000</td>\n",
       "      <td>6.000000</td>\n",
       "      <td>0.987110</td>\n",
       "      <td>2.720000</td>\n",
       "      <td>0.220000</td>\n",
       "      <td>8.000000</td>\n",
       "      <td>3.000000</td>\n",
       "    </tr>\n",
       "    <tr>\n",
       "      <th>25%</th>\n",
       "      <td>6.400000</td>\n",
       "      <td>0.230000</td>\n",
       "      <td>0.250000</td>\n",
       "      <td>1.800000</td>\n",
       "      <td>0.038000</td>\n",
       "      <td>17.000000</td>\n",
       "      <td>77.000000</td>\n",
       "      <td>0.992340</td>\n",
       "      <td>3.110000</td>\n",
       "      <td>0.430000</td>\n",
       "      <td>9.500000</td>\n",
       "      <td>5.000000</td>\n",
       "    </tr>\n",
       "    <tr>\n",
       "      <th>50%</th>\n",
       "      <td>7.000000</td>\n",
       "      <td>0.290000</td>\n",
       "      <td>0.310000</td>\n",
       "      <td>3.000000</td>\n",
       "      <td>0.047000</td>\n",
       "      <td>29.000000</td>\n",
       "      <td>118.000000</td>\n",
       "      <td>0.994890</td>\n",
       "      <td>3.210000</td>\n",
       "      <td>0.510000</td>\n",
       "      <td>10.300000</td>\n",
       "      <td>6.000000</td>\n",
       "    </tr>\n",
       "    <tr>\n",
       "      <th>75%</th>\n",
       "      <td>7.700000</td>\n",
       "      <td>0.400000</td>\n",
       "      <td>0.390000</td>\n",
       "      <td>8.100000</td>\n",
       "      <td>0.065000</td>\n",
       "      <td>41.000000</td>\n",
       "      <td>156.000000</td>\n",
       "      <td>0.996990</td>\n",
       "      <td>3.320000</td>\n",
       "      <td>0.600000</td>\n",
       "      <td>11.300000</td>\n",
       "      <td>6.000000</td>\n",
       "    </tr>\n",
       "    <tr>\n",
       "      <th>max</th>\n",
       "      <td>15.900000</td>\n",
       "      <td>1.580000</td>\n",
       "      <td>1.660000</td>\n",
       "      <td>65.800000</td>\n",
       "      <td>0.611000</td>\n",
       "      <td>289.000000</td>\n",
       "      <td>440.000000</td>\n",
       "      <td>1.038980</td>\n",
       "      <td>4.010000</td>\n",
       "      <td>2.000000</td>\n",
       "      <td>14.900000</td>\n",
       "      <td>9.000000</td>\n",
       "    </tr>\n",
       "  </tbody>\n",
       "</table>\n",
       "</div>"
      ],
      "text/plain": [
       "       fixed acidity  volatile acidity  citric acid  residual sugar  \\\n",
       "count    6497.000000       6497.000000  6497.000000     6497.000000   \n",
       "mean        7.215307          0.339666     0.318633        5.443235   \n",
       "std         1.296434          0.164636     0.145318        4.757804   \n",
       "min         3.800000          0.080000     0.000000        0.600000   \n",
       "25%         6.400000          0.230000     0.250000        1.800000   \n",
       "50%         7.000000          0.290000     0.310000        3.000000   \n",
       "75%         7.700000          0.400000     0.390000        8.100000   \n",
       "max        15.900000          1.580000     1.660000       65.800000   \n",
       "\n",
       "         chlorides  free sulfur dioxide  total sulfur dioxide      density  \\\n",
       "count  6497.000000          6497.000000           6497.000000  6497.000000   \n",
       "mean      0.056034            30.525319            115.744574     0.994697   \n",
       "std       0.035034            17.749400             56.521855     0.002999   \n",
       "min       0.009000             1.000000              6.000000     0.987110   \n",
       "25%       0.038000            17.000000             77.000000     0.992340   \n",
       "50%       0.047000            29.000000            118.000000     0.994890   \n",
       "75%       0.065000            41.000000            156.000000     0.996990   \n",
       "max       0.611000           289.000000            440.000000     1.038980   \n",
       "\n",
       "                pH    sulphates      alcohol      quality  \n",
       "count  6497.000000  6497.000000  6497.000000  6497.000000  \n",
       "mean      3.218501     0.531268    10.491801     5.818378  \n",
       "std       0.160787     0.148806     1.192712     0.873255  \n",
       "min       2.720000     0.220000     8.000000     3.000000  \n",
       "25%       3.110000     0.430000     9.500000     5.000000  \n",
       "50%       3.210000     0.510000    10.300000     6.000000  \n",
       "75%       3.320000     0.600000    11.300000     6.000000  \n",
       "max       4.010000     2.000000    14.900000     9.000000  "
      ]
     },
     "execution_count": 12,
     "metadata": {},
     "output_type": "execute_result"
    }
   ],
   "source": [
    "wine.describe() #같은 열에 대해서 평균 카운트 값들 등등 알아서 계산해줌 각각의 피쳐를 알아서 계산해줌"
   ]
  },
  {
   "cell_type": "code",
   "execution_count": 13,
   "metadata": {},
   "outputs": [
    {
     "data": {
      "text/plain": [
       "array([5, 6, 7, 4, 8, 3, 9])"
      ]
     },
     "execution_count": 13,
     "metadata": {},
     "output_type": "execute_result"
    }
   ],
   "source": [
    "wine.quality.unique() #와인의 퀄리티값을 예측을 하고 싶기 때문에 유니크 등급은 몇개가 있는지 확인"
   ]
  },
  {
   "cell_type": "code",
   "execution_count": 14,
   "metadata": {},
   "outputs": [
    {
     "data": {
      "text/plain": [
       "6    2836\n",
       "5    2138\n",
       "7    1079\n",
       "4     216\n",
       "8     193\n",
       "3      30\n",
       "9       5\n",
       "Name: quality, dtype: int64"
      ]
     },
     "execution_count": 14,
     "metadata": {},
     "output_type": "execute_result"
    }
   ],
   "source": [
    "wine.quality.value_counts() #각각의 유니크 별로 값이 몇개 있는지 확인"
   ]
  },
  {
   "cell_type": "code",
   "execution_count": 16,
   "metadata": {},
   "outputs": [
    {
     "data": {
      "text/plain": [
       "<bound method SeriesGroupBy.describe of <pandas.core.groupby.generic.SeriesGroupBy object at 0x14fb343d0>>"
      ]
     },
     "execution_count": 16,
     "metadata": {},
     "output_type": "execute_result"
    }
   ],
   "source": [
    "wine.groupby('type')['quality'].describe #그룹별로 타입을 묶어서 퀄리티에 대한 여러 정보들을 보여줌 "
   ]
  },
  {
   "cell_type": "code",
   "execution_count": 17,
   "metadata": {},
   "outputs": [],
   "source": [
    "wine['type'] = wine['type'.replace('red','1')] #각각의 와인을 1과 0으로 치환을 해줌\n",
    "wine['type'] = wine['type'.replace('white','0')]"
   ]
  },
  {
   "cell_type": "code",
   "execution_count": 18,
   "metadata": {},
   "outputs": [
    {
     "name": "stdout",
     "output_type": "stream",
     "text": [
      "       type  fixed acidity  volatile acidity  citric acid  residual sugar  \\\n",
      "0       red            7.4              0.70         0.00             1.9   \n",
      "1       red            7.8              0.88         0.00             2.6   \n",
      "2       red            7.8              0.76         0.04             2.3   \n",
      "3       red           11.2              0.28         0.56             1.9   \n",
      "4       red            7.4              0.70         0.00             1.9   \n",
      "...     ...            ...               ...          ...             ...   \n",
      "6492  white            6.2              0.21         0.29             1.6   \n",
      "6493  white            6.6              0.32         0.36             8.0   \n",
      "6494  white            6.5              0.24         0.19             1.2   \n",
      "6495  white            5.5              0.29         0.30             1.1   \n",
      "6496  white            6.0              0.21         0.38             0.8   \n",
      "\n",
      "      chlorides  free sulfur dioxide  total sulfur dioxide  density    pH  \\\n",
      "0         0.076                 11.0                  34.0  0.99780  3.51   \n",
      "1         0.098                 25.0                  67.0  0.99680  3.20   \n",
      "2         0.092                 15.0                  54.0  0.99700  3.26   \n",
      "3         0.075                 17.0                  60.0  0.99800  3.16   \n",
      "4         0.076                 11.0                  34.0  0.99780  3.51   \n",
      "...         ...                  ...                   ...      ...   ...   \n",
      "6492      0.039                 24.0                  92.0  0.99114  3.27   \n",
      "6493      0.047                 57.0                 168.0  0.99490  3.15   \n",
      "6494      0.041                 30.0                 111.0  0.99254  2.99   \n",
      "6495      0.022                 20.0                 110.0  0.98869  3.34   \n",
      "6496      0.020                 22.0                  98.0  0.98941  3.26   \n",
      "\n",
      "      sulphates  alcohol  quality  \n",
      "0          0.56      9.4        5  \n",
      "1          0.68      9.8        5  \n",
      "2          0.65      9.8        5  \n",
      "3          0.58      9.8        6  \n",
      "4          0.56      9.4        5  \n",
      "...         ...      ...      ...  \n",
      "6492       0.50     11.2        6  \n",
      "6493       0.46      9.6        5  \n",
      "6494       0.46      9.4        6  \n",
      "6495       0.38     12.8        7  \n",
      "6496       0.32     11.8        6  \n",
      "\n",
      "[6497 rows x 13 columns]\n"
     ]
    }
   ],
   "source": [
    "print(wine)"
   ]
  },
  {
   "cell_type": "code",
   "execution_count": 19,
   "metadata": {},
   "outputs": [],
   "source": [
    "x = wine.drop(['quality'], axis=1) #퀄리티만 없앰 왜냐면 구하는 값이 퀄리티기 때문에\n",
    "y = wine['quality'] #이게 기본형태 리그레션 말고도 형태가 전부 비슷함"
   ]
  },
  {
   "cell_type": "code",
   "execution_count": 20,
   "metadata": {},
   "outputs": [
    {
     "name": "stdout",
     "output_type": "stream",
     "text": [
      "       type  fixed acidity  volatile acidity  citric acid  residual sugar  \\\n",
      "0       red            7.4              0.70         0.00             1.9   \n",
      "1       red            7.8              0.88         0.00             2.6   \n",
      "2       red            7.8              0.76         0.04             2.3   \n",
      "3       red           11.2              0.28         0.56             1.9   \n",
      "4       red            7.4              0.70         0.00             1.9   \n",
      "...     ...            ...               ...          ...             ...   \n",
      "6492  white            6.2              0.21         0.29             1.6   \n",
      "6493  white            6.6              0.32         0.36             8.0   \n",
      "6494  white            6.5              0.24         0.19             1.2   \n",
      "6495  white            5.5              0.29         0.30             1.1   \n",
      "6496  white            6.0              0.21         0.38             0.8   \n",
      "\n",
      "      chlorides  free sulfur dioxide  total sulfur dioxide  density    pH  \\\n",
      "0         0.076                 11.0                  34.0  0.99780  3.51   \n",
      "1         0.098                 25.0                  67.0  0.99680  3.20   \n",
      "2         0.092                 15.0                  54.0  0.99700  3.26   \n",
      "3         0.075                 17.0                  60.0  0.99800  3.16   \n",
      "4         0.076                 11.0                  34.0  0.99780  3.51   \n",
      "...         ...                  ...                   ...      ...   ...   \n",
      "6492      0.039                 24.0                  92.0  0.99114  3.27   \n",
      "6493      0.047                 57.0                 168.0  0.99490  3.15   \n",
      "6494      0.041                 30.0                 111.0  0.99254  2.99   \n",
      "6495      0.022                 20.0                 110.0  0.98869  3.34   \n",
      "6496      0.020                 22.0                  98.0  0.98941  3.26   \n",
      "\n",
      "      sulphates  alcohol  \n",
      "0          0.56      9.4  \n",
      "1          0.68      9.8  \n",
      "2          0.65      9.8  \n",
      "3          0.58      9.8  \n",
      "4          0.56      9.4  \n",
      "...         ...      ...  \n",
      "6492       0.50     11.2  \n",
      "6493       0.46      9.6  \n",
      "6494       0.46      9.4  \n",
      "6495       0.38     12.8  \n",
      "6496       0.32     11.8  \n",
      "\n",
      "[6497 rows x 12 columns]\n"
     ]
    }
   ],
   "source": [
    "print(x) #퀄리티 값만 빼고 출력"
   ]
  },
  {
   "cell_type": "code",
   "execution_count": 21,
   "metadata": {},
   "outputs": [
    {
     "name": "stdout",
     "output_type": "stream",
     "text": [
      "0       5\n",
      "1       5\n",
      "2       5\n",
      "3       6\n",
      "4       5\n",
      "       ..\n",
      "6492    6\n",
      "6493    5\n",
      "6494    6\n",
      "6495    7\n",
      "6496    6\n",
      "Name: quality, Length: 6497, dtype: int64\n"
     ]
    }
   ],
   "source": [
    "print(y) #y에는 퀄리티값만 알고 있음"
   ]
  },
  {
   "cell_type": "code",
   "execution_count": 22,
   "metadata": {},
   "outputs": [],
   "source": [
    "from sklearn.model_selection import train_test_split\n",
    "\n",
    "# Train : Test = 80 : 20\n",
    "x_train, x_test, y_train, y_test = train_test_split(x,y, test_size =0.2) #a무조건 해줘야되는! 실제 값과 테스트 값\n",
    "#구분을 안해주면 테스트값이 전부 잘나오기 떄문에 구분을 해줘야됨"
   ]
  },
  {
   "cell_type": "code",
   "execution_count": null,
   "metadata": {},
   "outputs": [],
   "source": [
    "from sklearn.linear_model import LinearRegression\n",
    "\n",
    "model = LinearRegression()\n",
    "model.fit(x_train, y_train)\n",
    "y_pred = model.predict(x_test)"
   ]
  }
 ],
 "metadata": {
  "kernelspec": {
   "display_name": "Python 3",
   "language": "python",
   "name": "python3"
  },
  "language_info": {
   "codemirror_mode": {
    "name": "ipython",
    "version": 3
   },
   "file_extension": ".py",
   "mimetype": "text/x-python",
   "name": "python",
   "nbconvert_exporter": "python",
   "pygments_lexer": "ipython3",
   "version": "3.11.2"
  },
  "orig_nbformat": 4
 },
 "nbformat": 4,
 "nbformat_minor": 2
}
