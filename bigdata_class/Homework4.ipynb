{
 "cells": [
  {
   "cell_type": "code",
   "execution_count": 37,
   "metadata": {},
   "outputs": [
    {
     "name": "stdout",
     "output_type": "stream",
     "text": [
      "Requirement already satisfied: six in /Library/Frameworks/Python.framework/Versions/3.11/lib/python3.11/site-packages (1.16.0)\n",
      "Note: you may need to restart the kernel to use updated packages.\n"
     ]
    }
   ],
   "source": [
    "%pip install --upgrade six\n"
   ]
  },
  {
   "cell_type": "code",
   "execution_count": 39,
   "metadata": {},
   "outputs": [
    {
     "name": "stdout",
     "output_type": "stream",
     "text": [
      "      fixed acidity  volatile acidity  citric acid  residual sugar  chlorides  \\\n",
      "0               7.4              0.70         0.00             1.9      0.076   \n",
      "1               7.8              0.88         0.00             2.6      0.098   \n",
      "2               7.8              0.76         0.04             2.3      0.092   \n",
      "3              11.2              0.28         0.56             1.9      0.075   \n",
      "4               7.4              0.70         0.00             1.9      0.076   \n",
      "...             ...               ...          ...             ...        ...   \n",
      "6492            6.2              0.21         0.29             1.6      0.039   \n",
      "6493            6.6              0.32         0.36             8.0      0.047   \n",
      "6494            6.5              0.24         0.19             1.2      0.041   \n",
      "6495            5.5              0.29         0.30             1.1      0.022   \n",
      "6496            6.0              0.21         0.38             0.8      0.020   \n",
      "\n",
      "      free sulfur dioxide  total sulfur dioxide  density    pH  sulphates  \\\n",
      "0                    11.0                  34.0  0.99780  3.51       0.56   \n",
      "1                    25.0                  67.0  0.99680  3.20       0.68   \n",
      "2                    15.0                  54.0  0.99700  3.26       0.65   \n",
      "3                    17.0                  60.0  0.99800  3.16       0.58   \n",
      "4                    11.0                  34.0  0.99780  3.51       0.56   \n",
      "...                   ...                   ...      ...   ...        ...   \n",
      "6492                 24.0                  92.0  0.99114  3.27       0.50   \n",
      "6493                 57.0                 168.0  0.99490  3.15       0.46   \n",
      "6494                 30.0                 111.0  0.99254  2.99       0.46   \n",
      "6495                 20.0                 110.0  0.98869  3.34       0.38   \n",
      "6496                 22.0                  98.0  0.98941  3.26       0.32   \n",
      "\n",
      "      alcohol  quality  \n",
      "0         9.4        5  \n",
      "1         9.8        5  \n",
      "2         9.8        5  \n",
      "3         9.8        6  \n",
      "4         9.4        5  \n",
      "...       ...      ...  \n",
      "6492     11.2        6  \n",
      "6493      9.6        5  \n",
      "6494      9.4        6  \n",
      "6495     12.8        7  \n",
      "6496     11.8        6  \n",
      "\n",
      "[6497 rows x 12 columns]\n"
     ]
    }
   ],
   "source": [
    "import pandas as pd\n",
    "from sklearn import datasets\n",
    "from sklearn.linear_model import LogisticRegression\n",
    "from sklearn.model_selection import train_test_split\n",
    "import numpy as np\n",
    "\n",
    "# \";\"을 기준으로 컬럼을 구분하여 csv파일을 읽고 변수에 저장\n",
    "red_df = pd.read_csv(\"./winequality-red.csv\", sep=\";\")\n",
    "white_df = pd.read_csv(\"./winequality-white.csv\", sep=\";\")\n",
    "# 타입을 레드 기준으로 정렬, 첫번째 인수 0은 인덱스, 삽입할 새 열의 이름, 새 열에 삽입할 값\n",
    "red_df.insert(0, column='type', value='red')\n",
    "# 결과적으로 red 와인이라는 것을 라벨링하기 위한 작업\n",
    "# white_df.insert(0, column='type', value='white')\n",
    "# ignore_index=True으로 인덱스를 무시하고,\n",
    "wine = pd.concat([red_df, white_df], ignore_index=True)\n",
    "\n",
    "# wine['type'] = wine['type'].replace('red','1')\n",
    "# wine['type'] = wine['type'].replace('white','0')\n",
    "# type' 열에 있는 값을 대체합니다. 첫 번째 줄은 'type' 열에 있는 'red'의 모든 인스턴스를 값 '1'로 바꾸고\n",
    "# 두 번째 줄은 'type' 열에 있는 'white'의 모든 인스턴스를 값 '0'으로 바꿉니다. 이는 일반적으로 범주형 데이터를 수치 데이터로 변환하기 위해 수행\n",
    "\n",
    "# 와인의 대한 분류는 굳이 필요 없으므로 삭제 red, white 하나의 데이터 프레임으로 만듬\n",
    "x_data = wine.iloc[:, 1:]\n",
    "\n",
    "y_data = wine.iloc[:, -1]  # 퀄리티에 대한 값만 저장\n",
    "\n",
    "print(x_data)\n",
    "\n",
    "# wine quality 값이 5보다 작으면 0,  5보다 크거나 같으면 1로 값 변경.\n",
    "\n",
    "y_data = np.array([1 if i >= 5 else 0 for i in y_data])\n",
    "\n",
    "x_data.head(5)\n",
    "\n",
    "train_x, test_x, train_y, test_y = train_test_split(\n",
    "    x_data, y_data, test_size=0.3) #70:30 비율로 나눔"
   ]
  },
  {
   "cell_type": "code",
   "execution_count": null,
   "metadata": {},
   "outputs": [],
   "source": []
  }
 ],
 "metadata": {
  "kernelspec": {
   "display_name": "Python 3",
   "language": "python",
   "name": "python3"
  },
  "language_info": {
   "codemirror_mode": {
    "name": "ipython",
    "version": 3
   },
   "file_extension": ".py",
   "mimetype": "text/x-python",
   "name": "python",
   "nbconvert_exporter": "python",
   "pygments_lexer": "ipython3",
   "version": "3.11.2"
  },
  "orig_nbformat": 4
 },
 "nbformat": 4,
 "nbformat_minor": 2
}
