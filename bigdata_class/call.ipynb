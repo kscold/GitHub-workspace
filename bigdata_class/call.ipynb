{
 "cells": [
  {
   "cell_type": "code",
   "execution_count": 61,
   "metadata": {},
   "outputs": [
    {
     "name": "stdout",
     "output_type": "stream",
     "text": [
      "output.csv 추출완료\n"
     ]
    }
   ],
   "source": [
    "import requests\n",
    "from bs4 import BeautifulSoup\n",
    "import csv\n",
    "\n",
    "url = \"https://www.youthcenter.go.kr/youngPlcyUnif/youngPlcyUnifDtl.do?pageIndex=1&frameYn=&bizId=R2023040609200&dtlOpenYn=&plcyTpOpenTy=&srchWord=&chargerOrgCdAll=&srchTermMm=1&srchAge=&trgtJynEmp=&trgtJ ynEmp=&srchSortOrder=4&pageUnit=12\"\n",
    "response = requests.get(url)\n",
    "\n",
    "soup = BeautifulSoup(response.content, 'html.parser')\n",
    "\n",
    "data_boxes = soup.find_all('div', {'class': ['list_tit', 'list_cont']})\n",
    "\n",
    "data_list = []\n",
    "\n",
    "for i in range(0, len(data_boxes), 2):\n",
    "    title = data_boxes[i].text.strip()\n",
    "    content = data_boxes[i+1].text.strip()\n",
    "    data_list.append([title, content])\n",
    "\n",
    "with open('output.csv', mode='w', encoding='utf-8', newline='') as file:\n",
    "    writer = csv.writer(file)\n",
    "    writer.writerows(data_list)\n",
    "    \n",
    "print(\"output.csv 추출완료\")\n",
    "\n"
   ]
  },
  {
   "cell_type": "code",
   "execution_count": 62,
   "metadata": {},
   "outputs": [
    {
     "name": "stdout",
     "output_type": "stream",
     "text": [
      "          0                       1\n",
      "7  거주지 및 소득  광진구 내 소기업, 소상공인, 청년창업가\n",
      "           0                                 1\n",
      "12  추가 단서 사항  광진구 내 사업장을 두고 영업한 지 3개월 지난 자에 한함\n",
      "           0  1\n",
      "13  참여 제한 대상  -\n"
     ]
    }
   ],
   "source": [
    "import pandas as pd\n",
    "\n",
    "df = pd.read_csv('output.csv', header=None)\n",
    "\n",
    "df_residence = df[df[0].str.contains(\"거주지 및 소득\")]\n",
    "print(df_residence)\n",
    "\n",
    "df_clues = df[df[0].str.contains(\"추가 단서 사항\")]\n",
    "print(df_clues)\n",
    "\n",
    "df_restrict = df[df[0].str.contains(\"참여 제한 대상\")]\n",
    "print(df_restrict)\n",
    "\n"
   ]
  }
 ],
 "metadata": {
  "kernelspec": {
   "display_name": "Python 3",
   "language": "python",
   "name": "python3"
  },
  "language_info": {
   "codemirror_mode": {
    "name": "ipython",
    "version": 3
   },
   "file_extension": ".py",
   "mimetype": "text/x-python",
   "name": "python",
   "nbconvert_exporter": "python",
   "pygments_lexer": "ipython3",
   "version": "3.11.2"
  },
  "orig_nbformat": 4
 },
 "nbformat": 4,
 "nbformat_minor": 2
}
