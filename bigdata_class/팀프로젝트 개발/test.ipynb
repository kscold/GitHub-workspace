{
 "cells": [
  {
   "cell_type": "code",
   "execution_count": 3,
   "metadata": {},
   "outputs": [],
   "source": [
    "\n",
    "import requests\n",
    "from bs4 import BeautifulSoup\n",
    "import pandas as pd\n",
    "\n",
    "HOT_PLACES = ['강남 MICE 관광특구', '동대문 관광특구', '명동 관광특구', '이태원 관광특구', '잠실 관광특구', '종로·청계 관광특구', \\\n",
    "              '홍대 관광특구', '경복궁·서촌마을', '광화문·덕수궁', '창덕궁·종묘', '가산디지털단지역', '강남역', '건대입구역', \\\n",
    "              '고속터미널역', '교대역', '구로디지털단지역', '서울역', '선릉역', '신도림역', '신림역', '신촌·이대역', '역삼역', \\\n",
    "              '연신내역', '용산역', '왕십리역', 'DMC(디지털미디어시티)', '창동 신경제 중심지', '노량진', '낙산공원·이화마을', \\\n",
    "              '북촌한옥마을', '가로수길', '성수카페거리', '수유리 먹자골목', '쌍문동 맛집거리', '압구정로데오거리', '여의도', \\\n",
    "              '영등포 타임스퀘어', '인사동·익선동', '국립중앙박물관·용산가족공원', '남산공원', '뚝섬한강공원', '망원한강공원', \\\n",
    "              '반포한강공원', '북서울꿈의숲', '서울대공원', '서울숲공원', '월드컵공원', '이촌한강공원', '잠실종합운동장', '잠실한강공원']\n",
    "\n",
    "\n",
    "API_KEY = \"6b55696a7173633435394153694358\"\n",
    "datas = []\n",
    "for hot in HOT_PLACES:\n",
    "    url = f\"http://openapi.seoul.go.kr:8088/{API_KEY}/xml/citydata/1/5/{hot}\"\n",
    "    \n",
    "    response = requests.get(url)\n",
    "    soup = BeautifulSoup(response.text, \"html\")\n",
    "    items = soup.find_all(\"citydata\")\n",
    "    \n",
    "    #print(items)\n",
    "    \n",
    "    for item in items:\n",
    "        area_nm = item.find(\"area_nm\").get_text() # 핫스팟 장소명\n",
    "        live_ppltn_stts = item.find(\"live_ppltn_stts\").get_text() # 실시간 인구현황\n",
    "        area_congest_lvl = item.find(\"area_congest_lvl\").get_text() # 장소 혼잡도 지표\n",
    "        area_congest_msg = item.find(\"area_congest_msg\").get_text() # 장소 혼잡도 지표 관련 메세지\n",
    "        road_traffic_idx = item.find(\"road_traffic_idx\").get_text() #전체 도로 소통 평균 현황\n",
    "        \n",
    "        data = [area_nm, live_ppltn_stts, area_congest_lvl, area_congest_msg, road_traffic_idx]\n",
    "        datas.append(data)"
   ]
  },
  {
   "cell_type": "code",
   "execution_count": 5,
   "metadata": {},
   "outputs": [
    {
     "data": {
      "text/plain": [
       "['잠실한강공원',\n",
       " '여유사람이 몰려있을 가능성이 낮고 붐빔은 거의 느껴지지 않아요. 도보 이동이 자유로워요.3500400051.748.30.68.114.020.322.418.610.65.39.190.9N2023-05-02 18:45',\n",
       " '여유',\n",
       " '사람이 몰려있을 가능성이 낮고 붐빔은 거의 느껴지지 않아요. 도보 이동이 자유로워요.',\n",
       " '원활']"
      ]
     },
     "execution_count": 5,
     "metadata": {},
     "output_type": "execute_result"
    }
   ],
   "source": [
    "data"
   ]
  }
 ],
 "metadata": {
  "kernelspec": {
   "display_name": "Python 3",
   "language": "python",
   "name": "python3"
  },
  "language_info": {
   "codemirror_mode": {
    "name": "ipython",
    "version": 3
   },
   "file_extension": ".py",
   "mimetype": "text/x-python",
   "name": "python",
   "nbconvert_exporter": "python",
   "pygments_lexer": "ipython3",
   "version": "3.11.2"
  },
  "orig_nbformat": 4
 },
 "nbformat": 4,
 "nbformat_minor": 2
}
