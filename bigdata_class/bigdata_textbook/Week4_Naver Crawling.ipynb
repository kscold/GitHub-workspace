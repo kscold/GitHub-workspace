{
 "cells": [
  {
   "cell_type": "code",
   "execution_count": 4,
   "metadata": {},
   "outputs": [
    {
     "name": "stdout",
     "output_type": "stream",
     "text": [
      "{\n",
      "\t\"lastBuildDate\":\"Thu, 30 Mar 2023 20:13:29 +0900\",\n",
      "\t\"total\":87567,\n",
      "\t\"start\":1,\n",
      "\t\"display\":10,\n",
      "\t\"items\":[\n",
      "\t\t{\n",
      "\t\t\t\"title\":\"최고의 ‘화이트햇’ 해커 양성! BoB 11기 인증식 개최\",\n",
      "\t\t\t\"originallink\":\"https:\\/\\/www.ilyosisa.co.kr\\/news\\/article.html?no=238855\",\n",
      "\t\t\t\"link\":\"https:\\/\\/www.ilyosisa.co.kr\\/news\\/article.html?no=238855\",\n",
      "\t\t\t\"description\":\"특별상으로는 한국정보보호학회장상에 정경재 교육생(<b>상명대<\\/b>학교), 한국정보보호산업협회장상에 정현구 교육생(악성코드검거단), 코리아사이버보안연합 이사장상에 김재환 교육생(우석<b>대학교)<\\/b>이 각각... \",\n",
      "\t\t\t\"pubDate\":\"Thu, 30 Mar 2023 19:30:00 +0900\"\n",
      "\t\t},\n",
      "\t\t{\n",
      "\t\t\t\"title\":\"&quot;맛집이네요&quot;…대출시 한도·금리 가점 받는다\",\n",
      "\t\t\t\"originallink\":\"https:\\/\\/biz.sbs.co.kr\\/article_hub\\/20000110907?division=NAVER\",\n",
      "\t\t\t\"link\":\"https:\\/\\/n.news.naver.com\\/mnews\\/article\\/374\\/0000329544?sid=101\",\n",
      "\t\t\t\"description\":\"[서지용 \\/ <b>상명대<\\/b> 경영학부 교수: 정부가 운영하는 공공 시스템, 인프라에서 다양한 (정보를) CB 사업자한테 제공하면 저신용 차주에 대한 금융 지원을 원활하게 할 수 있죠. 정책 당국의 협조가 절실한 상황이라고 봅니다.]... \",\n",
      "\t\t\t\"pubDate\":\"Thu, 30 Mar 2023 18:14:00 +0900\"\n",
      "\t\t},\n",
      "\t\t{\n",
      "\t\t\t\"title\":\"고양파주갤러리 &apos;故이인화화백 5주기 추모전시회 개최&apos;\",\n",
      "\t\t\t\"originallink\":\"https:\\/\\/www.mhns.co.kr\\/news\\/articleView.html?idxno=550559\",\n",
      "\t\t\t\"link\":\"https:\\/\\/www.mhns.co.kr\\/news\\/articleView.html?idxno=550559\",\n",
      "\t\t\t\"description\":\"또한 홍익<b>대학교<\\/b> 미술대학, 홍익<b>대학교<\\/b> 교육대학원, 청주<b>대학교<\\/b> 예술대학, <b>상명대<\\/b>학교, 효성여자<b>대학교<\\/b>, 목원<b>대학교<\\/b> 등에서 교수로서 후진양성을 위해 최선을 다하는등 다양한 활동을 했던 교육자이기도 하다.... \",\n",
      "\t\t\t\"pubDate\":\"Thu, 30 Mar 2023 17:48:00 +0900\"\n",
      "\t\t},\n",
      "\t\t{\n",
      "\t\t\t\"title\":\"KT, 경영공백…신사업 추진동력 떨어지나\",\n",
      "\t\t\t\"originallink\":\"http:\\/\\/www.srtimes.kr\\/news\\/articleView.html?idxno=133003\",\n",
      "\t\t\t\"link\":\"http:\\/\\/www.srtimes.kr\\/news\\/articleView.html?idxno=133003\",\n",
      "\t\t\t\"description\":\"서지용 <b>상명대<\\/b>학교 교수(경영학부)는 &quot;신사업 추진력이 약해질 것으로 보이고 기존 사업에서도 혼선을... 신민수 한양<b>대학교<\\/b> 교수(경영학부)는 &quot;네트워크 확장만으로 기업을 키울 수 있는 시대는 지났다&quot;며... \",\n",
      "\t\t\t\"pubDate\":\"Thu, 30 Mar 2023 17:30:00 +0900\"\n",
      "\t\t},\n",
      "\t\t{\n",
      "\t\t\t\"title\":\"반도체업계, K칩스법 &apos;환영&apos;…&quot;남은 과제는 중견·중소 기업 지원과 인력양성...\",\n",
      "\t\t\t\"originallink\":\"http:\\/\\/www.newspim.com\\/news\\/view\\/20230330000874\",\n",
      "\t\t\t\"link\":\"http:\\/\\/www.newspim.com\\/news\\/view\\/20230330000874\",\n",
      "\t\t\t\"description\":\"이종환 <b>상명대<\\/b> 시스템반도체공학과 교수는 &quot;K칩스법을 시작으로 이번 기회에 반도체 생태계에 대해 세밀하게 살펴보는 전환점이 되었으면 좋겠다&quot;며 &quot;인력 양성 인프라 투자도 절대적&quot;이라고 지적했다. 그는 &quot;반도체... \",\n",
      "\t\t\t\"pubDate\":\"Thu, 30 Mar 2023 16:29:00 +0900\"\n",
      "\t\t},\n",
      "\t\t{\n",
      "\t\t\t\"title\":\"지능형로봇 혁신융합대학, 로봇기업 취업 연계 프로그램 운영\",\n",
      "\t\t\t\"originallink\":\"http:\\/\\/www.digitaltoday.co.kr\\/news\\/articleView.html?idxno=472942\",\n",
      "\t\t\t\"link\":\"http:\\/\\/www.digitaltoday.co.kr\\/news\\/articleView.html?idxno=472942\",\n",
      "\t\t\t\"description\":\"올해 첨단분야 혁신융합대학사업의 하나로 새롭게 진행하는 이 프로그램은 교육부와 한국연구재단이 지원하는 지능형로봇 혁신융합대학에 선정된 광운대, 부경대, <b>상명대<\\/b>, 영진전문대, 조선대, 한국공대, 한양대 ERICA 등... \",\n",
      "\t\t\t\"pubDate\":\"Thu, 30 Mar 2023 16:16:00 +0900\"\n",
      "\t\t},\n",
      "\t\t{\n",
      "\t\t\t\"title\":\"한양대 ERICA캠퍼스, 구직자-로봇기업 취업 연계 프로그램 운영\",\n",
      "\t\t\t\"originallink\":\"https:\\/\\/news.unn.net\\/news\\/articleView.html?idxno=544227\",\n",
      "\t\t\t\"link\":\"https:\\/\\/news.unn.net\\/news\\/articleView.html?idxno=544227\",\n",
      "\t\t\t\"description\":\"올해 첨단분야 혁신융합대학사업의 하나로 새롭게 진행하는 이 프로그램은 교육부와 한국연구재단이 지원하는 지능형로봇 혁신융합대학에 선정된 광운대, 부경대, <b>상명대<\\/b>, 영진전문대, 조선대, 한국공대, 한양대 ERICA 등... \",\n",
      "\t\t\t\"pubDate\":\"Thu, 30 Mar 2023 15:26:00 +0900\"\n",
      "\t\t},\n",
      "\t\t{\n",
      "\t\t\t\"title\":\"누누티비 논란에도 “다른 데서 보면 돼”…5조원대 피해 육박[사건 Zoom In]\",\n",
      "\t\t\t\"originallink\":\"https:\\/\\/www.donga.com\\/news\\/Society\\/article\\/all\\/20230330\\/118599159\\/1\",\n",
      "\t\t\t\"link\":\"https:\\/\\/n.news.naver.com\\/mnews\\/article\\/020\\/0003488507?sid=102\",\n",
      "\t\t\t\"description\":\"김경숙 <b>상명대<\\/b> 지적재산권전공 교수는 “해외에 서버를 둔 불법 사이트의 경우 정부나 수사기관에서 긴밀한 국제 공조를 통해서라도 운영자를 붙잡아 처벌하는 게 중요하다”며 “반드시 처벌한다는 선례를 보여줘야... \",\n",
      "\t\t\t\"pubDate\":\"Thu, 30 Mar 2023 15:05:00 +0900\"\n",
      "\t\t},\n",
      "\t\t{\n",
      "\t\t\t\"title\":\"[KT 대표 공백 사태] &quot;박종욱 대행체제, 인정 못 받을 것&quot;...5개월 공백 어떡...\",\n",
      "\t\t\t\"originallink\":\"http:\\/\\/www.greened.kr\\/news\\/articleView.html?idxno=302171\",\n",
      "\t\t\t\"link\":\"http:\\/\\/www.greened.kr\\/news\\/articleView.html?idxno=302171\",\n",
      "\t\t\t\"description\":\"KT 임원 출신 한영도 <b>상명대<\\/b> 경영경제대학 교수는 &lt;녹색경제신문&gt;에 &quot;회사가 대행체제로 간다지만 이는 인정받는 대응책이 아니다. 박종욱 사장은 지금의 KT 사태를 일으킨 의사결정에 깊이 관여했던 사람&quot;이라며, &quot;이는... \",\n",
      "\t\t\t\"pubDate\":\"Thu, 30 Mar 2023 13:17:00 +0900\"\n",
      "\t\t},\n",
      "\t\t{\n",
      "\t\t\t\"title\":\"북천안자이 포레스트, 천안 도심 전셋값으로 3월말 분양\",\n",
      "\t\t\t\"originallink\":\"https:\\/\\/economist.co.kr\\/article\\/view\\/ecn202303300020\",\n",
      "\t\t\t\"link\":\"https:\\/\\/n.news.naver.com\\/mnews\\/article\\/243\\/0000042592?sid=101\",\n",
      "\t\t\t\"description\":\"이 외에도 성거초, 충남예술고, 성거도서관, 단국대∙<b>상명대<\\/b>∙호서대 천안캠퍼스, 백석<b>대학교<\\/b> 등 교육시설도 풍부하다. 여기에 성거산 등산로와 계곡 유원지, 태조산 각원사, 성거산 만일사, 천흥저수지 등이 가까워... \",\n",
      "\t\t\t\"pubDate\":\"Thu, 30 Mar 2023 11:00:00 +0900\"\n",
      "\t\t}\n",
      "\t]\n",
      "}\n"
     ]
    }
   ],
   "source": [
    "import os\n",
    "import sys\n",
    "import urllib.request\n",
    "import ssl\n",
    "client_id = \"VVrSb7DXLYUr2IRlQNSU\"\n",
    "client_secret = \"pJSQFrP13Z\"\n",
    "encText = urllib.parse.quote(\"상명대학교\")\n",
    "\n",
    "url = \"https://openapi.naver.com/v1/search/news?query=\" + encText # JSON 결과\n",
    "# url = \"https://openapi.naver.com/v1/search/blog.xml?query=\" + encText # XML 결과\n",
    "request = urllib.request.Request(url)\n",
    "request.add_header(\"X-Naver-Client-Id\",client_id)\n",
    "request.add_header(\"X-Naver-Client-Secret\",client_secret)\n",
    "context = ssl._create_unverified_context()\n",
    "response = urllib.request.urlopen(request, context=context)\n",
    "rescode = response.getcode()\n",
    "if(rescode==200):\n",
    "    response_body = response.read()\n",
    "    print(response_body.decode('utf-8'))\n",
    "else:\n",
    "    print(\"Error Code:\" + rescode)"
   ]
  },
  {
   "cell_type": "code",
   "execution_count": 5,
   "metadata": {},
   "outputs": [
    {
     "name": "stdout",
     "output_type": "stream",
     "text": [
      "<class 'str'>\n"
     ]
    }
   ],
   "source": [
    "result = response_body.decode('utf-8')\n",
    "print (type(result))"
   ]
  },
  {
   "cell_type": "code",
   "execution_count": 6,
   "metadata": {},
   "outputs": [],
   "source": [
    "import pandas as pd\n",
    "import json"
   ]
  },
  {
   "cell_type": "code",
   "execution_count": 29,
   "metadata": {},
   "outputs": [
    {
     "name": "stdout",
     "output_type": "stream",
     "text": [
      "<class 'dict'>\n"
     ]
    }
   ],
   "source": [
    "news_result = json.loads(result)\n",
    "print (news_result)"
   ]
  },
  {
   "cell_type": "code",
   "execution_count": 10,
   "metadata": {},
   "outputs": [
    {
     "name": "stdout",
     "output_type": "stream",
     "text": [
      "{'lastBuildDate': 'Thu, 30 Mar 2023 20:13:29 +0900', 'total': 87567, 'start': 1, 'display': 10, 'items': [{'title': '최고의 ‘화이트햇’ 해커 양성! BoB 11기 인증식 개최', 'originallink': 'https://www.ilyosisa.co.kr/news/article.html?no=238855', 'link': 'https://www.ilyosisa.co.kr/news/article.html?no=238855', 'description': '특별상으로는 한국정보보호학회장상에 정경재 교육생(<b>상명대</b>학교), 한국정보보호산업협회장상에 정현구 교육생(악성코드검거단), 코리아사이버보안연합 이사장상에 김재환 교육생(우석<b>대학교)</b>이 각각... ', 'pubDate': 'Thu, 30 Mar 2023 19:30:00 +0900'}, {'title': '&quot;맛집이네요&quot;…대출시 한도·금리 가점 받는다', 'originallink': 'https://biz.sbs.co.kr/article_hub/20000110907?division=NAVER', 'link': 'https://n.news.naver.com/mnews/article/374/0000329544?sid=101', 'description': '[서지용 / <b>상명대</b> 경영학부 교수: 정부가 운영하는 공공 시스템, 인프라에서 다양한 (정보를) CB 사업자한테 제공하면 저신용 차주에 대한 금융 지원을 원활하게 할 수 있죠. 정책 당국의 협조가 절실한 상황이라고 봅니다.]... ', 'pubDate': 'Thu, 30 Mar 2023 18:14:00 +0900'}, {'title': '고양파주갤러리 &apos;故이인화화백 5주기 추모전시회 개최&apos;', 'originallink': 'https://www.mhns.co.kr/news/articleView.html?idxno=550559', 'link': 'https://www.mhns.co.kr/news/articleView.html?idxno=550559', 'description': '또한 홍익<b>대학교</b> 미술대학, 홍익<b>대학교</b> 교육대학원, 청주<b>대학교</b> 예술대학, <b>상명대</b>학교, 효성여자<b>대학교</b>, 목원<b>대학교</b> 등에서 교수로서 후진양성을 위해 최선을 다하는등 다양한 활동을 했던 교육자이기도 하다.... ', 'pubDate': 'Thu, 30 Mar 2023 17:48:00 +0900'}, {'title': 'KT, 경영공백…신사업 추진동력 떨어지나', 'originallink': 'http://www.srtimes.kr/news/articleView.html?idxno=133003', 'link': 'http://www.srtimes.kr/news/articleView.html?idxno=133003', 'description': '서지용 <b>상명대</b>학교 교수(경영학부)는 &quot;신사업 추진력이 약해질 것으로 보이고 기존 사업에서도 혼선을... 신민수 한양<b>대학교</b> 교수(경영학부)는 &quot;네트워크 확장만으로 기업을 키울 수 있는 시대는 지났다&quot;며... ', 'pubDate': 'Thu, 30 Mar 2023 17:30:00 +0900'}, {'title': '반도체업계, K칩스법 &apos;환영&apos;…&quot;남은 과제는 중견·중소 기업 지원과 인력양성...', 'originallink': 'http://www.newspim.com/news/view/20230330000874', 'link': 'http://www.newspim.com/news/view/20230330000874', 'description': '이종환 <b>상명대</b> 시스템반도체공학과 교수는 &quot;K칩스법을 시작으로 이번 기회에 반도체 생태계에 대해 세밀하게 살펴보는 전환점이 되었으면 좋겠다&quot;며 &quot;인력 양성 인프라 투자도 절대적&quot;이라고 지적했다. 그는 &quot;반도체... ', 'pubDate': 'Thu, 30 Mar 2023 16:29:00 +0900'}, {'title': '지능형로봇 혁신융합대학, 로봇기업 취업 연계 프로그램 운영', 'originallink': 'http://www.digitaltoday.co.kr/news/articleView.html?idxno=472942', 'link': 'http://www.digitaltoday.co.kr/news/articleView.html?idxno=472942', 'description': '올해 첨단분야 혁신융합대학사업의 하나로 새롭게 진행하는 이 프로그램은 교육부와 한국연구재단이 지원하는 지능형로봇 혁신융합대학에 선정된 광운대, 부경대, <b>상명대</b>, 영진전문대, 조선대, 한국공대, 한양대 ERICA 등... ', 'pubDate': 'Thu, 30 Mar 2023 16:16:00 +0900'}, {'title': '한양대 ERICA캠퍼스, 구직자-로봇기업 취업 연계 프로그램 운영', 'originallink': 'https://news.unn.net/news/articleView.html?idxno=544227', 'link': 'https://news.unn.net/news/articleView.html?idxno=544227', 'description': '올해 첨단분야 혁신융합대학사업의 하나로 새롭게 진행하는 이 프로그램은 교육부와 한국연구재단이 지원하는 지능형로봇 혁신융합대학에 선정된 광운대, 부경대, <b>상명대</b>, 영진전문대, 조선대, 한국공대, 한양대 ERICA 등... ', 'pubDate': 'Thu, 30 Mar 2023 15:26:00 +0900'}, {'title': '누누티비 논란에도 “다른 데서 보면 돼”…5조원대 피해 육박[사건 Zoom In]', 'originallink': 'https://www.donga.com/news/Society/article/all/20230330/118599159/1', 'link': 'https://n.news.naver.com/mnews/article/020/0003488507?sid=102', 'description': '김경숙 <b>상명대</b> 지적재산권전공 교수는 “해외에 서버를 둔 불법 사이트의 경우 정부나 수사기관에서 긴밀한 국제 공조를 통해서라도 운영자를 붙잡아 처벌하는 게 중요하다”며 “반드시 처벌한다는 선례를 보여줘야... ', 'pubDate': 'Thu, 30 Mar 2023 15:05:00 +0900'}, {'title': '[KT 대표 공백 사태] &quot;박종욱 대행체제, 인정 못 받을 것&quot;...5개월 공백 어떡...', 'originallink': 'http://www.greened.kr/news/articleView.html?idxno=302171', 'link': 'http://www.greened.kr/news/articleView.html?idxno=302171', 'description': 'KT 임원 출신 한영도 <b>상명대</b> 경영경제대학 교수는 &lt;녹색경제신문&gt;에 &quot;회사가 대행체제로 간다지만 이는 인정받는 대응책이 아니다. 박종욱 사장은 지금의 KT 사태를 일으킨 의사결정에 깊이 관여했던 사람&quot;이라며, &quot;이는... ', 'pubDate': 'Thu, 30 Mar 2023 13:17:00 +0900'}, {'title': '북천안자이 포레스트, 천안 도심 전셋값으로 3월말 분양', 'originallink': 'https://economist.co.kr/article/view/ecn202303300020', 'link': 'https://n.news.naver.com/mnews/article/243/0000042592?sid=101', 'description': '이 외에도 성거초, 충남예술고, 성거도서관, 단국대∙<b>상명대</b>∙호서대 천안캠퍼스, 백석<b>대학교</b> 등 교육시설도 풍부하다. 여기에 성거산 등산로와 계곡 유원지, 태조산 각원사, 성거산 만일사, 천흥저수지 등이 가까워... ', 'pubDate': 'Thu, 30 Mar 2023 11:00:00 +0900'}]}\n"
     ]
    }
   ],
   "source": [
    "news_result = json.loads(result)\n",
    "print (news_result)\n",
    "df = pd.DataFrame(news_result['items'])"
   ]
  },
  {
   "cell_type": "code",
   "execution_count": 11,
   "metadata": {},
   "outputs": [
    {
     "name": "stdout",
     "output_type": "stream",
     "text": [
      "                                               title  \\\n",
      "0                   최고의 ‘화이트햇’ 해커 양성! BoB 11기 인증식 개최   \n",
      "1                 &quot;맛집이네요&quot;…대출시 한도·금리 가점 받는다   \n",
      "2            고양파주갤러리 &apos;故이인화화백 5주기 추모전시회 개최&apos;   \n",
      "3                             KT, 경영공백…신사업 추진동력 떨어지나   \n",
      "4  반도체업계, K칩스법 &apos;환영&apos;…&quot;남은 과제는 중견·중소 ...   \n",
      "5                   지능형로봇 혁신융합대학, 로봇기업 취업 연계 프로그램 운영   \n",
      "6               한양대 ERICA캠퍼스, 구직자-로봇기업 취업 연계 프로그램 운영   \n",
      "7      누누티비 논란에도 “다른 데서 보면 돼”…5조원대 피해 육박[사건 Zoom In]   \n",
      "8  [KT 대표 공백 사태] &quot;박종욱 대행체제, 인정 못 받을 것&quot;....   \n",
      "9                     북천안자이 포레스트, 천안 도심 전셋값으로 3월말 분양   \n",
      "\n",
      "                                        originallink  \\\n",
      "0  https://www.ilyosisa.co.kr/news/article.html?n...   \n",
      "1  https://biz.sbs.co.kr/article_hub/20000110907?...   \n",
      "2  https://www.mhns.co.kr/news/articleView.html?i...   \n",
      "3  http://www.srtimes.kr/news/articleView.html?id...   \n",
      "4    http://www.newspim.com/news/view/20230330000874   \n",
      "5  http://www.digitaltoday.co.kr/news/articleView...   \n",
      "6  https://news.unn.net/news/articleView.html?idx...   \n",
      "7  https://www.donga.com/news/Society/article/all...   \n",
      "8  http://www.greened.kr/news/articleView.html?id...   \n",
      "9  https://economist.co.kr/article/view/ecn202303...   \n",
      "\n",
      "                                                link  \\\n",
      "0  https://www.ilyosisa.co.kr/news/article.html?n...   \n",
      "1  https://n.news.naver.com/mnews/article/374/000...   \n",
      "2  https://www.mhns.co.kr/news/articleView.html?i...   \n",
      "3  http://www.srtimes.kr/news/articleView.html?id...   \n",
      "4    http://www.newspim.com/news/view/20230330000874   \n",
      "5  http://www.digitaltoday.co.kr/news/articleView...   \n",
      "6  https://news.unn.net/news/articleView.html?idx...   \n",
      "7  https://n.news.naver.com/mnews/article/020/000...   \n",
      "8  http://www.greened.kr/news/articleView.html?id...   \n",
      "9  https://n.news.naver.com/mnews/article/243/000...   \n",
      "\n",
      "                                         description  \\\n",
      "0  특별상으로는 한국정보보호학회장상에 정경재 교육생(<b>상명대</b>학교), 한국정보...   \n",
      "1  [서지용 / <b>상명대</b> 경영학부 교수: 정부가 운영하는 공공 시스템, 인프...   \n",
      "2  또한 홍익<b>대학교</b> 미술대학, 홍익<b>대학교</b> 교육대학원, 청주<b...   \n",
      "3  서지용 <b>상명대</b>학교 교수(경영학부)는 &quot;신사업 추진력이 약해질 ...   \n",
      "4  이종환 <b>상명대</b> 시스템반도체공학과 교수는 &quot;K칩스법을 시작으로 ...   \n",
      "5  올해 첨단분야 혁신융합대학사업의 하나로 새롭게 진행하는 이 프로그램은 교육부와 한국...   \n",
      "6  올해 첨단분야 혁신융합대학사업의 하나로 새롭게 진행하는 이 프로그램은 교육부와 한국...   \n",
      "7  김경숙 <b>상명대</b> 지적재산권전공 교수는 “해외에 서버를 둔 불법 사이트의 ...   \n",
      "8  KT 임원 출신 한영도 <b>상명대</b> 경영경제대학 교수는 &lt;녹색경제신문&...   \n",
      "9  이 외에도 성거초, 충남예술고, 성거도서관, 단국대∙<b>상명대</b>∙호서대 천안...   \n",
      "\n",
      "                           pubDate  \n",
      "0  Thu, 30 Mar 2023 19:30:00 +0900  \n",
      "1  Thu, 30 Mar 2023 18:14:00 +0900  \n",
      "2  Thu, 30 Mar 2023 17:48:00 +0900  \n",
      "3  Thu, 30 Mar 2023 17:30:00 +0900  \n",
      "4  Thu, 30 Mar 2023 16:29:00 +0900  \n",
      "5  Thu, 30 Mar 2023 16:16:00 +0900  \n",
      "6  Thu, 30 Mar 2023 15:26:00 +0900  \n",
      "7  Thu, 30 Mar 2023 15:05:00 +0900  \n",
      "8  Thu, 30 Mar 2023 13:17:00 +0900  \n",
      "9  Thu, 30 Mar 2023 11:00:00 +0900  \n"
     ]
    }
   ],
   "source": [
    "print (df)\n",
    "df.to_csv(\"naver_result.csv\")"
   ]
  },
  {
   "cell_type": "markdown",
   "metadata": {},
   "source": [
    "## Q1. 자기가 검색하고 싶은 키워드를 바탕으로 150개의 뉴스를 요청한다.\n",
    "## Q2. 크롤링 해서 받아온 데이터를 데이터 프레임로 만든다.\n",
    "## Q3. Title, Description만 column 으로 가지는 데이터 프레임을 하나 더만든다.\n",
    "## Q4. 만들어진 데이터 프레임을 \"news_result.tsv\"으로 저장한다."
   ]
  },
  {
   "cell_type": "code",
   "execution_count": null,
   "metadata": {},
   "outputs": [],
   "source": []
  }
 ],
 "metadata": {
  "kernelspec": {
   "display_name": "Python 3",
   "language": "python",
   "name": "python3"
  },
  "language_info": {
   "codemirror_mode": {
    "name": "ipython",
    "version": 3
   },
   "file_extension": ".py",
   "mimetype": "text/x-python",
   "name": "python",
   "nbconvert_exporter": "python",
   "pygments_lexer": "ipython3",
   "version": "3.11.2"
  }
 },
 "nbformat": 4,
 "nbformat_minor": 4
}
