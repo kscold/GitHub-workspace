{
 "cells": [
  {
   "cell_type": "code",
   "execution_count": 2,
   "metadata": {},
   "outputs": [
    {
     "name": "stdout",
     "output_type": "stream",
     "text": [
      "{\n",
      "\t\"lastBuildDate\":\"Sun, 23 Apr 2023 03:08:52 +0900\",\n",
      "\t\"total\":87967,\n",
      "\t\"start\":1,\n",
      "\t\"display\":10,\n",
      "\t\"items\":[\n",
      "\t\t{\n",
      "\t\t\t\"title\":\"<b>상명대<\\/b> 캠퍼스에서 &apos;훈남 선배&apos;라 소문난 대학원생...알고보니 &apos;박보검&apos;이었다...\",\n",
      "\t\t\t\"originallink\":\"https:\\/\\/www.insight.co.kr\\/news\\/436448\",\n",
      "\t\t\t\"link\":\"https:\\/\\/www.insight.co.kr\\/news\\/436448\",\n",
      "\t\t\t\"description\":\"= &quot;캠퍼스 한쪽에서 빛이 나고 있길래 쳐다보니 보검 선배가 있었어요&quot;<b>여대<\\/b>생들의 캠퍼스 로망에 빠지지 않고... 한편 박보검은 <b>상명대<\\/b>학교 뉴미디어 음악학과 대학원에 진학했다.그는 현재 대학원 생활과 함께 아이유와... \",\n",
      "\t\t\t\"pubDate\":\"Sat, 22 Apr 2023 11:14:00 +0900\"\n",
      "\t\t},\n",
      "\t\t{\n",
      "\t\t\t\"title\":\"다주택자 규제 풀었더니 전세사기 확산…금융당국 &apos;딜레마&apos;\",\n",
      "\t\t\t\"originallink\":\"http:\\/\\/www.topstarnews.net\\/news\\/articleView.html?idxno=15326373\",\n",
      "\t\t\t\"link\":\"http:\\/\\/www.topstarnews.net\\/news\\/articleView.html?idxno=15326373\",\n",
      "\t\t\t\"description\":\"서지용 <b>상명대<\\/b> 경영학부 교수는 &quot;정부가 대출규제를 완화하는 것은 집값이 너무 많이 떨어지는 것을 막기 위해 매수세를 끌어올려야 하기 때문&quot;이라며 &quot;다만 너무 일괄적으로 규제를 풀게 되면 다주택자의 투기로 이어질... \",\n",
      "\t\t\t\"pubDate\":\"Sat, 22 Apr 2023 10:34:00 +0900\"\n",
      "\t\t},\n",
      "\t\t{\n",
      "\t\t\t\"title\":\"다주택자 규제 풀었는데…전세사기 확산에 금융당국 &apos;딜레마&apos;\",\n",
      "\t\t\t\"originallink\":\"http:\\/\\/www.newsis.com\\/view\\/?id=NISX20230421_0002276314&cID=15001&pID=15000\",\n",
      "\t\t\t\"link\":\"https:\\/\\/n.news.naver.com\\/mnews\\/article\\/003\\/0011818038?sid=101\",\n",
      "\t\t\t\"description\":\"서지용 <b>상명대<\\/b> 경영학부 교수는 &quot;정부가 대출규제를 완화하는 것은 집값이 너무 많이 떨어지는 것을 막기 위해 매수세를 끌어올려야 하기 때문&quot;이라며 &quot;다만 너무 일괄적으로 규제를 풀게 되면 다주택자의 투기로 이어질... \",\n",
      "\t\t\t\"pubDate\":\"Sat, 22 Apr 2023 10:00:00 +0900\"\n",
      "\t\t},\n",
      "\t\t{\n",
      "\t\t\t\"title\":\"웰니스 관광도시 정선·로미지안 가든, 포레스트 가든 콘서트 진행\",\n",
      "\t\t\t\"originallink\":\"http:\\/\\/www.dt.co.kr\\/contents.html?article_no=2023042102109923077001&ref=naver\",\n",
      "\t\t\t\"link\":\"https:\\/\\/n.news.naver.com\\/mnews\\/article\\/029\\/0002796181?sid=103\",\n",
      "\t\t\t\"description\":\"2003년 1집 앨범 Love Letter로 데뷔한 웅산은 가수, 싱어송라이터로 활동하며 경희대와 <b>상명대<\\/b> 대학원에서 뮤직테크놀러지 학과 겸임교수직을 맡고 있다. 밴드 Moor의 보컬을 맡고 있는 하동연은 현재 솔로로 활동하고 있다.... \",\n",
      "\t\t\t\"pubDate\":\"Sat, 22 Apr 2023 09:00:00 +0900\"\n",
      "\t\t},\n",
      "\t\t{\n",
      "\t\t\t\"title\":\"회사 선배가 &apos;<b>상명대<\\/b>&apos; 졸업생인 걸 알게 된 후, 모든 가르침이 우습게 들린다...\",\n",
      "\t\t\t\"originallink\":\"https:\\/\\/www.insight.co.kr\\/news\\/436423\",\n",
      "\t\t\t\"link\":\"https:\\/\\/www.insight.co.kr\\/news\\/436423\",\n",
      "\t\t\t\"description\":\"그는 선배의 가르침을 받으며 회사를 다니고 있다.그러다 최근 사수가 졸업했던 <b>대학교<\\/b>가 <b>상명대<\\/b>학교란 사실을 우연히 알게 됐다.사수가 졸업했던 학교를 알게 된 A씨는 &apos;회사에 잘못 온 것 같다&apos;는 생각에 빠졌다.그는... \",\n",
      "\t\t\t\"pubDate\":\"Sat, 22 Apr 2023 08:56:00 +0900\"\n",
      "\t\t},\n",
      "\t\t{\n",
      "\t\t\t\"title\":\"스즈메와 문동은, 한일 문화 정서를 잇다 [투게더]\",\n",
      "\t\t\t\"originallink\":\"https:\\/\\/news.kmib.co.kr\\/article\\/view.asp?arcid=0018182047&code=61131111&cp=nv\",\n",
      "\t\t\t\"link\":\"https:\\/\\/n.news.naver.com\\/mnews\\/article\\/005\\/0001603070?sid=104\",\n",
      "\t\t\t\"description\":\"조규헌 <b>상명대<\\/b> 한일문화콘텐츠전공 교수는 “글로벌 플랫폼 넷플릭스를 통해 더 많은 일본 시청자가 한국 드라마로 유입될 환경이 조성됐다”고 설명했다. OTT 서비스 보편화가 일본인 시청률 급증에 보탠 셈이다. 중요한... \",\n",
      "\t\t\t\"pubDate\":\"Sat, 22 Apr 2023 00:03:00 +0900\"\n",
      "\t\t},\n",
      "\t\t{\n",
      "\t\t\t\"title\":\"美에 이어 60조원 투입하는 EU 반도체 법, &quot;한국도 공급망 안정화 고민해야&quot;\",\n",
      "\t\t\t\"originallink\":\"http:\\/\\/www.greened.kr\\/news\\/articleView.html?idxno=302785\",\n",
      "\t\t\t\"link\":\"http:\\/\\/www.greened.kr\\/news\\/articleView.html?idxno=302785\",\n",
      "\t\t\t\"description\":\"이종환 <b>상명대<\\/b> 시스템반도체공학과 교수는 &quot;각국이 반도체 법을 내놓으면서 반도체 산업의 경쟁이 치열해지는 양상&quot;이라며, &quot;우리 정부도 반도체 공급망 안정화에 고민해야 할 때&quot;라고 언급했다. 그러면서, &quot;용인 반도체... \",\n",
      "\t\t\t\"pubDate\":\"Fri, 21 Apr 2023 21:27:00 +0900\"\n",
      "\t\t},\n",
      "\t\t{\n",
      "\t\t\t\"title\":\"&quot;한미 철통 동맹&quot;…반도체·전기차 꼬인 실타래 풀릴까?\",\n",
      "\t\t\t\"originallink\":\"https:\\/\\/biz.sbs.co.kr\\/article_hub\\/20000114520?division=NAVER\",\n",
      "\t\t\t\"link\":\"https:\\/\\/n.news.naver.com\\/mnews\\/article\\/374\\/0000332673?sid=101\",\n",
      "\t\t\t\"description\":\"[이종환 \\/ <b>상명대<\\/b> 시스템반도체공학과 교수: 수율을 100% 공개하기에는 어려운 상황이 있잖아요. 기업에서도 원하지 않는 것이고. 부분적인 공개를 하는 것으로 절충이 (필요합니다).] 이재용 회장과 최태원 회장은 이번 방미... \",\n",
      "\t\t\t\"pubDate\":\"Fri, 21 Apr 2023 18:25:00 +0900\"\n",
      "\t\t},\n",
      "\t\t{\n",
      "\t\t\t\"title\":\"&apos;모아놓기만 했으니…&apos; 삼성 금융 플랫폼 &apos;모니모&apos; 출범 1년 성적표\",\n",
      "\t\t\t\"originallink\":\"https:\\/\\/ilyo.co.kr\\/?ac=article_view&entry_id=450817\",\n",
      "\t\t\t\"link\":\"https:\\/\\/ilyo.co.kr\\/?ac=article_view&entry_id=450817\",\n",
      "\t\t\t\"description\":\"서지용 <b>상명대<\\/b> 경영학과 교수는 “아무래도 삼성이라는 거대그룹의 계열사 역할에 충실하다 보니까 다양한 이업종 사업에서 소극적으로 임하는 경향이 있는 거 같다”며 “향후 마이데이터 사업 인허가를 받은 후에는... \",\n",
      "\t\t\t\"pubDate\":\"Fri, 21 Apr 2023 18:08:00 +0900\"\n",
      "\t\t},\n",
      "\t\t{\n",
      "\t\t\t\"title\":\"종로소방서, 2023년 일반인 심폐소생술 경연대회 학생ㆍ청소년부 ‘우수상’\",\n",
      "\t\t\t\"originallink\":\"http:\\/\\/fpn119.co.kr\\/196629\",\n",
      "\t\t\t\"link\":\"http:\\/\\/fpn119.co.kr\\/196629\",\n",
      "\t\t\t\"description\":\"<b>상명대<\\/b>학교 사범대학 부속여중 학생들이 채민경 지도교사와 기념사진을 찍고 있다. = 종로소방서(서장 이정희)는 ‘제12회 일반인 심폐소생술 경연대회’에 관내 <b>상명대<\\/b>학교 사범대학 부속여자중학교 팀이 참가해... \",\n",
      "\t\t\t\"pubDate\":\"Fri, 21 Apr 2023 18:04:00 +0900\"\n",
      "\t\t}\n",
      "\t]\n",
      "}\n"
     ]
    }
   ],
   "source": [
    "import os\n",
    "import sys\n",
    "import urllib.request\n",
    "import ssl #보안인증을 무시하기 위해 임포트\n",
    "client_id = \"VVrSb7DXLYUr2IRlQNSU\" #아이디 코드\n",
    "client_secret = \"pJSQFrP13Z\" #비밀번호 코드\n",
    "encText = urllib.parse.quote(\"상명대학교\") #검색하고 싶은 키워드를 설정\n",
    "\n",
    "url = \"https://openapi.naver.com/v1/search/news?query=\" + encText #네이버 뉴스에서 검색\n",
    "# url = \"https://openapi.naver.com/v1/search/blog.xml?query=\" + encText # XML 결과\n",
    "request = urllib.request.Request(url)#url의 요청을 저장\n",
    "request.add_header(\"X-Naver-Client-Id\",client_id) #헤더 패킷에 아이디 코드를 추가\n",
    "request.add_header(\"X-Naver-Client-Secret\",client_secret) #헤어 패킷에 비밀번호 코드를 추가\n",
    "context = ssl._create_unverified_context() #ssl 인증 무시, 추가하기 위해 인증 받지 않은 문맥들을 변수에 저장\n",
    "response = urllib.request.urlopen(request, context=context) #urlopen 서버에서 받은 응답을 response 변수에 저장\n",
    "rescode = response.getcode() #응답 코드를 새로운 변수에 저장\n",
    "if(rescode==200): # 응답코드 상태 라인 200(성공이면)\n",
    "    response_body = response.read() #응답 메시지를 읽음\n",
    "    print(response_body.decode('utf-8')) #utf-8 형식으로\n",
    "else: #연결 실패이면\n",
    "    print(\"Error Code:\" + rescode) #에러코드를 프린트"
   ]
  },
  {
   "cell_type": "code",
   "execution_count": 3,
   "metadata": {},
   "outputs": [
    {
     "name": "stdout",
     "output_type": "stream",
     "text": [
      "<class 'str'>\n"
     ]
    }
   ],
   "source": [
    "result = response_body.decode('utf-8') #위에서는 프린트만 했었어서 변수로 저장해줌\n",
    "print (type(result)) #저장한 결과값의 타입을 확인"
   ]
  },
  {
   "cell_type": "code",
   "execution_count": 4,
   "metadata": {},
   "outputs": [],
   "source": [
    "import pandas as pd #데이터 프레임을 쓰기 위한 판다스 임포트\n",
    "import json "
   ]
  },
  {
   "cell_type": "code",
   "execution_count": 5,
   "metadata": {},
   "outputs": [
    {
     "name": "stdout",
     "output_type": "stream",
     "text": [
      "{'lastBuildDate': 'Sun, 23 Apr 2023 03:08:52 +0900', 'total': 87967, 'start': 1, 'display': 10, 'items': [{'title': '<b>상명대</b> 캠퍼스에서 &apos;훈남 선배&apos;라 소문난 대학원생...알고보니 &apos;박보검&apos;이었다...', 'originallink': 'https://www.insight.co.kr/news/436448', 'link': 'https://www.insight.co.kr/news/436448', 'description': '= &quot;캠퍼스 한쪽에서 빛이 나고 있길래 쳐다보니 보검 선배가 있었어요&quot;<b>여대</b>생들의 캠퍼스 로망에 빠지지 않고... 한편 박보검은 <b>상명대</b>학교 뉴미디어 음악학과 대학원에 진학했다.그는 현재 대학원 생활과 함께 아이유와... ', 'pubDate': 'Sat, 22 Apr 2023 11:14:00 +0900'}, {'title': '다주택자 규제 풀었더니 전세사기 확산…금융당국 &apos;딜레마&apos;', 'originallink': 'http://www.topstarnews.net/news/articleView.html?idxno=15326373', 'link': 'http://www.topstarnews.net/news/articleView.html?idxno=15326373', 'description': '서지용 <b>상명대</b> 경영학부 교수는 &quot;정부가 대출규제를 완화하는 것은 집값이 너무 많이 떨어지는 것을 막기 위해 매수세를 끌어올려야 하기 때문&quot;이라며 &quot;다만 너무 일괄적으로 규제를 풀게 되면 다주택자의 투기로 이어질... ', 'pubDate': 'Sat, 22 Apr 2023 10:34:00 +0900'}, {'title': '다주택자 규제 풀었는데…전세사기 확산에 금융당국 &apos;딜레마&apos;', 'originallink': 'http://www.newsis.com/view/?id=NISX20230421_0002276314&cID=15001&pID=15000', 'link': 'https://n.news.naver.com/mnews/article/003/0011818038?sid=101', 'description': '서지용 <b>상명대</b> 경영학부 교수는 &quot;정부가 대출규제를 완화하는 것은 집값이 너무 많이 떨어지는 것을 막기 위해 매수세를 끌어올려야 하기 때문&quot;이라며 &quot;다만 너무 일괄적으로 규제를 풀게 되면 다주택자의 투기로 이어질... ', 'pubDate': 'Sat, 22 Apr 2023 10:00:00 +0900'}, {'title': '웰니스 관광도시 정선·로미지안 가든, 포레스트 가든 콘서트 진행', 'originallink': 'http://www.dt.co.kr/contents.html?article_no=2023042102109923077001&ref=naver', 'link': 'https://n.news.naver.com/mnews/article/029/0002796181?sid=103', 'description': '2003년 1집 앨범 Love Letter로 데뷔한 웅산은 가수, 싱어송라이터로 활동하며 경희대와 <b>상명대</b> 대학원에서 뮤직테크놀러지 학과 겸임교수직을 맡고 있다. 밴드 Moor의 보컬을 맡고 있는 하동연은 현재 솔로로 활동하고 있다.... ', 'pubDate': 'Sat, 22 Apr 2023 09:00:00 +0900'}, {'title': '회사 선배가 &apos;<b>상명대</b>&apos; 졸업생인 걸 알게 된 후, 모든 가르침이 우습게 들린다...', 'originallink': 'https://www.insight.co.kr/news/436423', 'link': 'https://www.insight.co.kr/news/436423', 'description': '그는 선배의 가르침을 받으며 회사를 다니고 있다.그러다 최근 사수가 졸업했던 <b>대학교</b>가 <b>상명대</b>학교란 사실을 우연히 알게 됐다.사수가 졸업했던 학교를 알게 된 A씨는 &apos;회사에 잘못 온 것 같다&apos;는 생각에 빠졌다.그는... ', 'pubDate': 'Sat, 22 Apr 2023 08:56:00 +0900'}, {'title': '스즈메와 문동은, 한일 문화 정서를 잇다 [투게더]', 'originallink': 'https://news.kmib.co.kr/article/view.asp?arcid=0018182047&code=61131111&cp=nv', 'link': 'https://n.news.naver.com/mnews/article/005/0001603070?sid=104', 'description': '조규헌 <b>상명대</b> 한일문화콘텐츠전공 교수는 “글로벌 플랫폼 넷플릭스를 통해 더 많은 일본 시청자가 한국 드라마로 유입될 환경이 조성됐다”고 설명했다. OTT 서비스 보편화가 일본인 시청률 급증에 보탠 셈이다. 중요한... ', 'pubDate': 'Sat, 22 Apr 2023 00:03:00 +0900'}, {'title': '美에 이어 60조원 투입하는 EU 반도체 법, &quot;한국도 공급망 안정화 고민해야&quot;', 'originallink': 'http://www.greened.kr/news/articleView.html?idxno=302785', 'link': 'http://www.greened.kr/news/articleView.html?idxno=302785', 'description': '이종환 <b>상명대</b> 시스템반도체공학과 교수는 &quot;각국이 반도체 법을 내놓으면서 반도체 산업의 경쟁이 치열해지는 양상&quot;이라며, &quot;우리 정부도 반도체 공급망 안정화에 고민해야 할 때&quot;라고 언급했다. 그러면서, &quot;용인 반도체... ', 'pubDate': 'Fri, 21 Apr 2023 21:27:00 +0900'}, {'title': '&quot;한미 철통 동맹&quot;…반도체·전기차 꼬인 실타래 풀릴까?', 'originallink': 'https://biz.sbs.co.kr/article_hub/20000114520?division=NAVER', 'link': 'https://n.news.naver.com/mnews/article/374/0000332673?sid=101', 'description': '[이종환 / <b>상명대</b> 시스템반도체공학과 교수: 수율을 100% 공개하기에는 어려운 상황이 있잖아요. 기업에서도 원하지 않는 것이고. 부분적인 공개를 하는 것으로 절충이 (필요합니다).] 이재용 회장과 최태원 회장은 이번 방미... ', 'pubDate': 'Fri, 21 Apr 2023 18:25:00 +0900'}, {'title': '&apos;모아놓기만 했으니…&apos; 삼성 금융 플랫폼 &apos;모니모&apos; 출범 1년 성적표', 'originallink': 'https://ilyo.co.kr/?ac=article_view&entry_id=450817', 'link': 'https://ilyo.co.kr/?ac=article_view&entry_id=450817', 'description': '서지용 <b>상명대</b> 경영학과 교수는 “아무래도 삼성이라는 거대그룹의 계열사 역할에 충실하다 보니까 다양한 이업종 사업에서 소극적으로 임하는 경향이 있는 거 같다”며 “향후 마이데이터 사업 인허가를 받은 후에는... ', 'pubDate': 'Fri, 21 Apr 2023 18:08:00 +0900'}, {'title': '종로소방서, 2023년 일반인 심폐소생술 경연대회 학생ㆍ청소년부 ‘우수상’', 'originallink': 'http://fpn119.co.kr/196629', 'link': 'http://fpn119.co.kr/196629', 'description': '<b>상명대</b>학교 사범대학 부속여중 학생들이 채민경 지도교사와 기념사진을 찍고 있다. = 종로소방서(서장 이정희)는 ‘제12회 일반인 심폐소생술 경연대회’에 관내 <b>상명대</b>학교 사범대학 부속여자중학교 팀이 참가해... ', 'pubDate': 'Fri, 21 Apr 2023 18:04:00 +0900'}]}\n"
     ]
    }
   ],
   "source": [
    "news_result = json.loads(result) #제이슨 로드로 가져옴 result를 딕셔너리로 만듬\n",
    "print (news_result)"
   ]
  },
  {
   "cell_type": "code",
   "execution_count": 6,
   "metadata": {},
   "outputs": [
    {
     "name": "stdout",
     "output_type": "stream",
     "text": [
      "{'lastBuildDate': 'Sun, 23 Apr 2023 03:08:52 +0900', 'total': 87967, 'start': 1, 'display': 10, 'items': [{'title': '<b>상명대</b> 캠퍼스에서 &apos;훈남 선배&apos;라 소문난 대학원생...알고보니 &apos;박보검&apos;이었다...', 'originallink': 'https://www.insight.co.kr/news/436448', 'link': 'https://www.insight.co.kr/news/436448', 'description': '= &quot;캠퍼스 한쪽에서 빛이 나고 있길래 쳐다보니 보검 선배가 있었어요&quot;<b>여대</b>생들의 캠퍼스 로망에 빠지지 않고... 한편 박보검은 <b>상명대</b>학교 뉴미디어 음악학과 대학원에 진학했다.그는 현재 대학원 생활과 함께 아이유와... ', 'pubDate': 'Sat, 22 Apr 2023 11:14:00 +0900'}, {'title': '다주택자 규제 풀었더니 전세사기 확산…금융당국 &apos;딜레마&apos;', 'originallink': 'http://www.topstarnews.net/news/articleView.html?idxno=15326373', 'link': 'http://www.topstarnews.net/news/articleView.html?idxno=15326373', 'description': '서지용 <b>상명대</b> 경영학부 교수는 &quot;정부가 대출규제를 완화하는 것은 집값이 너무 많이 떨어지는 것을 막기 위해 매수세를 끌어올려야 하기 때문&quot;이라며 &quot;다만 너무 일괄적으로 규제를 풀게 되면 다주택자의 투기로 이어질... ', 'pubDate': 'Sat, 22 Apr 2023 10:34:00 +0900'}, {'title': '다주택자 규제 풀었는데…전세사기 확산에 금융당국 &apos;딜레마&apos;', 'originallink': 'http://www.newsis.com/view/?id=NISX20230421_0002276314&cID=15001&pID=15000', 'link': 'https://n.news.naver.com/mnews/article/003/0011818038?sid=101', 'description': '서지용 <b>상명대</b> 경영학부 교수는 &quot;정부가 대출규제를 완화하는 것은 집값이 너무 많이 떨어지는 것을 막기 위해 매수세를 끌어올려야 하기 때문&quot;이라며 &quot;다만 너무 일괄적으로 규제를 풀게 되면 다주택자의 투기로 이어질... ', 'pubDate': 'Sat, 22 Apr 2023 10:00:00 +0900'}, {'title': '웰니스 관광도시 정선·로미지안 가든, 포레스트 가든 콘서트 진행', 'originallink': 'http://www.dt.co.kr/contents.html?article_no=2023042102109923077001&ref=naver', 'link': 'https://n.news.naver.com/mnews/article/029/0002796181?sid=103', 'description': '2003년 1집 앨범 Love Letter로 데뷔한 웅산은 가수, 싱어송라이터로 활동하며 경희대와 <b>상명대</b> 대학원에서 뮤직테크놀러지 학과 겸임교수직을 맡고 있다. 밴드 Moor의 보컬을 맡고 있는 하동연은 현재 솔로로 활동하고 있다.... ', 'pubDate': 'Sat, 22 Apr 2023 09:00:00 +0900'}, {'title': '회사 선배가 &apos;<b>상명대</b>&apos; 졸업생인 걸 알게 된 후, 모든 가르침이 우습게 들린다...', 'originallink': 'https://www.insight.co.kr/news/436423', 'link': 'https://www.insight.co.kr/news/436423', 'description': '그는 선배의 가르침을 받으며 회사를 다니고 있다.그러다 최근 사수가 졸업했던 <b>대학교</b>가 <b>상명대</b>학교란 사실을 우연히 알게 됐다.사수가 졸업했던 학교를 알게 된 A씨는 &apos;회사에 잘못 온 것 같다&apos;는 생각에 빠졌다.그는... ', 'pubDate': 'Sat, 22 Apr 2023 08:56:00 +0900'}, {'title': '스즈메와 문동은, 한일 문화 정서를 잇다 [투게더]', 'originallink': 'https://news.kmib.co.kr/article/view.asp?arcid=0018182047&code=61131111&cp=nv', 'link': 'https://n.news.naver.com/mnews/article/005/0001603070?sid=104', 'description': '조규헌 <b>상명대</b> 한일문화콘텐츠전공 교수는 “글로벌 플랫폼 넷플릭스를 통해 더 많은 일본 시청자가 한국 드라마로 유입될 환경이 조성됐다”고 설명했다. OTT 서비스 보편화가 일본인 시청률 급증에 보탠 셈이다. 중요한... ', 'pubDate': 'Sat, 22 Apr 2023 00:03:00 +0900'}, {'title': '美에 이어 60조원 투입하는 EU 반도체 법, &quot;한국도 공급망 안정화 고민해야&quot;', 'originallink': 'http://www.greened.kr/news/articleView.html?idxno=302785', 'link': 'http://www.greened.kr/news/articleView.html?idxno=302785', 'description': '이종환 <b>상명대</b> 시스템반도체공학과 교수는 &quot;각국이 반도체 법을 내놓으면서 반도체 산업의 경쟁이 치열해지는 양상&quot;이라며, &quot;우리 정부도 반도체 공급망 안정화에 고민해야 할 때&quot;라고 언급했다. 그러면서, &quot;용인 반도체... ', 'pubDate': 'Fri, 21 Apr 2023 21:27:00 +0900'}, {'title': '&quot;한미 철통 동맹&quot;…반도체·전기차 꼬인 실타래 풀릴까?', 'originallink': 'https://biz.sbs.co.kr/article_hub/20000114520?division=NAVER', 'link': 'https://n.news.naver.com/mnews/article/374/0000332673?sid=101', 'description': '[이종환 / <b>상명대</b> 시스템반도체공학과 교수: 수율을 100% 공개하기에는 어려운 상황이 있잖아요. 기업에서도 원하지 않는 것이고. 부분적인 공개를 하는 것으로 절충이 (필요합니다).] 이재용 회장과 최태원 회장은 이번 방미... ', 'pubDate': 'Fri, 21 Apr 2023 18:25:00 +0900'}, {'title': '&apos;모아놓기만 했으니…&apos; 삼성 금융 플랫폼 &apos;모니모&apos; 출범 1년 성적표', 'originallink': 'https://ilyo.co.kr/?ac=article_view&entry_id=450817', 'link': 'https://ilyo.co.kr/?ac=article_view&entry_id=450817', 'description': '서지용 <b>상명대</b> 경영학과 교수는 “아무래도 삼성이라는 거대그룹의 계열사 역할에 충실하다 보니까 다양한 이업종 사업에서 소극적으로 임하는 경향이 있는 거 같다”며 “향후 마이데이터 사업 인허가를 받은 후에는... ', 'pubDate': 'Fri, 21 Apr 2023 18:08:00 +0900'}, {'title': '종로소방서, 2023년 일반인 심폐소생술 경연대회 학생ㆍ청소년부 ‘우수상’', 'originallink': 'http://fpn119.co.kr/196629', 'link': 'http://fpn119.co.kr/196629', 'description': '<b>상명대</b>학교 사범대학 부속여중 학생들이 채민경 지도교사와 기념사진을 찍고 있다. = 종로소방서(서장 이정희)는 ‘제12회 일반인 심폐소생술 경연대회’에 관내 <b>상명대</b>학교 사범대학 부속여자중학교 팀이 참가해... ', 'pubDate': 'Fri, 21 Apr 2023 18:04:00 +0900'}]}\n"
     ]
    }
   ],
   "source": [
    "news_result = json.loads(result)\n",
    "print (news_result)\n",
    "df = pd.DataFrame(news_result['items']) #딕셔너리의 아이템 컬럼의 값을 df 변수에 저장"
   ]
  },
  {
   "cell_type": "code",
   "execution_count": 7,
   "metadata": {},
   "outputs": [
    {
     "name": "stdout",
     "output_type": "stream",
     "text": [
      "                                               title  \\\n",
      "0  <b>상명대</b> 캠퍼스에서 &apos;훈남 선배&apos;라 소문난 대학원생.....   \n",
      "1          다주택자 규제 풀었더니 전세사기 확산…금융당국 &apos;딜레마&apos;   \n",
      "2         다주택자 규제 풀었는데…전세사기 확산에 금융당국 &apos;딜레마&apos;   \n",
      "3                웰니스 관광도시 정선·로미지안 가든, 포레스트 가든 콘서트 진행   \n",
      "4  회사 선배가 &apos;<b>상명대</b>&apos; 졸업생인 걸 알게 된 후, 모...   \n",
      "5                       스즈메와 문동은, 한일 문화 정서를 잇다 [투게더]   \n",
      "6  美에 이어 60조원 투입하는 EU 반도체 법, &quot;한국도 공급망 안정화 고민...   \n",
      "7           &quot;한미 철통 동맹&quot;…반도체·전기차 꼬인 실타래 풀릴까?   \n",
      "8  &apos;모아놓기만 했으니…&apos; 삼성 금융 플랫폼 &apos;모니모&apo...   \n",
      "9          종로소방서, 2023년 일반인 심폐소생술 경연대회 학생ㆍ청소년부 ‘우수상’   \n",
      "\n",
      "                                        originallink  \\\n",
      "0              https://www.insight.co.kr/news/436448   \n",
      "1  http://www.topstarnews.net/news/articleView.ht...   \n",
      "2  http://www.newsis.com/view/?id=NISX20230421_00...   \n",
      "3  http://www.dt.co.kr/contents.html?article_no=2...   \n",
      "4              https://www.insight.co.kr/news/436423   \n",
      "5  https://news.kmib.co.kr/article/view.asp?arcid...   \n",
      "6  http://www.greened.kr/news/articleView.html?id...   \n",
      "7  https://biz.sbs.co.kr/article_hub/20000114520?...   \n",
      "8  https://ilyo.co.kr/?ac=article_view&entry_id=4...   \n",
      "9                         http://fpn119.co.kr/196629   \n",
      "\n",
      "                                                link  \\\n",
      "0              https://www.insight.co.kr/news/436448   \n",
      "1  http://www.topstarnews.net/news/articleView.ht...   \n",
      "2  https://n.news.naver.com/mnews/article/003/001...   \n",
      "3  https://n.news.naver.com/mnews/article/029/000...   \n",
      "4              https://www.insight.co.kr/news/436423   \n",
      "5  https://n.news.naver.com/mnews/article/005/000...   \n",
      "6  http://www.greened.kr/news/articleView.html?id...   \n",
      "7  https://n.news.naver.com/mnews/article/374/000...   \n",
      "8  https://ilyo.co.kr/?ac=article_view&entry_id=4...   \n",
      "9                         http://fpn119.co.kr/196629   \n",
      "\n",
      "                                         description  \\\n",
      "0  = &quot;캠퍼스 한쪽에서 빛이 나고 있길래 쳐다보니 보검 선배가 있었어요&qu...   \n",
      "1  서지용 <b>상명대</b> 경영학부 교수는 &quot;정부가 대출규제를 완화하는 것...   \n",
      "2  서지용 <b>상명대</b> 경영학부 교수는 &quot;정부가 대출규제를 완화하는 것...   \n",
      "3  2003년 1집 앨범 Love Letter로 데뷔한 웅산은 가수, 싱어송라이터로 활...   \n",
      "4  그는 선배의 가르침을 받으며 회사를 다니고 있다.그러다 최근 사수가 졸업했던 <b>...   \n",
      "5  조규헌 <b>상명대</b> 한일문화콘텐츠전공 교수는 “글로벌 플랫폼 넷플릭스를 통해...   \n",
      "6  이종환 <b>상명대</b> 시스템반도체공학과 교수는 &quot;각국이 반도체 법을 ...   \n",
      "7  [이종환 / <b>상명대</b> 시스템반도체공학과 교수: 수율을 100% 공개하기에...   \n",
      "8  서지용 <b>상명대</b> 경영학과 교수는 “아무래도 삼성이라는 거대그룹의 계열사 ...   \n",
      "9  <b>상명대</b>학교 사범대학 부속여중 학생들이 채민경 지도교사와 기념사진을 찍고...   \n",
      "\n",
      "                           pubDate  \n",
      "0  Sat, 22 Apr 2023 11:14:00 +0900  \n",
      "1  Sat, 22 Apr 2023 10:34:00 +0900  \n",
      "2  Sat, 22 Apr 2023 10:00:00 +0900  \n",
      "3  Sat, 22 Apr 2023 09:00:00 +0900  \n",
      "4  Sat, 22 Apr 2023 08:56:00 +0900  \n",
      "5  Sat, 22 Apr 2023 00:03:00 +0900  \n",
      "6  Fri, 21 Apr 2023 21:27:00 +0900  \n",
      "7  Fri, 21 Apr 2023 18:25:00 +0900  \n",
      "8  Fri, 21 Apr 2023 18:08:00 +0900  \n",
      "9  Fri, 21 Apr 2023 18:04:00 +0900  \n"
     ]
    }
   ],
   "source": [
    "print (df) #값을 보여주고\n",
    "df.to_csv(\"naver_result.csv\") #csv파일로 바꿈"
   ]
  },
  {
   "cell_type": "markdown",
   "metadata": {},
   "source": [
    "## Q1. 자기가 검색하고 싶은 키워드를 바탕으로 150개의 뉴스를 요청한다.\n",
    "## Q2. 크롤링 해서 받아온 데이터를 데이터 프레임로 만든다.\n",
    "## Q3. Title, Description만 column 으로 가지는 데이터 프레임을 하나 더만든다.\n",
    "## Q4. 만들어진 데이터 프레임을 \"news_result.tsv\"으로 저장한다."
   ]
  },
  {
   "cell_type": "code",
   "execution_count": null,
   "metadata": {},
   "outputs": [],
   "source": []
  }
 ],
 "metadata": {
  "kernelspec": {
   "display_name": "Python 3",
   "language": "python",
   "name": "python3"
  },
  "language_info": {
   "codemirror_mode": {
    "name": "ipython",
    "version": 3
   },
   "file_extension": ".py",
   "mimetype": "text/x-python",
   "name": "python",
   "nbconvert_exporter": "python",
   "pygments_lexer": "ipython3",
   "version": "3.11.2"
  }
 },
 "nbformat": 4,
 "nbformat_minor": 4
}
