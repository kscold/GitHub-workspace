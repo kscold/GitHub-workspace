{
 "cells": [
  {
   "cell_type": "code",
   "execution_count": 2,
   "metadata": {},
   "outputs": [
    {
     "name": "stdout",
     "output_type": "stream",
     "text": [
      "56.56127272727272\n"
     ]
    }
   ],
   "source": [
    "AverageLatency = (5.419 + 6.756 + 14.154 + 12.318 + 29.255 + 20.731 + 10.830 + 32.248 + 38.350 + 109.630 + 342.483) / 11\n",
    "print(AverageLatency)"
   ]
  },
  {
   "cell_type": "code",
   "execution_count": 6,
   "metadata": {},
   "outputs": [
    {
     "ename": "SyntaxError",
     "evalue": "invalid syntax. Perhaps you forgot a comma? (2486891398.py, line 1)",
     "output_type": "error",
     "traceback": [
      "\u001b[0;36m  Cell \u001b[0;32mIn[6], line 1\u001b[0;36m\u001b[0m\n\u001b[0;31m    Variance = (5.419 - AverageLatency)^2 + (6.756 - AverageLatency)^2 + (14.154 - AverageLatency)^2 + (12.318 - AverageLatency)^2 + (29.255 - AverageLatency)^2 + (20.731 - AverageLatency)^2 + (10.830 - AverageLatency)^2 + (32.248 -Average Latency)^2 + (38.350 - AverageLatency)^2 + (109.630 - AverageLatency)^2 + (342.483 - AverageLatency)^2 / (11 - 1)\u001b[0m\n\u001b[0m                                                                                                                                                                                                                                ^\u001b[0m\n\u001b[0;31mSyntaxError\u001b[0m\u001b[0;31m:\u001b[0m invalid syntax. Perhaps you forgot a comma?\n"
     ]
    }
   ],
   "source": [
    "Variance = ((5.419 - AverageLatency)^2 + (6.756 - AverageLatency)^2 + (14.154 - AverageLatency)^2 + (12.318 - AverageLatency)^2 + (29.255 - AverageLatency)^2 + (20.731 - AverageLatency)^2 + (10.830 - AverageLatency)^2 + (32.248 -Average Latency)^2 + (38.350 - AverageLatency)^2 + (109.630 - AverageLatency)^2 + (342.483 - AverageLatency)^2) / (11 - 1)\n",
    "\n",
    "StandardDeviation = sqrt(Variance)\n"
   ]
  }
 ],
 "metadata": {
  "kernelspec": {
   "display_name": "Python 3",
   "language": "python",
   "name": "python3"
  },
  "language_info": {
   "codemirror_mode": {
    "name": "ipython",
    "version": 3
   },
   "file_extension": ".py",
   "mimetype": "text/x-python",
   "name": "python",
   "nbconvert_exporter": "python",
   "pygments_lexer": "ipython3",
   "version": "3.11.2"
  },
  "orig_nbformat": 4
 },
 "nbformat": 4,
 "nbformat_minor": 2
}
