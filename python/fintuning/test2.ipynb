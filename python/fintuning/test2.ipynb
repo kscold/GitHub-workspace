{
 "cells": [
  {
   "cell_type": "code",
   "execution_count": 7,
   "metadata": {},
   "outputs": [],
   "source": [
    "import json\n",
    "\n",
    "# JSON 데이터를 파일에서 읽어옴\n",
    "with open('starbucks.json', 'r', encoding='utf-8') as json_file:\n",
    "    data = json.load(json_file)\n",
    "\n",
    "# 각 데이터를 개별적인 JSONL 문자열로 변환\n",
    "jsonl_strings = []\n",
    "for item in data:\n",
    "    jsonl_strings.append(json.dumps({\"messages\": [{\"role\": \"assistant\", \"content\": json.dumps(item, ensure_ascii=False, separators=(',', ':'))}]}))\n",
    "\n",
    "# JSONL 파일로 저장\n",
    "with open('output.jsonl', 'w', encoding='utf-8') as jsonl_file:\n",
    "    for jsonl_string in jsonl_strings:\n",
    "        jsonl_file.write(jsonl_string + '\\n')\n"
   ]
  },
  {
   "cell_type": "code",
   "execution_count": 11,
   "metadata": {},
   "outputs": [],
   "source": [
    "import json\n",
    "\n",
    "# JSON 데이터를 파일에서 읽어옴\n",
    "with open('starbucks.json', 'r', encoding='utf-8') as json_file:\n",
    "    data = json.load(json_file)\n",
    "\n",
    "# 각 데이터를 개별적인 JSONL 문자열로 변환\n",
    "jsonl_strings = []\n",
    "for item in data:\n",
    "    jsonl_string = json.dumps({\"messages\": [{\"role\": \"assistant\", \"content\": json.dumps(item, ensure_ascii=False, separators=(',', ':'))}]}, ensure_ascii=False)\n",
    "    jsonl_strings.append(jsonl_string)\n",
    "\n",
    "# JSONL 파일로 저장 (UTF-8로 인코딩)\n",
    "with open('output.jsonl', 'w', encoding='utf-8') as jsonl_file:\n",
    "    for jsonl_string in jsonl_strings:\n",
    "        jsonl_file.write(jsonl_string + '\\n')\n"
   ]
  },
  {
   "cell_type": "code",
   "execution_count": null,
   "metadata": {},
   "outputs": [],
   "source": [
    "import openai\n",
    "import json\n",
    "import os\n",
    "from dotenv import load_dotenv\n",
    "load_dotenv()\n",
    "openai.api_key = os.getenv(\"OPENAI_SECRET_KEY\")\n",
    "\n",
    "def recommend_cafe_beverage(user_request):\n",
    "    # 사용자 요청을 JSON 형식으로 파싱\n",
    "    user_request = json.loads(user_request)\n",
    "\n",
    "    # 사용자로부터 받은 요청 조건을 기반으로 음료 추천 생성\n",
    "    recommendation = generate_cafe_beverage_recommendation(user_request)\n",
    "\n",
    "    return recommendation\n",
    "\n",
    "def generate_cafe_beverage_recommendation(user_request):\n",
    "    # 사용자로부터 받은 요청을 이용하여 음료 추천 생성\n",
    "    # OpenAI GPT-3 API를 사용하여 음료 추천 생성 가능\n",
    "\n",
    "    # 추천 내용을 JSON 형식으로 반환\n",
    "    recommendation = {\n",
    "        \"cafeid\": user_request.get(\"cafeid\", 1),\n",
    "        \"beverage\": user_request.get(\"beverage\", 1),\n",
    "        \"recommendation\": \"이 부분에 음료추천을 해줘\"  # 추천 내용을 여기에 채움\n",
    "    }\n",
    "\n",
    "    return json.dumps(recommendation)\n"
   ]
  }
 ],
 "metadata": {
  "kernelspec": {
   "display_name": "Python 3",
   "language": "python",
   "name": "python3"
  },
  "language_info": {
   "codemirror_mode": {
    "name": "ipython",
    "version": 3
   },
   "file_extension": ".py",
   "mimetype": "text/x-python",
   "name": "python",
   "nbconvert_exporter": "python",
   "pygments_lexer": "ipython3",
   "version": "3.11.2"
  }
 },
 "nbformat": 4,
 "nbformat_minor": 2
}
