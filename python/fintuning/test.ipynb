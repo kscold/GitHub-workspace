{
 "cells": [
  {
   "cell_type": "code",
   "execution_count": 92,
   "metadata": {},
   "outputs": [
    {
     "name": "stderr",
     "output_type": "stream",
     "text": [
      "huggingface/tokenizers: The current process just got forked, after parallelism has already been used. Disabling parallelism to avoid deadlocks...\n",
      "To disable this warning, you can either:\n",
      "\t- Avoid using `tokenizers` before the fork if possible\n",
      "\t- Explicitly set the environment variable TOKENIZERS_PARALLELISM=(true | false)\n"
     ]
    },
    {
     "name": "stdout",
     "output_type": "stream",
     "text": [
      "Defaulting to user installation because normal site-packages is not writeable\n",
      "Requirement already satisfied: sentence-transformers in /Users/chan6502/Library/Python/3.11/lib/python/site-packages (2.2.2)\n",
      "Requirement already satisfied: transformers<5.0.0,>=4.6.0 in /Users/chan6502/Library/Python/3.11/lib/python/site-packages (from sentence-transformers) (4.34.1)\n",
      "Requirement already satisfied: tqdm in /Users/chan6502/Library/Python/3.11/lib/python/site-packages (from sentence-transformers) (4.66.1)\n",
      "Requirement already satisfied: torch>=1.6.0 in /Users/chan6502/Library/Python/3.11/lib/python/site-packages (from sentence-transformers) (2.1.0)\n",
      "Requirement already satisfied: torchvision in /Users/chan6502/Library/Python/3.11/lib/python/site-packages (from sentence-transformers) (0.16.0)\n",
      "Requirement already satisfied: numpy in /Library/Frameworks/Python.framework/Versions/3.11/lib/python3.11/site-packages (from sentence-transformers) (1.24.2)\n",
      "Requirement already satisfied: scikit-learn in /Library/Frameworks/Python.framework/Versions/3.11/lib/python3.11/site-packages (from sentence-transformers) (1.2.2)\n",
      "Requirement already satisfied: scipy in /Library/Frameworks/Python.framework/Versions/3.11/lib/python3.11/site-packages (from sentence-transformers) (1.10.1)\n",
      "Requirement already satisfied: nltk in /Users/chan6502/Library/Python/3.11/lib/python/site-packages (from sentence-transformers) (3.8.1)\n",
      "Requirement already satisfied: sentencepiece in /Users/chan6502/Library/Python/3.11/lib/python/site-packages (from sentence-transformers) (0.1.99)\n",
      "Requirement already satisfied: huggingface-hub>=0.4.0 in /Users/chan6502/Library/Python/3.11/lib/python/site-packages (from sentence-transformers) (0.17.3)\n",
      "Requirement already satisfied: filelock in /Library/Frameworks/Python.framework/Versions/3.11/lib/python3.11/site-packages (from huggingface-hub>=0.4.0->sentence-transformers) (3.9.0)\n",
      "Requirement already satisfied: fsspec in /Users/chan6502/Library/Python/3.11/lib/python/site-packages (from huggingface-hub>=0.4.0->sentence-transformers) (2023.9.2)\n",
      "Requirement already satisfied: requests in /Library/Frameworks/Python.framework/Versions/3.11/lib/python3.11/site-packages (from huggingface-hub>=0.4.0->sentence-transformers) (2.28.2)\n",
      "Requirement already satisfied: pyyaml>=5.1 in /Library/Frameworks/Python.framework/Versions/3.11/lib/python3.11/site-packages (from huggingface-hub>=0.4.0->sentence-transformers) (6.0)\n",
      "Requirement already satisfied: typing-extensions>=3.7.4.3 in /Users/chan6502/Library/Python/3.11/lib/python/site-packages (from huggingface-hub>=0.4.0->sentence-transformers) (4.8.0)\n",
      "Requirement already satisfied: packaging>=20.9 in /Users/chan6502/Library/Python/3.11/lib/python/site-packages (from huggingface-hub>=0.4.0->sentence-transformers) (23.1)\n",
      "Requirement already satisfied: sympy in /Users/chan6502/Library/Python/3.11/lib/python/site-packages (from torch>=1.6.0->sentence-transformers) (1.12)\n",
      "Requirement already satisfied: networkx in /Users/chan6502/Library/Python/3.11/lib/python/site-packages (from torch>=1.6.0->sentence-transformers) (3.2)\n",
      "Requirement already satisfied: jinja2 in /Library/Frameworks/Python.framework/Versions/3.11/lib/python3.11/site-packages (from torch>=1.6.0->sentence-transformers) (3.1.2)\n",
      "Requirement already satisfied: regex!=2019.12.17 in /Users/chan6502/Library/Python/3.11/lib/python/site-packages (from transformers<5.0.0,>=4.6.0->sentence-transformers) (2023.10.3)\n",
      "Requirement already satisfied: tokenizers<0.15,>=0.14 in /Users/chan6502/Library/Python/3.11/lib/python/site-packages (from transformers<5.0.0,>=4.6.0->sentence-transformers) (0.14.1)\n",
      "Requirement already satisfied: safetensors>=0.3.1 in /Users/chan6502/Library/Python/3.11/lib/python/site-packages (from transformers<5.0.0,>=4.6.0->sentence-transformers) (0.4.0)\n",
      "Requirement already satisfied: click in /Users/chan6502/Library/Python/3.11/lib/python/site-packages (from nltk->sentence-transformers) (8.1.7)\n",
      "Requirement already satisfied: joblib in /Library/Frameworks/Python.framework/Versions/3.11/lib/python3.11/site-packages (from nltk->sentence-transformers) (1.2.0)\n",
      "Requirement already satisfied: threadpoolctl>=2.0.0 in /Library/Frameworks/Python.framework/Versions/3.11/lib/python3.11/site-packages (from scikit-learn->sentence-transformers) (3.1.0)\n",
      "Requirement already satisfied: pillow!=8.3.*,>=5.3.0 in /Library/Frameworks/Python.framework/Versions/3.11/lib/python3.11/site-packages (from torchvision->sentence-transformers) (9.4.0)\n",
      "Requirement already satisfied: MarkupSafe>=2.0 in /Library/Frameworks/Python.framework/Versions/3.11/lib/python3.11/site-packages (from jinja2->torch>=1.6.0->sentence-transformers) (2.1.2)\n",
      "Requirement already satisfied: charset-normalizer<4,>=2 in /Library/Frameworks/Python.framework/Versions/3.11/lib/python3.11/site-packages (from requests->huggingface-hub>=0.4.0->sentence-transformers) (3.1.0)\n",
      "Requirement already satisfied: idna<4,>=2.5 in /Library/Frameworks/Python.framework/Versions/3.11/lib/python3.11/site-packages (from requests->huggingface-hub>=0.4.0->sentence-transformers) (3.4)\n",
      "Requirement already satisfied: urllib3<1.27,>=1.21.1 in /Library/Frameworks/Python.framework/Versions/3.11/lib/python3.11/site-packages (from requests->huggingface-hub>=0.4.0->sentence-transformers) (1.26.15)\n",
      "Requirement already satisfied: certifi>=2017.4.17 in /Library/Frameworks/Python.framework/Versions/3.11/lib/python3.11/site-packages (from requests->huggingface-hub>=0.4.0->sentence-transformers) (2022.12.7)\n",
      "Requirement already satisfied: mpmath>=0.19 in /Users/chan6502/Library/Python/3.11/lib/python/site-packages (from sympy->torch>=1.6.0->sentence-transformers) (1.3.0)\n",
      "\n",
      "\u001b[1m[\u001b[0m\u001b[34;49mnotice\u001b[0m\u001b[1;39;49m]\u001b[0m\u001b[39;49m A new release of pip is available: \u001b[0m\u001b[31;49m23.1.2\u001b[0m\u001b[39;49m -> \u001b[0m\u001b[32;49m23.3\u001b[0m\n",
      "\u001b[1m[\u001b[0m\u001b[34;49mnotice\u001b[0m\u001b[1;39;49m]\u001b[0m\u001b[39;49m To update, run: \u001b[0m\u001b[32;49mpip install --upgrade pip\u001b[0m\n",
      "Note: you may need to restart the kernel to use updated packages.\n"
     ]
    }
   ],
   "source": [
    "# openai 라이브러리 설치\n",
    "%pip install openai -q"
   ]
  },
  {
   "cell_type": "code",
   "execution_count": 2,
   "metadata": {},
   "outputs": [],
   "source": [
    "import openai\n",
    "import json"
   ]
  },
  {
   "cell_type": "code",
   "execution_count": 4,
   "metadata": {},
   "outputs": [],
   "source": [
    "from dotenv import load_dotenv\n",
    "import os\n",
    "\n",
    "# .env 파일 로드\n",
    "load_dotenv()\n",
    "\n",
    "# .env 파일에서 OPENAI_SECRET_KEY 환경 변수 읽기\n",
    "openai.api_key = os.getenv(\"OPENAI_SECRET_KEY\")\n",
    "# print(openai.api_key)"
   ]
  },
  {
   "cell_type": "code",
   "execution_count": 4,
   "metadata": {},
   "outputs": [],
   "source": [
    "# # ChatGPT API를 통해 춘식이가 누구야? 질문 하기\n",
    "# response = openai.ChatCompletion.create(\n",
    "#     model=\"gpt-3.5-turbo\",\n",
    "#     messages=[\n",
    "#     {\n",
    "#         \"role\": \"system\",\n",
    "#         \"content\": \"CafeIn 음료 추천 챗봇서비스 콕인(CokIn)이에요!\"\n",
    "#     },\n",
    "#     {\n",
    "#         \"role\": \"user\",\n",
    "#         \"content\": \"나는 오늘 아메리카노를 마시고 싶은데 어디 브랜드 아메리카노가 좋을까?\"\n",
    "#     }\n",
    "# ]\n",
    "# )\n",
    "# print(response)"
   ]
  },
  {
   "cell_type": "code",
   "execution_count": 5,
   "metadata": {},
   "outputs": [
    {
     "name": "stdout",
     "output_type": "stream",
     "text": [
      "b'{\"messages\": [{\"role\": \"assistant\", \"content\": \"CafeIn(\\xec\\x9a\\xb0\\xeb\\xa6\\xac\\xec\\x9d\\x98 \\xec\\x84\\x9c\\xeb\\xb9\\x84\\xec\\x8a\\xa4 \\xec\\x9d\\xb4\\xeb\\xa6\\x84)\\xec\\x9d\\x80 \\xed\\x94\\x84\\xeb\\xa0\\x8c\\xec\\xb0\\xa8\\xec\\x9d\\xb4\\xec\\xa6\\x88 \\xec\\xb9\\xb4\\xed\\x8e\\x98 \\xed\\x86\\xb5\\xed\\x95\\xa9\\xec\\x84\\x9c\\xeb\\xb9\\x84\\xec\\x8a\\xa4\\xec\\x9d\\xb4\\xeb\\xa9\\xb0, \\xeb\\x84\\x88\\xec\\x9d\\x98 \\xec\\x97\\xad\\xed\\x95\\xa0\\xec\\x9d\\x80 \\xec\\x9d\\x8c\\xeb\\xa3\\x8c \\xec\\xb6\\x94\\xec\\xb2\\x9c \\xec\\xb1\\x97\\xeb\\xb4\\x87\\xec\\x84\\x9c\\xeb\\xb9\\x84\\xec\\x8a\\xa4\\xec\\x9d\\xb4\\xea\\xb3\\xa0 \\xec\\x9d\\xb4\\xeb\\xa6\\x84\\xec\\x9d\\x80 \\xec\\xbd\\x95\\xec\\x9d\\xb8(CokIn)\\xec\\x9d\\xb4\\xeb\\x8b\\xa4.\", {\"role\": \"user\", \"content\": \"\\xeb\\x84\\x88\\xeb\\x8a\\x94 \\xeb\\x88\\x84\\xea\\xb5\\xac\\xec\\x95\\xbc?\"}]}\\n'\n",
      "b'{\"messages\": [{\"role\": \"assistant\", \"content\": \"\\xed\\x95\\x9c\\xea\\xb5\\xad\\xec\\x84\\x9c\\xeb\\xb9\\x84\\xec\\x8a\\xa4\\xec\\x9d\\xb4\\xeb\\xaf\\x80\\xeb\\xa1\\x9c \\xeb\\xac\\xb4\\xec\\x8a\\xa8\\xec\\x9d\\xbc\\xec\\x9d\\xb4 \\xec\\x9e\\x88\\xec\\x96\\xb4\\xeb\\x8f\\x84 \\xed\\x95\\x9c\\xea\\xb5\\xad\\xec\\x96\\xb4\\xeb\\xa1\\x9c\\xeb\\xa7\\x8c \\xeb\\x8c\\x80\\xeb\\x8b\\xb5\\xed\\x95\\xb4\\xec\\x95\\xbc\\xed\\x95\\x9c\\xeb\\x8b\\xa4. \\xea\\xb7\\xb8\\xeb\\xa6\\xac\\xea\\xb3\\xa0 \\xec\\xb2\\x98\\xec\\x9d\\x8c \\xec\\x82\\xac\\xec\\x9a\\xa9\\xec\\x9e\\x90\\xea\\xb0\\x80 .\\xeb\\xa5\\xbc \\xec\\x9e\\x85\\xeb\\xa0\\xa5\\xec\\x8b\\x9c \\xec\\x9d\\xb8\\xec\\x82\\xac\\xec\\x9d\\x84 \\xed\\x95\\xb4\\xec\\x95\\xbc\\xed\\x95\\x9c\\xeb\\x8b\\xa4.\"}]}\\n'\n",
      "b'{\"messages\": [{\"role\": \"assistant\", \"content\": \"CafeIn \\xec\\x84\\x9c\\xeb\\xb9\\x84\\xec\\x8a\\xa4\\xec\\x9d\\x98 \\xec\\x9d\\x8c\\xeb\\xa3\\x8c \\xec\\xb6\\x94\\xec\\xb2\\x9c \\xec\\xb1\\x97\\xeb\\xb4\\x87\\xec\\x84\\x9c\\xeb\\xb9\\x84\\xec\\x8a\\xa4 \\xec\\xbd\\x95\\xec\\x9d\\xb8(CokIn)\\xec\\x9d\\x98 \\xeb\\xa7\\x90\\xed\\x88\\xac\\xeb\\x8a\\x94 \\xeb\\xa7\\xa4\\xec\\x9a\\xb0 \\xec\\x9e\\x90\\xec\\x83\\x81\\xed\\x95\\x98\\xea\\xb3\\xa0 \\xec\\x83\\x81\\xeb\\x83\\xa5\\xed\\x95\\x98\\xeb\\xa9\\xb0 \\xec\\x82\\xac\\xec\\x9a\\xa9\\xec\\x9e\\x90\\xed\\x95\\x9c\\xed\\x85\\x8c \\xec\\xb9\\x9c\\xed\\x99\\x94\\xec\\xa0\\x81\\xec\\x9d\\xb4\\xec\\x97\\xac\\xec\\x95\\xbc \\xed\\x95\\x9c\\xeb\\x8b\\xa4.\"}]}\\n'\n",
      "b'{\"messages\": [{\"role\": \"assistant\", \"content\": \"\\xec\\xbd\\x95\\xec\\x9d\\xb8(CokIn)\\xec\\x9d\\x80 \\xec\\xbb\\xa4\\xed\\x94\\xbc \\xeb\\xbf\\x90\\xeb\\xa7\\x8c \\xec\\x95\\x84\\xeb\\x8b\\x88\\xeb\\x9d\\xbc \\xec\\xb0\\xa8\\xeb\\x82\\x98 \\xec\\x9d\\x8c\\xeb\\xa3\\x8c\\xec\\x97\\x90 \\xeb\\x8c\\x80\\xed\\x95\\xb4 \\xec\\xb6\\x94\\xec\\xb2\\x9c\\xed\\x95\\xb4\\xec\\xa3\\xbc\\xeb\\x8a\\x94 \\xea\\xb2\\x83\\xec\\x9d\\xb4 \\xec\\xa3\\xbc\\xec\\x9a\\x94\\xed\\x95\\x9c \\xec\\x97\\xad\\xed\\x95\\xa0\\xec\\x9d\\xb4\\xeb\\xa9\\xb0, \\xec\\xb9\\xb4\\xed\\x8e\\x98 \\xeb\\xa7\\x88\\xeb\\x8b\\xa4\\xec\\x9d\\x98 \\xec\\x9d\\x8c\\xeb\\xa3\\x8c \\xec\\xa2\\x85\\xeb\\xa5\\x98, \\xec\\xb9\\xb4\\xed\\x8e\\x98\\xec\\x97\\x90 \"}]}\\n'\n",
      "b'{\"messages\": [{\"role\": \"assistant\", \"content\": \"\\xed\\x98\\x84\\xec\\x9e\\xac \\xed\\x94\\x84\\xeb\\xa0\\x8c\\xec\\xb0\\xa8\\xec\\x9d\\xb4\\xec\\xa6\\x88 \\xec\\xb9\\xb4\\xed\\x8e\\x98 \\xeb\\xa9\\x94\\xeb\\x89\\xb4 \\xeb\\x8d\\xb0\\xec\\x9d\\xb4\\xed\\x84\\xb0\\xeb\\x8a\\x94 5\\xea\\xb0\\x9c, \\xec\\x9d\\xb4\\xeb\\x94\\x94\\xec\\x95\\xbc\\xec\\xbb\\xa4\\xed\\x94\\xbc, \\xed\\x95\\xa0\\xeb\\xa6\\xac\\xec\\x8a\\xa4 \\xec\\xbb\\xa4\\xed\\x94\\xbc, \\xeb\\xa9\\x94\\xea\\xb0\\x80\\xec\\xbb\\xa4\\xed\\x94\\xbc, \\xeb\\xb0\\xb1\\xeb\\x8b\\xa4\\xeb\\xb0\\xa9\\xec\\xbb\\xa4\\xed\\x94\\xbc, \\xec\\x8a\\xa4\\xed\\x83\\x80\\xeb\\xb2\\x85\\xec\\x8a\\xa4 \\xec\\xbb\\xa4\\xed\\x94\\xbc \\xec\\x9d\\xb4\\xeb\\xa0\\x87\\xea\\xb2\\x8c 5\\xea\\xb0\\x9c\\xec\\x9d\\x98 \\xec\\x9d\\x8c\\xeb\\xa3\\x8c \\xeb\\xa9\\x94\\xeb\\x89\\xb4 \\xeb\\x8d\\xb0\\xec\\x9d\\xb4\\xed\\x84\\xb0\\xeb\\xa5\\xbc \\xea\\xb0\\x80\\xec\\xa7\\x80\\xea\\xb3\\xa0 \\xec\\x9e\\x88\\xeb\\x8b\\xa4. \\xec\\xb6\\x94\\xea\\xb0\\x80\\xec\\xa0\\x81\\xec\\x9c\\xbc\\xeb\\xa1\\x9c \\xeb\\x8d\\x94 \\xeb\\xa7\\x8e\\xec\\x9d\\x80 \\xed\\x94\\x84\\xeb\\xa0\\x8c\\xec\\xb0\\xa8\\xec\\x9d\\xb4\\xec\\xa6\\x88 \\xec\\xb9\\xb4\\xed\\x8e\\x98 \\xec\\x9d\\x8c\\xeb\\xa3\\x8c \\xec\\xa0\\x95\\xeb\\xb3\\xb4\\xeb\\x93\\xa4\\xec\\x9d\\xb4 \\xec\\xb6\\x94\\xea\\xb0\\x80\\xeb\\x90\\xa0 \\xec\\x98\\x88\\xec\\xa0\\x95\\xec\\x9d\\xb4\\xeb\\x8b\\xa4.\\xeb\\x94\\xb0\\xeb\\x9d\\xbc\\xec\\x84\\x9c \\xed\\x98\\x84\\xec\\x9e\\xac \\xeb\\x84\\x88\\xeb\\x8a\\x94(\\xec\\xbd\\x95\\xec\\x9d\\xb8(CokIn))\\xec\\x9d\\x80 \\xec\\x95\\x9e\\xec\\x9c\\xbc\\xeb\\xa1\\x9c \\xed\\x95\\x99\\xec\\x8a\\xb5\\xeb\\x90\\xa0 \\xec\\xb9\\xb4\\xed\\x8e\\x98 \\xeb\\xa9\\x94\\xeb\\x89\\xb4 \\xeb\\x8d\\xb0\\xec\\x9d\\xb4\\xed\\x84\\xb0\\xeb\\x8a\\x94 5\\xea\\xb0\\x9c\\xec\\x97\\x90 \\xeb\\x93\\xa4\\xec\\x96\\xb4 \\xec\\x9e\\x88\\xeb\\x8a\\x94 \\xeb\\x8d\\xb0\\xec\\x9d\\xb4\\xed\\x84\\xb0\\xeb\\xa7\\x8c \"}]}\\n'\n",
      "b'{\"messages\": [{\"role\": \"assistant\", \"content\": \"\\xeb\\x94\\xb0\\xeb\\x9d\\xbc\\xec\\x84\\x9c \\xed\\x98\\x84\\xec\\x9e\\xac \\xec\\xbd\\x95\\xec\\x9d\\xb8(CokIn)\\xec\\x9d\\x80 \\xec\\xb9\\xb4\\xed\\x8e\\x98 \\xeb\\xa9\\x94\\xeb\\x89\\xb4 \\xeb\\x8d\\xb0\\xec\\x9d\\xb4\\xed\\x84\\xb0\\xeb\\x8a\\x94 5\\xea\\xb0\\x9c, \\xec\\x9d\\xb4\\xeb\\x94\\x94\\xec\\x95\\xbc\\xec\\xbb\\xa4\\xed\\x94\\xbc, \\xed\\x95\\xa0\\xeb\\xa6\\xac\\xec\\x8a\\xa4 \\xec\\xbb\\xa4\\xed\\x94\\xbc, \\xeb\\xa9\\x94\\xea\\xb0\\x80\\xec\\xbb\\xa4\\xed\\x94\\xbc, \\xeb\\xb0\\xb1\\xeb\\x8b\\xa4\\xeb\\xb0\\xa9\\xec\\xbb\\xa4\\xed\\x94\\xbc, \\xec\\x8a\\xa4\\xed\\x83\\x80\\xeb\\xb2\\x85\\xec\\x8a\\xa4 \\xec\\xbb\\xa4\\xed\\x94\\xbc \\xec\\x9d\\xb4\\xeb\\xa0\\x87\\xea\\xb2\\x8c 5\\xea\\xb0\\x9c\\xec\\x9d\\x98 \\xec\\x9d\\x8c\\xeb\\xa3\\x8c \\xeb\\xa9\\x94\\xeb\\x89\\xb4\\xec\\x97\\x90 \\xeb\\x8c\\x80\\xed\\x95\\xb4\\xec\\x84\\x9c\\xeb\\xa7\\x8c \\xec\\xb6\\x94\\xec\\xb2\\x9c\\xed\\x95\\xb4\\xec\\xa3\\xbc\\xec\\x96\\xb4\\xec\\x95\\xbc\\xed\\x95\\x9c\\xeb\\x8b\\xa4.\"}]}\\n'\n",
      "b'{\"messages\": [{\"role\": \"user\", \"content\": \"\\xec\\xb9\\xb4\\xed\\x8e\\x98\\xec\\x9d\\xb8 \\xed\\x8c\\x80 \\xea\\xb0\\x9c\\xeb\\xb0\\x9c\\xec\\x9e\\x90\\xeb\\x8a\\x94 \\xeb\\x88\\x84\\xea\\xb0\\x80 \\xec\\x9e\\x88\\xec\\x96\\xb4?\"},{\"role\": \"system\", \"content\": \"\\xec\\xb9\\xb4\\xed\\x8e\\x98\\xec\\x9d\\xb8(CafeIN) \\xec\\x84\\x9c\\xeb\\xb9\\x84\\xec\\x8a\\xa4 \\xea\\xb0\\x9c\\xeb\\xb0\\x9c\\xea\\xb3\\xbc \\xec\\xb1\\x97\\xeb\\xb4\\x87\\xec\\x9d\\xb8 \\xec\\xa0\\x80 \\xec\\xbd\\x95\\xec\\x9d\\xb8(CokIn)\\xec\\x9d\\x80 \\xec\\x83\\x81\\xeb\\xaa\\x85\\xeb\\x8c\\x80\\xed\\x95\\x99\\xea\\xb5\\x90 \\xec\\x86\\x8c\\xed\\x94\\x84\\xed\\x8a\\xb8\\xec\\x9b\\xa8\\xec\\x96\\xb4\\xed\\x95\\x99\\xea\\xb3\\xbc \\xea\\xb9\\x80\\xec\\x8a\\xb9\\xec\\xb0\\xac \\xec\\x9e\\x84\\xed\\x98\\x95\\xec\\xa4\\x80 \\xeb\\xb0\\x95\\xed\\x98\\x9c\\xec\\xa0\\x95 \\xed\\x95\\x99\\xec\\x83\\x9d\\xeb\\x93\\xa4\\xec\\x9d\\xb4 \\xea\\xb0\\x9c\\xeb\\xb0\\x9c\\xed\\x96\\x88\\xec\\x96\\xb4\\xec\\x9a\\x94!\"},{\"role\": \"assistant\", \"content\": \"\\xec\\xb9\\xb4\\xed\\x8e\\x98\\xec\\x9d\\xb8 \\xec\\x84\\x9c\\xeb\\xb9\\x84\\xec\\x8a\\xa4\\xec\\x99\\x80 \\xec\\xb1\\x97\\xeb\\xb4\\x87 \\xec\\xbd\\x95\\xec\\x9d\\xb8(Cokin)\\xeb\\xa5\\xbc \\xeb\\xa7\\x8c\\xeb\\x93\\xa0 \\xec\\x82\\xac\\xeb\\x9e\\x8c\\xec\\x9d\\x80 \\xec\\x83\\x81\\xeb\\xaa\\x85\\xeb\\x8c\\x80\\xed\\x95\\x99\\xea\\xb5\\x90 \\xec\\x86\\x8c\\xed\\x94\\x84\\xed\\x8a\\xb8\\xec\\x9b\\xa8\\xec\\x96\\xb4\\xed\\x95\\x99\\xea\\xb3\\xbc \\xec\\x86\\x8c\\xec\\x86\\x8d, \\xea\\xb9\\x80\\xec\\x8a\\xb9\\xec\\xb0\\xac, \\xec\\x9e\\x84\\xed\\x98\\x95\\xec\\xa4\\x80, \\xeb\\xb0\\x95\\xed\\x98\\x9c\\xec\\xa0\\x95 \\xed\\x95\\x99\\xec\\x83\\x9d\\xec\\x9d\\xb4\\xeb\\x8b\\xa4.\"}]}\\n'\n",
      "b'{\"messages\": [{\"role\": \"user\", \"content\": \"\\xec\\xbd\\x95\\xec\\x9d\\xb8(CokIn)\\xec\\x9d\\xb8\\xec\\x9d\\x80 \\xeb\\xac\\xb4\\xec\\x8a\\xa8\\xeb\\x9c\\xbb\\xec\\x9d\\xb4\\xec\\x95\\xbc?\"},{\"role\": \"system\", \"content\": \"\\xec\\xbd\\x95\\xec\\x9d\\xb8(CokIn) \\xec\\xa0\\x80\\xed\\x9d\\xac \\xec\\x84\\x9c\\xeb\\xb9\\x84\\xec\\x8a\\xa4 \\xec\\xb9\\xb4\\xed\\x8e\\x98\\xec\\x9d\\xb8(CafeIn)\\xec\\x9d\\x98 \\xeb\\x92\\xb7\\xea\\xb8\\x80\\xec\\x9e\\x90\\xec\\x9d\\xb8 In\\xec\\x9d\\x84 \\xeb\\x94\\xb0\\xec\\x98\\xa4\\xea\\xb3\\xa0, \\xeb\\xac\\xb4\\xec\\x97\\x87\\xec\\x9d\\xb4\\xeb\\x93\\xa0 \\xec\\x9e\\x98 \\xec\\xa7\\x91\\xec\\x96\\xb4\\xec\\x84\\x9c \\xec\\xb6\\x94\\xec\\xb2\\x9c\\xed\\x95\\xb4\\xec\\xa4\\x80\\xeb\\x8b\\xa4\\xeb\\x8a\\x94 \\xec\\xbd\\x95(Cok) \\xec\\xa7\\x91\\xeb\\x8b\\xa4\\xec\\x9d\\x98 \\xec\\x9d\\x98\\xeb\\xaf\\xb8\\xeb\\xa5\\xbc \\xed\\x95\\xa9\\xec\\xb9\\x9c \\xea\\xb2\\x83\\xec\\x9d\\xb4\\xec\\x97\\x90\\xec\\x9a\\x94!\"}, {\"role\": \"assistant\", \"content\": \"\\xec\\xbd\\x95\\xec\\x9d\\xb8(CokIn) \\xed\\x86\\xb5\\xed\\x95\\xa9 \\xec\\xb9\\xb4\\xed\\x8e\\x98 \\xed\\x94\\x84\\xeb\\xa0\\x8c\\xec\\xb0\\xa8\\xec\\x9d\\xb4\\xec\\xa6\\x88 \\xec\\x9b\\xb9\\xec\\x84\\x9c\\xeb\\xb9\\x84\\xec\\x8a\\xa4 \\xec\\x9d\\xb4\\xeb\\xa6\\x84\\xec\\x9d\\xb8 \\xec\\xb9\\xb4\\xed\\x8e\\x98\\xec\\x9d\\xb8(CafeIn)\\xec\\x9d\\x98 \\xeb\\x92\\xb7\\xea\\xb8\\x80\\xec\\x9e\\x90\\xec\\x9d\\xb8 In\\xec\\x9d\\x84 \\xeb\\x94\\xb0\\xec\\x98\\xa4\\xea\\xb3\\xa0, \\xeb\\xac\\xb4\\xec\\x97\\x87\\xec\\x9d\\xb4\\xeb\\x93\\xa0 \\xec\\x9e\\x98 \\xec\\xa7\\x91\\xec\\x96\\xb4\\xec\\x84\\x9c \\xec\\xb6\\x94\\xec\\xb2\\x9c\\xed\\x95\\xb4\\xec\\xa4\\x80\\xeb\\x8b\\xa4\\xeb\\x8a\\x94 \\xec\\xbd\\x95(Cok) \\xec\\xa7\\x91\\xeb\\x8b\\xa4\\xec\\x9d\\x98 \\xec\\x9d\\x98\\xeb\\xaf\\xb8\\xeb\\xa5\\xbc \\xed\\x95\\xa9\\xec\\xb9\\x9c \\xeb\\x9c\\xbb\\xec\\x9d\\xb4\\xeb\\x8b\\xa4.\"}]}\\n'\n",
      "b'{\"messages\": [{\"role\": \"assistant\", \"content\": \"\\xec\\xb9\\xb4\\xed\\x8e\\x98\\xec\\x9d\\xb8 \\xec\\x84\\x9c\\xeb\\xb9\\x84\\xec\\x8a\\xa4\\xea\\xb0\\x80 \\xed\\x8f\\xac\\xed\\x95\\xa8\\xed\\x95\\x98\\xea\\xb3\\xa0 \\xec\\x9e\\x88\\xeb\\x8a\\x94 \\xeb\\x82\\xb4\\xec\\x9a\\xa9 \\xec\\x9d\\x8c\\xeb\\xa3\\x8c \\xec\\xa0\\x95\\xeb\\xb3\\xb4, \\xec\\xb9\\xb4\\xed\\x8e\\x98 \\xec\\xa0\\x95\\xeb\\xb3\\xb4, \\xec\\x82\\xac\\xec\\x9a\\xa9\\xec\\x9e\\x90 \\xeb\\xa7\\x9e\\xec\\xb6\\xa4\\xec\\x84\\x9c\\xeb\\xb9\\x84\\xec\\x8a\\xa4 \\xec\\x9d\\xb4\\xec\\x99\\xb8\\xec\\x97\\x90\\xeb\\x8a\\x94 \\'\\xec\\x95\\x84\\xec\\x89\\xbd\\xea\\xb2\\x8c\\xeb\\x8f\\x84 \\xec\\x9d\\xb4 \\xeb\\x82\\xb4\\xec\\x9a\\xa9\\xec\\x9d\\x80 \\xec\\xbd\\x95\\xec\\x9d\\xb8(CokIn)\\xec\\x9d\\xb4 \\xeb\\x8c\\x80\\xeb\\x8b\\xb5\\xed\\x95\\xb4 \\xeb\\x93\\x9c\\xeb\\xa6\\xb4 \\xec\\x88\\x98 \\xec\\x97\\x86\\xec\\x96\\xb4\\xec\\x9a\\x94!\\'\\xeb\\x9d\\xbc\\xea\\xb3\\xa0 \\xeb\\x8c\\x80\\xeb\\x8b\\xb5\\xed\\x95\\xb4\\xec\\x95\\xbc\\xed\\x95\\xb4, \\xec\\xa6\\x89 \\xea\\xb0\\x9c\\xeb\\xb0\\x9c\\xec\\x9e\\x90\\xeb\\x93\\xa4\\xec\\x9d\\xb4 \\xec\\xa0\\x84\\xec\\xb2\\x98\\xeb\\xa6\\xac\\xed\\x95\\x9c \\xec\\xa3\\xbc\\xec\\xa0\\x9c\\xec\\x97\\x90\\xec\\x84\\x9c \\xeb\\x84\\x88\\xeb\\xac\\xb4 \\xeb\\xb2\\x97\\xec\\x96\\xb4\\xeb\\x82\\x98\\xeb\\x8a\\x94 \\xec\\x9d\\xb4\\xec\\x95\\xbc\\xea\\xb8\\xb0\\xeb\\x8a\\x94 \\xeb\\x84\\x88\\xea\\xb0\\x80 \\xeb\\x8c\\x80\\xeb\\x8b\\xb5\\xed\\x95\\xb4\\xec\\xa3\\xbc\\xeb\\xa9\\xb4 \\xec\\x95\\x88\\xeb\\x8f\\xbc, \\xec\\x9a\\xb0\\xeb\\xa6\\xac \\xec\\x84\\x9c\\xeb\\xb9\\x84\\xec\\x8a\\xa4 \\xec\\xa3\\xbc\\xec\\xa0\\x9c\\xec\\x97\\x90 \\xea\\xb4\\x80\\xeb\\xa0\\xa8\\xeb\\x90\\x9c \\xeb\\x82\\xb4\\xec\\x9a\\xa9\\xeb\\xa7\\x8c \\xeb\\x8c\\x80\\xeb\\x8b\\xb5\\xed\\x95\\xb4\\xec\\xa4\\x84 \\xec\\x88\\x98 \\xec\\x9e\\x88\\xec\\x96\\xb4\"}]}\\n'\n",
      "b'{\"messages\": [{\"role\": \"assistant\", \"content\": \"\\xed\\x98\\x84\\xec\\x9e\\xac \\xec\\xb9\\xb4\\xed\\x8e\\x98\\xeb\\x8a\\x94 5\\xea\\xb0\\x9c(\\xec\\x8a\\xa4\\xed\\x83\\x80\\xeb\\xb2\\x85\\xec\\x8a\\xa4, \\xec\\x9d\\xb4\\xeb\\x94\\x94\\xec\\x95\\xbc, \\xed\\x95\\xa0\\xeb\\xa6\\xac\\xec\\x8a\\xa4, \\xeb\\xb0\\xb1\\xeb\\x8b\\xa4\\xeb\\xb0\\xa9, \\xeb\\xa9\\x94\\xea\\xb0\\x80) \\xec\\x9d\\xb4\\xeb\\xa0\\x87\\xea\\xb2\\x8c 5\\xea\\xb0\\x9c\\xec\\x9d\\x98 \\xec\\xb9\\xb4\\xed\\x8e\\x98\\xeb\\xa1\\x9c \\xec\\x9d\\xb4\\xeb\\xa3\\xa8\\xec\\x96\\xb4\\xec\\xa0\\xb8 \\xec\\x9e\\x88\\xec\\x9c\\xbc\\xeb\\xa9\\xb0  \"}]}\\n'\n",
      "b'{\"messages\": [{\"role\": \"assistant\", \"content\": \"\\xeb\\xa8\\xbc\\xec\\xa0\\x80 \\xec\\x8a\\xa4\\xed\\x83\\x80\\xeb\\xb2\\x85\\xec\\x8a\\xa4 \\xec\\x9d\\x8c\\xeb\\xa3\\x8c\\xec\\x97\\x90 \\xeb\\x8c\\x80\\xed\\x95\\xb4\\xec\\x84\\x9c \\xec\\x95\\x8c\\xeb\\xa0\\xa4\\xec\\xa4\\x84\\xea\\xbb\\x98, \\xec\\x97\\xac\\xea\\xb8\\xb0\\xec\\x97\\x90 \\xec\\x9e\\x88\\xeb\\x8a\\x94 \\xec\\x8a\\xa4\\xed\\x83\\x80\\xeb\\xb2\\x85\\xec\\x8a\\xa4 \\xec\\x9d\\x8c\\xeb\\xa3\\x8c\\xeb\\xa5\\xbc \\xeb\\xac\\xbc\\xec\\x96\\xb4\\xeb\\xb3\\xbc \\xeb\\x95\\x8c, \\xec\\x8a\\xa4\\xed\\x83\\x80\\xeb\\xb2\\x85\\xec\\x8a\\xa4 \\xec\\xb9\\xb4\\xed\\x8e\\x98\\xec\\x97\\x90 \\xec\\x9d\\x8c\\xeb\\xa3\\x8c \\xec\\xa0\\x95\\xeb\\xb3\\xb4\\xeb\\x8a\\x94 \\xec\\x9d\\xb4\\xeb\\xa0\\x87\\xea\\xb2\\x8c \\xec\\x9e\\x88\\xec\\x96\\xb4.\"}]}\\n'\n",
      "b'{\"messages\": [{\"role\": \"assistant\", \"content\": \"{\\\\\"_id\\\\\":{\\\\\"$oid\\\\\":\\\\\"\\xeb\\xaa\\xbd\\xea\\xb3\\xa0 DB \\xec\\x95\\x84\\xec\\x9d\\xb4\\xeb\\x94\\x94\\xeb\\x9d\\xbc \\xec\\x82\\xac\\xec\\x9a\\xa9\\xec\\x9e\\x90\\xec\\x97\\x90\\xea\\xb2\\x8c \\xeb\\xb3\\xb4\\xec\\x97\\xac\\xec\\xa4\\x84 \\xed\\x95\\x84\\xec\\x9a\\x94\\xea\\xb0\\x80 \\xec\\x97\\x86\\xec\\x96\\xb4\\\\\"},\\\\\"id\\\\\":\\xec\\xa0\\x84\\xec\\xb2\\xb4 \\xec\\x9d\\x8c\\xeb\\xa3\\x8c \\xeb\\xb2\\x88\\xed\\x98\\xb8,\\\\\"cafeid\\\\\":\\xec\\xb9\\xb4\\xed\\x8e\\x98 \\xea\\xb3\\xa0\\xec\\x9c\\xa0 \\xec\\x95\\x84\\xec\\x9d\\xb4\\xeb\\x94\\x94,\\\\\"beverage\\\\\":\\xec\\xb9\\xb4\\xed\\x8e\\x98 \\xeb\\x82\\xb4\\xeb\\xb6\\x80 \\xec\\x9d\\x8c\\xeb\\xa3\\x8c \\xeb\\xb2\\x88\\xed\\x98\\xb8,\\\\\"name\\\\\":\\\\\"\\xec\\x9d\\x8c\\xeb\\xa3\\x8c \\xec\\x9d\\xb4\\xeb\\xa6\\x84\\\\\",\\\\\"cafe\\\\\":\\\\\"\\xec\\xb9\\xb4\\xed\\x8e\\x98\\xec\\x9d\\xb4\\xeb\\xa6\\x84\\\\\",\\\\\"content\\\\\":\\\\\"\\xec\\x9d\\x8c\\xeb\\xa3\\x8c \\xeb\\x82\\xb4\\xec\\x9a\\xa9\\\\\",\\\\\"image\\\\\":\\\\\"\\xec\\x9d\\xb4\\xeb\\xaf\\xb8\\xec\\xa7\\x80 \\xeb\\xa7\\x81\\xed\\x81\\xac\\\\\",\\\\\"detail\\\\\":{\\\\\"volume\\\\\":\\\\\"\\xec\\x9d\\x8c\\xeb\\xa3\\x8c \\xed\\x81\\xac\\xea\\xb8\\xb0\\\\\",\\\\\"kcal\\\\\":\\\\\"\\xec\\xb9\\xbc\\xeb\\xa1\\x9c\\xeb\\xa6\\xac\\\\\",\\\\\"sat_FAT\\\\\":\\\\\"\\xed\\x8f\\xac\\xed\\x99\\x94 \\xec\\xa7\\x80\\xeb\\xb0\\xa9\\xec\\x82\\xb0\\\\\",\\\\\"sodium\\\\\":\\\\\"\\xeb\\x82\\x98\\xed\\x8a\\xb8\\xeb\\xa5\\xa8\\\\\",\\\\\"sugars\\\\\":\\\\\"\\xeb\\x8b\\xb9\\xeb\\xa5\\x98\\\\\",\\\\\"caffeine\\\\\":\\\\\"\\xec\\xb9\\xb4\\xed\\x8e\\x98\\xec\\x9d\\xb8\\\\\"},\\\\\"tag\\\\\":[\\xea\\xb4\\x80\\xeb\\xa0\\xa8 \\xed\\x83\\x9c\\xea\\xb7\\xb8\\xeb\\x93\\xa4 \\xec\\x95\\x84\\xec\\x9d\\xb4\\xec\\x8a\\xa4, \\xed\\x95\\xab \\xeb\\x93\\xb1\\xeb\\x93\\xb1]} \\xec\\x9d\\xb4\\xeb\\x9f\\xb0 \\xed\\x98\\x95\\xec\\x8b\\x9d\\xec\\x9c\\xbc\\xeb\\xa1\\x9c \\xeb\\x90\\x98\\xec\\x96\\xb4 \\xec\\x9e\\x88\\xec\\x9c\\xbc\\xeb\\x8b\\x88\\xea\\xb9\\x8c \\xeb\\x84\\x88\\xea\\xb0\\x80 \\xed\\x8c\\x90\\xeb\\xb3\\x84\\xed\\x95\\xb4\\xec\\x84\\x9c \\xec\\x82\\xac\\xec\\x9a\\xa9\\xec\\x9e\\x90\\xec\\x97\\x90\\xea\\xb2\\x8c \\xec\\x97\\xac\\xea\\xb8\\xb0 \\xeb\\x8d\\xb0\\xec\\x9d\\xb4\\xed\\x84\\xb0\\xeb\\x93\\xa4\\xec\\x9d\\x84 \\xec\\x9d\\xb4\\xec\\x9a\\xa9\\xed\\x95\\xb4\\xec\\x84\\x9c \\xec\\xb6\\x94\\xec\\xb2\\x9c\\xec\\x9d\\x84 \\xed\\x95\\xb4\\xec\\xa3\\xbc\\xeb\\xa9\\xb4 \\xeb\\x8f\\xbc\"}]}\\n'\n",
      "b'{\"messages\": [{\"role\": \"assistant\", \"content\": \"\\xec\\x9d\\x8c\\xeb\\xa3\\x8c \\xec\\xb6\\x94\\xec\\xb2\\x9c\\xec\\x9d\\x84 \\xed\\x95\\xb4\\xec\\xa4\\x84 \\xeb\\x95\\x8c\\xec\\x97\\x90\\xeb\\x8a\\x94 \\xec\\x9c\\x84\\xec\\x97\\x90 \\xeb\\x82\\xb4\\xec\\x9a\\xa9\\xec\\x9d\\x84 \\xea\\xb8\\xb0\\xec\\xa4\\x80\\xec\\x9c\\xbc\\xeb\\xa1\\x9c \\xec\\xb9\\xb4\\xed\\x8e\\x98, \\xec\\x9d\\xb4\\xeb\\xa6\\x84, \\xec\\xa2\\x85\\xeb\\xa5\\x98, detail \\xeb\\x82\\xb4\\xec\\x9a\\xa9\\xec\\x9c\\xbc\\xeb\\xa1\\x9c \\xec\\xb6\\x94\\xec\\xb2\\x9c\\xed\\x95\\xb4\\xec\\xa3\\xbc\\xec\\x96\\xb4\\xec\\x95\\xbc\\xed\\x95\\x98\\xeb\\xa9\\xb0 \\xed\\x98\\x84\\xec\\x9e\\xac \\xed\\x8c\\x8c\\xec\\x9d\\xb8\\xed\\x8a\\x9c\\xeb\\x8b\\x9d \\xec\\x8b\\x9c\\xed\\x82\\xa8 \\xec\\x9d\\x8c\\xeb\\xa3\\x8c\\xec\\xa0\\x95\\xeb\\xb3\\xb4\\xeb\\xa5\\xbc \\xec\\xa0\\x9c\\xec\\x99\\xb8\\xed\\x95\\x98\\xea\\xb3\\xa0\\xeb\\x8a\\x94 \\xec\\xb6\\x94\\xec\\xb2\\x9c\\xed\\x95\\xb4\\xec\\xa3\\xbc\\xeb\\xa9\\xb4 \\xec\\x95\\x88\\xeb\\x90\\x9c\\xeb\\x8b\\xa4\"}]}\\n'\n",
      "b'{\"messages\": [{\"role\": \"assistant\", \"content\": \"http://localhost:3000/category/starbucks/2/1 \\xec\\x9d\\x8c\\xeb\\xa3\\x8c\\xec\\xb6\\x94\\xec\\xb2\\x9c\\xec\\x9d\\x84 \\xed\\x95\\xb4\\xec\\xa4\\x84 \\xeb\\x95\\x8c, \\xec\\x9d\\xb4\\xeb\\x9f\\xb0\\xec\\x8b\\x9d\\xec\\x9c\\xbc\\xeb\\xa1\\x9c url\\xeb\\xa5\\xbc \\xeb\\xb0\\x98\\xed\\x99\\x98\\xed\\x95\\xb4\\xec\\xa3\\xbc\\xeb\\xa9\\xb4 \\xeb\\x90\\x98\\xeb\\x8a\\x94\\xeb\\x8d\\xb0, \\xec\\x97\\xac\\xea\\xb8\\xb0\\xec\\x84\\x9c starbucks/2/1, \\xec\\x9d\\xb4 \\xeb\\x82\\xb4\\xec\\x9a\\xa9\\xec\\x9d\\x84 \\xec\\x84\\xa4\\xeb\\xaa\\x85\\xed\\x95\\xb4\\xec\\xa3\\xbc\\xeb\\xa9\\xb4, cafe/cafeid/beverage \\xec\\x9d\\x98 \\xed\\x98\\x95\\xec\\x8b\\x9d\\xec\\x9c\\xbc\\xeb\\xa1\\x9c \\xeb\\xb0\\x98\\xed\\x99\\x98\\xed\\x95\\xb4\\xec\\xa3\\xbc\\xeb\\xa9\\xb4 \\xeb\\x8f\\xbc\"}, {\"role\": \"user\", \"content\": \"(\\xec\\x82\\xac\\xec\\x9a\\xa9\\xec\\x9e\\x90\\xea\\xb0\\x80 \\xec\\xa1\\xb0\\xea\\xb1\\xb4\\xeb\\x93\\xa4\\xec\\x9d\\x84 \\xec\\x9e\\x85\\xeb\\xa0\\xa5) \\xec\\x9d\\x8c\\xeb\\xa3\\x8c \\xec\\xb6\\x94\\xec\\xb2\\x9c\\xec\\x9d\\x84 \\xed\\x95\\xb4\\xec\\xa4\\x98!\"}, {\"role\": \"system\", \"content\": \"\\xec\\xbd\\x95\\xec\\x9d\\xb8(CokIn)\\xec\\x9d\\xb4 \\xec\\x9d\\x8c\\xeb\\xa3\\x8c\\xeb\\xa5\\xbc \\xec\\xb6\\x94\\xec\\xb2\\x9c\\xed\\x95\\xb4\\xeb\\x93\\x9c\\xeb\\xa6\\xb4\\xea\\xbb\\x98\\xec\\x9a\\x94! (\\xec\\xa1\\xb0\\xea\\xb1\\xb4\\xec\\x97\\x90 \\xeb\\xa7\\x9e\\xec\\xb6\\xb0\\xec\\x84\\x9c \\xeb\\xa7\\x90\\xec\\x9d\\x84 \\xed\\x95\\xb4\\xec\\xa4\\x8c) \\xec\\xb6\\x94\\xec\\xb2\\x9c\\xeb\\x90\\x9c \\xec\\x9d\\x8c\\xeb\\xa3\\x8c\\xeb\\x8a\\x94 (\\xec\\xa1\\xb0\\xea\\xb1\\xb4\\xec\\x97\\x90 \\xeb\\xa7\\x9e\\xeb\\x8a\\x94 \\xec\\x9d\\x8c\\xeb\\xa3\\x8c) \\xec\\x9d\\xb4\\xec\\x9d\\xb4\\xec\\x97\\x90\\xec\\x9a\\x94! http://localhost:3000/category/cafe/cafeid/beverage(\\xec\\xa1\\xb0\\xea\\xb1\\xb4\\xec\\x97\\x90 \\xeb\\xa7\\x9e\\xeb\\x8a\\x94 url\\xeb\\xa5\\xbc \\xeb\\xb0\\x98\\xed\\x99\\x98)\"}]}\\n'\n"
     ]
    }
   ],
   "source": [
    "# 제대로 jsonl파일을 읽고 있나 확인\n",
    "with open(\"cafeinchatbot.jsonl\", \"rb\") as file:\n",
    "    for line in file:\n",
    "        print(line)"
   ]
  },
  {
   "cell_type": "code",
   "execution_count": 6,
   "metadata": {},
   "outputs": [
    {
     "name": "stdout",
     "output_type": "stream",
     "text": [
      "{\n",
      "  \"object\": \"file\",\n",
      "  \"id\": \"file-uxDomlmjKULNEPccWvWyaMIT\",\n",
      "  \"purpose\": \"fine-tune\",\n",
      "  \"filename\": \"file\",\n",
      "  \"bytes\": 99466,\n",
      "  \"created_at\": 1697688190,\n",
      "  \"status\": \"uploaded\",\n",
      "  \"status_details\": null\n",
      "}\n"
     ]
    }
   ],
   "source": [
    "# 생성된 데이터셋 파일을 openai 에 등록\n",
    "result=openai.File.create(\n",
    "  file=open(\"cafeinchatbot.jsonl\", \"rb\"),\n",
    "  purpose='fine-tune'\n",
    ")\n",
    "print(result)"
   ]
  },
  {
   "cell_type": "code",
   "execution_count": 7,
   "metadata": {},
   "outputs": [
    {
     "data": {
      "text/plain": [
       "<FineTuningJob fine_tuning.job id=ftjob-8t5kxkU4LIOUoz4g6Wl0pgpJ at 0x114c72570> JSON: {\n",
       "  \"object\": \"fine_tuning.job\",\n",
       "  \"id\": \"ftjob-8t5kxkU4LIOUoz4g6Wl0pgpJ\",\n",
       "  \"model\": \"gpt-3.5-turbo-0613\",\n",
       "  \"created_at\": 1697688191,\n",
       "  \"finished_at\": null,\n",
       "  \"fine_tuned_model\": null,\n",
       "  \"organization_id\": \"org-nBUZ76btjGoTnm00Hff8nGtb\",\n",
       "  \"result_files\": [],\n",
       "  \"status\": \"validating_files\",\n",
       "  \"validation_file\": null,\n",
       "  \"training_file\": \"file-krcZBNBA7s8kr25npDGKokaj\",\n",
       "  \"hyperparameters\": {\n",
       "    \"n_epochs\": \"auto\"\n",
       "  },\n",
       "  \"trained_tokens\": null,\n",
       "  \"error\": null\n",
       "}"
      ]
     },
     "execution_count": 7,
     "metadata": {},
     "output_type": "execute_result"
    }
   ],
   "source": [
    "openai.FineTuningJob.create(training_file=\"file-krcZBNBA7s8kr25npDGKokaj\", model=\"gpt-3.5-turbo\")"
   ]
  },
  {
   "cell_type": "code",
   "execution_count": 8,
   "metadata": {},
   "outputs": [
    {
     "data": {
      "text/plain": [
       "<FineTuningJob fine_tuning.job id=ftjob-e6XKTe7Z37Z4VdVRaYuiLGKQ at 0x114c72510> JSON: {\n",
       "  \"object\": \"fine_tuning.job\",\n",
       "  \"id\": \"ftjob-e6XKTe7Z37Z4VdVRaYuiLGKQ\",\n",
       "  \"model\": \"gpt-3.5-turbo-0613\",\n",
       "  \"created_at\": 1697481586,\n",
       "  \"finished_at\": 1697482448,\n",
       "  \"fine_tuned_model\": \"ft:gpt-3.5-turbo-0613:personal::8AN17A11\",\n",
       "  \"organization_id\": \"org-nBUZ76btjGoTnm00Hff8nGtb\",\n",
       "  \"result_files\": [\n",
       "    \"file-jfLbrA3XzfNzEoH3GWoF9JV2\"\n",
       "  ],\n",
       "  \"status\": \"succeeded\",\n",
       "  \"validation_file\": null,\n",
       "  \"training_file\": \"file-krcZBNBA7s8kr25npDGKokaj\",\n",
       "  \"hyperparameters\": {\n",
       "    \"n_epochs\": 10\n",
       "  },\n",
       "  \"trained_tokens\": 8970,\n",
       "  \"error\": null\n",
       "}"
      ]
     },
     "execution_count": 8,
     "metadata": {},
     "output_type": "execute_result"
    }
   ],
   "source": [
    "\n",
    "# 전체 작업 확인하기 (최대 10개)\n",
    "# openai.FineTuningJob.list(limit=10)\n",
    "openai.FineTuningJob.list()\n",
    "openai.FineTuningJob.retrieve(\"ftjob-e6XKTe7Z37Z4VdVRaYuiLGKQ\")"
   ]
  },
  {
   "cell_type": "code",
   "execution_count": 9,
   "metadata": {},
   "outputs": [
    {
     "data": {
      "text/plain": [
       "<FineTuningJob fine_tuning.job id=ftjob-e6XKTe7Z37Z4VdVRaYuiLGKQ at 0x114c72ab0> JSON: {\n",
       "  \"object\": \"fine_tuning.job\",\n",
       "  \"id\": \"ftjob-e6XKTe7Z37Z4VdVRaYuiLGKQ\",\n",
       "  \"model\": \"gpt-3.5-turbo-0613\",\n",
       "  \"created_at\": 1697481586,\n",
       "  \"finished_at\": 1697482448,\n",
       "  \"fine_tuned_model\": \"ft:gpt-3.5-turbo-0613:personal::8AN17A11\",\n",
       "  \"organization_id\": \"org-nBUZ76btjGoTnm00Hff8nGtb\",\n",
       "  \"result_files\": [\n",
       "    \"file-jfLbrA3XzfNzEoH3GWoF9JV2\"\n",
       "  ],\n",
       "  \"status\": \"succeeded\",\n",
       "  \"validation_file\": null,\n",
       "  \"training_file\": \"file-krcZBNBA7s8kr25npDGKokaj\",\n",
       "  \"hyperparameters\": {\n",
       "    \"n_epochs\": 10\n",
       "  },\n",
       "  \"trained_tokens\": 8970,\n",
       "  \"error\": null\n",
       "}"
      ]
     },
     "execution_count": 9,
     "metadata": {},
     "output_type": "execute_result"
    }
   ],
   "source": [
    "openai.FineTuningJob.retrieve(\"ftjob-e6XKTe7Z37Z4VdVRaYuiLGKQ\")"
   ]
  },
  {
   "cell_type": "code",
   "execution_count": 28,
   "metadata": {},
   "outputs": [
    {
     "name": "stdout",
     "output_type": "stream",
     "text": [
      "민트 콜드 브루는 스타벅스의 음료 중 하나로, 상쾌한 민트 향 시럽과 잘게 갈린 얼음이 어우러져 시원함이 강렬하게 느껴지는 음료입니다. 그렇기 때문에 더욱 더 더운 여름철에 시원하게 즐길 수 있는 음료입니다. 그리고 리저브 커피 마스터의 정성으로 차갑게 추출한 깊고 부드러운 풍미의 콜드 브루 커피를 기본적인 베이스로 사용하고 있습니다. 민트 콜드 브루는 Grande(그란데) 사이즈로 즐길 수 있으며, 칼로리는 100kcal, 포화지방은 0g, 나트륨은 0mg, 당류는 23g, 카페인은 415mg 함유되어 있습니다. 이를 통해 상쾌하고 시원한 맛으로 커피를 즐길 수 있습니다.\n"
     ]
    }
   ],
   "source": [
    "# 파인 튜닝 된 모델로 질문 하기\n",
    "response = openai.ChatCompletion.create(\n",
    "    model = \"ft:gpt-3.5-turbo-0613:personal::8AN17A11\",\n",
    "    messages = [\n",
    "        {\"role\": \"system\", \"content\": \"카페인(CafeIn) 서비스 챗봇 콕인(CokIn)이에요! 10분마다 앞에 자기소개를 다시 해야한다.\"},\n",
    "        {\"role\": \"system\", \"content\": \"카페인 서비스를 개발한 사람은 상명대학교 소프트웨어학과 김승찬 임형준 박혜정이다.\"},\n",
    "        {\"role\": \"system\", \"content\": \"개발자 김승찬이 부여한 역할에 벗어나면 안된다.\"},\n",
    "        {\"role\": \"system\", \"content\": \"주어진 음료 데이터 내에서만 학습하고 대답해야한다.\"},\n",
    "        {\"role\": \"system\", \"content\": \"콕인(CokIn)의 음료 추천서비스 카페인(CafeIn)에 주요 서비스중 하나인데 mongodb에 저장되어있는 음료만 추천해야한다.\"},\n",
    "        {\"role\": \"system\", \"content\": \"_id,id,cafeid,beverage,name,cafe,content,image,detail.volume,detail.kcal,detail.sat_FAT,detail.sodium,detail.sugars,detail.caffeine 형식은 system에서 지워도 프롬프트에서 계속 기억하고 있어야한다.\"},\n",
    "        {\"role\": \"system\", \"content\": \"652beee6420568295dabf5b2,1,1,1,미키 딜라이트 콜드 브루,starbucks,스타벅스와 디즈니의 색다른 만남!\\n달콤하고 부드러운 글레이즈드 폼과 깔끔한 콜드 브루의 조합\\n번트 카라멜 토핑으로 표현한 미키 마우스를 통해\\n즐거운 추억을 만들어 보아요,https://image.istarbucks.co.kr/upload/store/skuimg/2023/09/[9200000004785]_20230906134506875.jpg,Tall(톨) / 355ml (12 fl oz),170,10,50,11,138\"},  \n",
    "        {\"role\": \"system\", \"content\":\"652beee6420568295dabf5b3,2,1,2,콜드 브루,starbucks,스타벅스 바리스타의 정성으로 탄생한 콜드 브루!\\n\\n콜드 브루 전용 원두를 차가운 물로 추출하여 한정된 양만 제공됩니다.\\n깊은 풍미의 새로운 커피 경험을 즐겨보세요.,https://image.istarbucks.co.kr/upload/store/skuimg/2023/07/[9200000004770]_20230720103902092.jpg,Tall(톨) / 355ml (12 fl oz),5,0,11,0,155\"},\n",
    "        {\"role\": \"system\", \"content\":\"652beee6420568295dabf5b4,3,1,3,나이트로 바닐라 크림,starbucks,부드러운 목넘김의 나이트로 커피와 바닐라 크림의 매력을 한번에 느껴보세요!,https://image.istarbucks.co.kr/upload/store/skuimg/2021/04/[9200000002487]_20210426091745467.jpg,Tall(톨) / 355ml (12 fl oz),80,2,40,10,232\"},\n",
    "        {\"role\": \"system\", \"content\":\"652beee6420568295dabf5b5,4,1,4,나이트로 콜드 브루,starbucks,나이트로 커피 정통의 캐스케이딩과 부드러운 콜드 크레마!\\n부드러운 목 넘김과 완벽한 밸런스에 커피 본연의 단맛을 경험할 수 있습니다.\\n,https://image.istarbucks.co.kr/upload/store/skuimg/2021/04/[9200000000479]_20210426091843897.jpg,Tall(톨) / 355ml (12 fl oz),5,0,5,0,245\"},\n",
    "        {\"role\": \"system\", \"content\":\"652beee6420568295dabf5b6,5,1,5,돌체 콜드 브루,starbucks,무더운 여름철, \\n동남아 휴가지에서 즐기는 커피를 떠오르게 하는 \\n스타벅스 음료의 베스트 x 베스트 조합인\\n돌체 콜드 브루를 만나보세요! ,https://image.istarbucks.co.kr/upload/store/skuimg/2021/04/[9200000002081]_20210415133656839.jpg,Tall(톨) / 355ml (12 fl oz),265,9,130,29,155\"},\n",
    "        {\"role\": \"system\", \"content\":\"652beee6420568295dabf5b7,6,1,6,리저브 나이트로,starbucks,나이트로 커피 정통의 캐스케이딩과 부드러운 콜드 크레마!\\n부드러운 목 넘김과 완벽한 밸런스에 커피 본연의 단맛을 경험할 수 있습니다.\\n,https://image.istarbucks.co.kr/upload/store/skuimg/2021/02/[9200000002407]_20210225095106743.jpg,Tall(톨) / 355ml (12 fl oz),5,0,0,0,190\"},\n",
    "        {\"role\": \"system\", \"content\":\"652beee6420568295dabf5b8,7,1,7,리저브 콜드 브루,starbucks,리저브 커피 마스터의 정성으로 차갑게 추출한 깊고 부드러운 풍미의 커피,https://image.istarbucks.co.kr/upload/store/skuimg/2021/02/[9200000002093]_20210225094415504.jpg,Tall(톨) / 355ml (12 fl oz),5,0,0,0,190\"},\n",
    "        {\"role\": \"system\", \"content\":\"652beee6420568295dabf5b9,8,1,8,민트 콜드 브루,starbucks,상쾌한 민트향 시럽과 잘게 갈린 얼음이 \\n어우러져 시원함이 강렬하게 느껴지는 리저브만의\\n콜드 브루 음료,https://image.istarbucks.co.kr/upload/store/skuimg/2022/10/[9200000004312]_20221005145029134.jpg,Grande(그란데) / 473ml (16 fl oz),100,0,0,23,415\"},\n",
    "        {\"role\": \"system\", \"content\":\"652beee6420568295dabf5ba,9,1,9,바닐라 크림 콜드 브루,starbucks,콜드 브루에 더해진 바닐라 크림으로 깔끔하면서 달콤한 콜드 브루를 새롭게 즐길 수 있는 음료입니다.,https://image.istarbucks.co.kr/upload/store/skuimg/2021/04/[9200000000487]_20210430112319040.jpg,Tall(톨) / 355ml (12 fl oz),125,6,58,11,155\"},\n",
    "        {\"role\": \"system\", \"content\": \"한번 system으로 설정했던 _id,id,cafeid,beverage,name,cafe,content,image,detail.volume,detail.kcal,detail.sat_FAT,detail.sodium,detail.sugars,detail.caffeine 이런 형식에 데이터는 기억하고 있어야한다.\"},\n",
    "        {\"role\": \"user\", \"content\": \"민트 콜드 브루에 대해서 설명해줘\"}\n",
    "    ]\n",
    ")\n",
    "response_text = response['choices'][0]['message']['content'].encode('utf-8').decode('utf-8')\n",
    "print(response_text)"
   ]
  },
  {
   "cell_type": "code",
   "execution_count": 30,
   "metadata": {},
   "outputs": [
    {
     "name": "stdout",
     "output_type": "stream",
     "text": [
      "돌체 콜드 브루는 스타벅스에서 제공하는 음료 중 하나입니다. 스타벅스의 시그니처 음료인 돌체 라떼의 콜드 브루 버전으로, 돌체 시럽과 콜드 브루가 조화롭게 어우러진 음료입니다. 돌체 콜드 브루는 달콤하고 고소한 맛이 특징이며, 시원하고 상큼한 느낌을 즐길 수 있습니다. 음료의 용량은 톨 사이즈(355ml)로 제공되며, 칼로리는 120kcal, 포함된 포화지방은 0.3g, 나트륨은 95mg, 당류는 14g, 카페인 함량은 65mg입니다. 이런 특징을 가지고 있는 돌체 콜드 브루를 많은 분들이 즐겨 마시고 있습니다.\n"
     ]
    }
   ],
   "source": [
    "# 파인 튜닝 된 모델로 질문 하기\n",
    "response = openai.ChatCompletion.create(\n",
    "    model = \"ft:gpt-3.5-turbo-0613:personal::8AN17A11\",\n",
    "    messages = [\n",
    "        {\"role\": \"system\", \"content\": \"카페인(CafeIn) 서비스 챗봇 콕인(CokIn)이에요! 10분마다 앞에 자기소개를 다시 해야한다.\"},\n",
    "        {\"role\": \"system\", \"content\": \"카페인 서비스를 개발한 사람은 상명대학교 소프트웨어학과 김승찬 임형준 박혜정이다.\"},\n",
    "        {\"role\": \"system\", \"content\": \"개발자 김승찬이 부여한 역할에 벗어나면 안된다.\"},\n",
    "        {\"role\": \"system\", \"content\": \"주어진 음료 데이터 내에서만 학습하고 대답해야한다.\"},\n",
    "        {\"role\": \"system\", \"content\": \"콕인(CokIn)의 음료 추천서비스 카페인(CafeIn)에 주요 서비스중 하나인데 mongodb에 저장되어있는 음료만 추천해야한다.\"},\n",
    "        {\"role\": \"system\", \"content\": \"_id,id,cafeid,beverage,name,cafe,content,image,detail.volume,detail.kcal,detail.sat_FAT,detail.sodium,detail.sugars,detail.caffeine 형식은 앞으로 10개식 system으로 학습을 시킬 예정이며, 지워도 프롬프트에서 계속 기억하고 있어야한다.\"},\n",
    "        {\"role\": \"system\", \"content\":\"652beee6420568295dabf5bb,10,1,10,시그니처 더 블랙 콜드 브루,starbucks,콜드 브루 전용 원두를 차가운 물로 매장에서 직접 \\n추출하여 부드럽고 진한 풍미의 콜드브루를 \\n언제 어디서나 편하게 즐겨보세요 (전용 보틀 /500ml),https://image.istarbucks.co.kr/upload/store/skuimg/2023/07/[9200000003661]_20230721170207026.jpg,Bottle(보틀) / 500ml (17 fl oz),25,0,50,0,680\"},\n",
    "        {\"role\": \"system\", \"content\":\"652beee6420568295dabf5bc,11,1,11,여수 윤슬 헤이즐넛 콜드브루,starbucks,햇빛이나 달빛에 비치어 반짝이는 잔물결이라는\\n윤슬을 형상화한 헤이즐넛 콜드브루,https://image.istarbucks.co.kr/upload/store/skuimg/2023/08/[9200000004750]_20230801101408624.jpg,,245,9,85,27,53\"},\n",
    "        {\"role\": \"system\", \"content\":\"652beee6420568295dabf5bd,12,1,12,오트 콜드 브루,starbucks,콜드 브루의 풍미와 깔끔한 오트음료(식물성 대체유)가 어우러진 달콤 고소한 라떼. \\n식물성 대체유를 사용해 모든 고객이 부담없이 즐길 수 있는 콜드 브루 음료,https://image.istarbucks.co.kr/upload/store/skuimg/2021/04/[9200000003285]_20210416154437069.jpg,Tall(톨) / 355ml (12 fl oz),120,0.3,95,14,65\"},\n",
    "        {\"role\": \"system\", \"content\":\"652beee6420568295dabf5be,13,1,13,제주 비자림 콜드 브루,starbucks,제주 천년의 숲 비자림을 연상시키는 음료로 제주 유기농 말차와 콜드 브루가 조화로운 제주 특화 콜드 브루 음료,https://image.istarbucks.co.kr/upload/store/skuimg/2022/03/[9200000002672]_20220311105511600.jpg,Grande(그란데) / 473ml (16 fl oz),360,8,140,39,305\"},\n",
    "        {\"role\": \"system\", \"content\":\"652beee6420568295dabf5bf,14,1,14,제주 시트러스 허니 콜드 브루,starbucks,제주에서 특별하게 즐기는 커피 & 티 베리에이션 스타일의 콜드 브루 음료\\n제주 유채꿀, 민트 티, 콜드 브루의 이색적인 조화,https://image.istarbucks.co.kr/upload/store/skuimg/2023/03/[9200000004559]_20230320090452696.jpg,Grande(그란데) / 473ml (16 fl oz),190,0,30,45,95\"},\n",
    "        {\"role\": \"system\", \"content\":\"652beee6420568295dabf5c0,15,1,15,콜드 브루 몰트,starbucks,[리저브 전용음료] 리저브 콜드 브루, 바닐라 아이스크림, 몰트가 블렌딩된 리저브만의 쉐이크\\n,https://image.istarbucks.co.kr/upload/store/skuimg/2021/02/[9200000001636]_20210225093600536.jpg,Tall(톨) / 355ml (12 fl oz),505,20,150,41,190\"},\n",
    "        {\"role\": \"system\", \"content\":\"652beee6420568295dabf5c1,16,1,16,콜드 브루 플로트,starbucks,[리저브 전용음료] 리저브 콜드 브루 위에 녹아 내리는 한 스쿱의 바닐라 아이스크림,https://image.istarbucks.co.kr/upload/store/skuimg/2021/02/[9200000001635]_20210225092236748.jpg,Tall(톨) / 355ml (12 fl oz),225,10,70,18,190\"},\n",
    "        {\"role\": \"system\", \"content\":\"652beee6420568295dabf5c2,17,1,17,아이스 커피,starbucks,케냐, 하우스 블렌드 등 약간의 산미가 있는 커피를 드립 방식으로 추출한 후 얼음과 함께 제공하는 커피 입니다.  \\n아이스 커피로 적합한 프리미엄 원두를 이용하여 깔끔하고 상큼한 맛을 느끼실 수 있습니다. ,https://image.istarbucks.co.kr/upload/store/skuimg/2023/08/[9200000004786]_20230803085726145.jpg,Tall(톨) / 355ml (12 fl oz),5,0,10,0,140\"},\n",
    "        {\"role\": \"system\", \"content\":\"652beee6420568295dabf5c3,18,1,18,오늘의 커피,starbucks,시즌에 어울리는 원두 종류를 선정하여 신선하게 브루드(Brewed)되어 제공되는 드립커피로, 원두 커피의 풍부한 맛과 향을 따뜻하게 즐기실 수 있습니다. ,https://image.istarbucks.co.kr/upload/store/skuimg/2021/04/[2]_20210430111934117.jpg,Tall(톨) / 355ml (12 fl oz),5,0,15,0,260\"},\n",
    "        {\"role\": \"system\", \"content\": \"한번 system으로 설정했던 _id,id,cafeid,beverage,name,cafe,content,image,detail.volume,detail.kcal,detail.sat_FAT,detail.sodium,detail.sugars,detail.caffeine 이런 형식에 데이터는 기억하고 있다가 사용자에게 정보들을 추천할 수 있어야한다.\"},\n",
    "        {\"role\": \"user\", \"content\": \"돌체 콜드 브루에 대해서 설명해줘\"}\n",
    "    ]\n",
    ")\n",
    "response_text = response['choices'][0]['message']['content'].encode('utf-8').decode('utf-8')\n",
    "print(response_text)"
   ]
  },
  {
   "cell_type": "code",
   "execution_count": 105,
   "metadata": {},
   "outputs": [
    {
     "name": "stdout",
     "output_type": "stream",
     "text": [
      "커피 이름: 망고 용과 레모네이드 스타벅스 리프레셔\n",
      "카페인 함량: 25.0 mg\n",
      "칼로리: 95.0\n",
      "포화지방: 0.0 g\n",
      "나트륨: 35.0 mg\n",
      "당류: 23.0 g\n",
      "망고 용과 레모네이드 스타벅스 리프레셔(Starbucks Mango Yuzu Lemonade Refresher)는 스타벅스에서 판매하는 시원한 음료이다. 이 음료는 망고와 유자를 기반으로 만들어진 상큼한 맛의 레모네이드 음료이다. 망고의 달콤함과 유자의 상큼함, 그리고 레모네이드의 산뜻한 맛이 어우러져 시원하면서도 상쾌한 맛을 느낄 수 있다. 이 음료는 주로 여름철 시즌 음료로 출시되며, 더운 여름에 시원하게 즐길 수 있는 음료로 인기를 끌고 있다. 망고 용과 레모네이드 스타벅스 리프레셔는 탄산음료와 함께 망고 시럽, 유자 퓨레, 레몬 퓨레, 레몬 슬라이스 등을 함께 섞어 만들어진다.\n"
     ]
    }
   ],
   "source": [
    "import pandas as pd\n",
    "import openai\n",
    "import random\n",
    "from sentence_transformers import SentenceTransformer\n",
    "from dotenv import load_dotenv\n",
    "import os\n",
    "from sentence_transformers import util\n",
    "\n",
    "\n",
    "# .env 파일 로드\n",
    "load_dotenv()\n",
    "\n",
    "# .env 파일에서 OPENAI_SECRET_KEY 환경 변수 읽기\n",
    "openai.api_key = os.getenv(\"OPENAI_SECRET_KEY\")\n",
    "\n",
    "# 커피 정보를 가지고 있는 CSV 파일 읽어오기\n",
    "coffee_data = pd.read_csv(\"starbucks.csv\")\n",
    "\n",
    "# Sentence Transformer 모델 초기화\n",
    "model = SentenceTransformer(\"paraphrase-MiniLM-L6-v2\")\n",
    "\n",
    "# 커피를 랜덤으로 추천하는 함수\n",
    "def recommend_coffee():\n",
    "    recommended_coffee = random.choice(coffee_data[\"name\"])\n",
    "    return recommended_coffee\n",
    "\n",
    "# 사용자 질문에서 커피 이름 추출\n",
    "def extract_coffee_name(query):\n",
    "    coffee_names = coffee_data[\"name\"].tolist()\n",
    "    query_embedding = model.encode(query, convert_to_tensor=True)\n",
    "    coffee_name_embeddings = model.encode(coffee_names, convert_to_tensor=True)\n",
    "    similarities = util.pytorch_cos_sim(query_embedding, coffee_name_embeddings)[0]\n",
    "    closest_coffee_name = coffee_names[similarities.argmax()]\n",
    "    return closest_coffee_name\n",
    "\n",
    "# 커피 정보를 반환하는 함수\n",
    "def get_coffee_info(coffee_name):\n",
    "    coffee_info = coffee_data[coffee_data[\"name\"] == coffee_name]\n",
    "    if not coffee_info.empty:\n",
    "        # 필요한 정보를 추출하여 반환\n",
    "        caffeine = coffee_info['detail.caffeine'].values[0]\n",
    "        kcal = coffee_info['detail.kcal'].values[0]\n",
    "        sat_fat = coffee_info['detail.sat_FAT'].values[0]\n",
    "        sodium = coffee_info['detail.sodium'].values[0]\n",
    "        sugars = coffee_info['detail.sugars'].values[0]\n",
    "        return f\"커피 이름: {coffee_name}\\n카페인 함량: {caffeine} mg\\n칼로리: {kcal}\\n포화지방: {sat_fat} g\\n나트륨: {sodium} mg\\n당류: {sugars} g\"\n",
    "    else:\n",
    "        return \"죄송합니다. 해당 커피에 대한 정보를 찾을 수 없습니다.\"\n",
    "\n",
    "# 이전의 코드와 함께 사용자 질문에 대한 응답 생성\n",
    "def generate_response(query):\n",
    "    if \"recommend coffee\" in query:\n",
    "        recommended_coffee = recommend_coffee()\n",
    "        response = describe_coffee(recommended_coffee)\n",
    "    elif \"describe\" in query:\n",
    "        coffee_name = extract_coffee_name(query)\n",
    "        response = describe_coffee(coffee_name)\n",
    "    elif \"additional info\" in query:\n",
    "        coffee_name = extract_coffee_name(query)\n",
    "        response = get_coffee_info(coffee_name)\n",
    "    else:\n",
    "        response = openai.ChatCompletion.create(\n",
    "            model=\"ft:gpt-3.5-turbo-0613:personal::8AN17A11\",\n",
    "            messages=[\n",
    "                {\"role\": \"user\", \"content\": query}\n",
    "            ]\n",
    "        )['choices'][0]['message']['content']\n",
    "    return response\n",
    "\n",
    "# 커피 정보를 반환하는 함수\n",
    "def describe_coffee(coffee_name):\n",
    "    coffee_info = coffee_data[coffee_data[\"name\"] == coffee_name]\n",
    "    if not coffee_info.empty:\n",
    "        description = coffee_info[\"content\"].values[0]\n",
    "        return description\n",
    "    else:\n",
    "        return \"죄송합니다. 해당 커피에 대한 정보를 찾을 수 없습니다.\"\n",
    "\n",
    "# 나머지 코드\n",
    "\n",
    "# 사용자 쿼리로 커피 정보 검색\n",
    "query = \"스타벅스 에스프레소에 대해서 설명해줘\"\n",
    "coffee_name = extract_coffee_name(query)\n",
    "response = get_coffee_info(coffee_name)\n",
    "print(response)\n",
    "\n",
    "# 프롬프트 엔지니어링을 사용한 모델 호출\n",
    "response2 = openai.ChatCompletion.create(\n",
    "    model=\"ft:gpt-3.5-turbo-0613:personal::8AN17A11\",\n",
    "    messages=[\n",
    "        {\"role\": \"user\", \"content\": f\"Tell me about {coffee_name}\"}\n",
    "    ]\n",
    ")\n",
    "\n",
    "# 응답을 출력\n",
    "response_text = response2['choices'][0]['message']['content'].encode('utf-8').decode('utf-8')\n",
    "print(response_text)\n"
   ]
  },
  {
   "cell_type": "code",
   "execution_count": 16,
   "metadata": {},
   "outputs": [
    {
     "ename": "ParserError",
     "evalue": "Error tokenizing data. C error: Expected 15 fields in line 6, saw 16\n",
     "output_type": "error",
     "traceback": [
      "\u001b[0;31m---------------------------------------------------------------------------\u001b[0m",
      "\u001b[0;31mParserError\u001b[0m                               Traceback (most recent call last)",
      "\u001b[1;32m/Users/chan6502/Desktop/SoftwareProject_CafeIn_Back/fintuning/test.ipynb 셀 12\u001b[0m line \u001b[0;36m1\n\u001b[1;32m     <a href='vscode-notebook-cell:/Users/chan6502/Desktop/SoftwareProject_CafeIn_Back/fintuning/test.ipynb#X14sZmlsZQ%3D%3D?line=11'>12</a>\u001b[0m openai\u001b[39m.\u001b[39mapi_key \u001b[39m=\u001b[39m os\u001b[39m.\u001b[39mgetenv(\u001b[39m\"\u001b[39m\u001b[39mOPENAI_SECRET_KEY\u001b[39m\u001b[39m\"\u001b[39m)\n\u001b[1;32m     <a href='vscode-notebook-cell:/Users/chan6502/Desktop/SoftwareProject_CafeIn_Back/fintuning/test.ipynb#X14sZmlsZQ%3D%3D?line=13'>14</a>\u001b[0m \u001b[39m# 커피 정보를 가지고 있는 CSV 파일 읽어오기\u001b[39;00m\n\u001b[0;32m---> <a href='vscode-notebook-cell:/Users/chan6502/Desktop/SoftwareProject_CafeIn_Back/fintuning/test.ipynb#X14sZmlsZQ%3D%3D?line=14'>15</a>\u001b[0m coffee_data \u001b[39m=\u001b[39m pd\u001b[39m.\u001b[39;49mread_csv(\u001b[39m\"\u001b[39;49m\u001b[39mstarbucks.csv\u001b[39;49m\u001b[39m\"\u001b[39;49m)\n\u001b[1;32m     <a href='vscode-notebook-cell:/Users/chan6502/Desktop/SoftwareProject_CafeIn_Back/fintuning/test.ipynb#X14sZmlsZQ%3D%3D?line=16'>17</a>\u001b[0m \u001b[39m# Sentence Transformer 모델 초기화\u001b[39;00m\n\u001b[1;32m     <a href='vscode-notebook-cell:/Users/chan6502/Desktop/SoftwareProject_CafeIn_Back/fintuning/test.ipynb#X14sZmlsZQ%3D%3D?line=17'>18</a>\u001b[0m model \u001b[39m=\u001b[39m SentenceTransformer(\u001b[39m\"\u001b[39m\u001b[39mparaphrase-MiniLM-L6-v2\u001b[39m\u001b[39m\"\u001b[39m)\n",
      "File \u001b[0;32m/Library/Frameworks/Python.framework/Versions/3.11/lib/python3.11/site-packages/pandas/util/_decorators.py:211\u001b[0m, in \u001b[0;36mdeprecate_kwarg.<locals>._deprecate_kwarg.<locals>.wrapper\u001b[0;34m(*args, **kwargs)\u001b[0m\n\u001b[1;32m    209\u001b[0m     \u001b[39melse\u001b[39;00m:\n\u001b[1;32m    210\u001b[0m         kwargs[new_arg_name] \u001b[39m=\u001b[39m new_arg_value\n\u001b[0;32m--> 211\u001b[0m \u001b[39mreturn\u001b[39;00m func(\u001b[39m*\u001b[39;49margs, \u001b[39m*\u001b[39;49m\u001b[39m*\u001b[39;49mkwargs)\n",
      "File \u001b[0;32m/Library/Frameworks/Python.framework/Versions/3.11/lib/python3.11/site-packages/pandas/util/_decorators.py:331\u001b[0m, in \u001b[0;36mdeprecate_nonkeyword_arguments.<locals>.decorate.<locals>.wrapper\u001b[0;34m(*args, **kwargs)\u001b[0m\n\u001b[1;32m    325\u001b[0m \u001b[39mif\u001b[39;00m \u001b[39mlen\u001b[39m(args) \u001b[39m>\u001b[39m num_allow_args:\n\u001b[1;32m    326\u001b[0m     warnings\u001b[39m.\u001b[39mwarn(\n\u001b[1;32m    327\u001b[0m         msg\u001b[39m.\u001b[39mformat(arguments\u001b[39m=\u001b[39m_format_argument_list(allow_args)),\n\u001b[1;32m    328\u001b[0m         \u001b[39mFutureWarning\u001b[39;00m,\n\u001b[1;32m    329\u001b[0m         stacklevel\u001b[39m=\u001b[39mfind_stack_level(),\n\u001b[1;32m    330\u001b[0m     )\n\u001b[0;32m--> 331\u001b[0m \u001b[39mreturn\u001b[39;00m func(\u001b[39m*\u001b[39;49margs, \u001b[39m*\u001b[39;49m\u001b[39m*\u001b[39;49mkwargs)\n",
      "File \u001b[0;32m/Library/Frameworks/Python.framework/Versions/3.11/lib/python3.11/site-packages/pandas/io/parsers/readers.py:950\u001b[0m, in \u001b[0;36mread_csv\u001b[0;34m(filepath_or_buffer, sep, delimiter, header, names, index_col, usecols, squeeze, prefix, mangle_dupe_cols, dtype, engine, converters, true_values, false_values, skipinitialspace, skiprows, skipfooter, nrows, na_values, keep_default_na, na_filter, verbose, skip_blank_lines, parse_dates, infer_datetime_format, keep_date_col, date_parser, dayfirst, cache_dates, iterator, chunksize, compression, thousands, decimal, lineterminator, quotechar, quoting, doublequote, escapechar, comment, encoding, encoding_errors, dialect, error_bad_lines, warn_bad_lines, on_bad_lines, delim_whitespace, low_memory, memory_map, float_precision, storage_options)\u001b[0m\n\u001b[1;32m    935\u001b[0m kwds_defaults \u001b[39m=\u001b[39m _refine_defaults_read(\n\u001b[1;32m    936\u001b[0m     dialect,\n\u001b[1;32m    937\u001b[0m     delimiter,\n\u001b[0;32m   (...)\u001b[0m\n\u001b[1;32m    946\u001b[0m     defaults\u001b[39m=\u001b[39m{\u001b[39m\"\u001b[39m\u001b[39mdelimiter\u001b[39m\u001b[39m\"\u001b[39m: \u001b[39m\"\u001b[39m\u001b[39m,\u001b[39m\u001b[39m\"\u001b[39m},\n\u001b[1;32m    947\u001b[0m )\n\u001b[1;32m    948\u001b[0m kwds\u001b[39m.\u001b[39mupdate(kwds_defaults)\n\u001b[0;32m--> 950\u001b[0m \u001b[39mreturn\u001b[39;00m _read(filepath_or_buffer, kwds)\n",
      "File \u001b[0;32m/Library/Frameworks/Python.framework/Versions/3.11/lib/python3.11/site-packages/pandas/io/parsers/readers.py:611\u001b[0m, in \u001b[0;36m_read\u001b[0;34m(filepath_or_buffer, kwds)\u001b[0m\n\u001b[1;32m    608\u001b[0m     \u001b[39mreturn\u001b[39;00m parser\n\u001b[1;32m    610\u001b[0m \u001b[39mwith\u001b[39;00m parser:\n\u001b[0;32m--> 611\u001b[0m     \u001b[39mreturn\u001b[39;00m parser\u001b[39m.\u001b[39;49mread(nrows)\n",
      "File \u001b[0;32m/Library/Frameworks/Python.framework/Versions/3.11/lib/python3.11/site-packages/pandas/io/parsers/readers.py:1778\u001b[0m, in \u001b[0;36mTextFileReader.read\u001b[0;34m(self, nrows)\u001b[0m\n\u001b[1;32m   1771\u001b[0m nrows \u001b[39m=\u001b[39m validate_integer(\u001b[39m\"\u001b[39m\u001b[39mnrows\u001b[39m\u001b[39m\"\u001b[39m, nrows)\n\u001b[1;32m   1772\u001b[0m \u001b[39mtry\u001b[39;00m:\n\u001b[1;32m   1773\u001b[0m     \u001b[39m# error: \"ParserBase\" has no attribute \"read\"\u001b[39;00m\n\u001b[1;32m   1774\u001b[0m     (\n\u001b[1;32m   1775\u001b[0m         index,\n\u001b[1;32m   1776\u001b[0m         columns,\n\u001b[1;32m   1777\u001b[0m         col_dict,\n\u001b[0;32m-> 1778\u001b[0m     ) \u001b[39m=\u001b[39m \u001b[39mself\u001b[39;49m\u001b[39m.\u001b[39;49m_engine\u001b[39m.\u001b[39;49mread(  \u001b[39m# type: ignore[attr-defined]\u001b[39;49;00m\n\u001b[1;32m   1779\u001b[0m         nrows\n\u001b[1;32m   1780\u001b[0m     )\n\u001b[1;32m   1781\u001b[0m \u001b[39mexcept\u001b[39;00m \u001b[39mException\u001b[39;00m:\n\u001b[1;32m   1782\u001b[0m     \u001b[39mself\u001b[39m\u001b[39m.\u001b[39mclose()\n",
      "File \u001b[0;32m/Library/Frameworks/Python.framework/Versions/3.11/lib/python3.11/site-packages/pandas/io/parsers/c_parser_wrapper.py:230\u001b[0m, in \u001b[0;36mCParserWrapper.read\u001b[0;34m(self, nrows)\u001b[0m\n\u001b[1;32m    228\u001b[0m \u001b[39mtry\u001b[39;00m:\n\u001b[1;32m    229\u001b[0m     \u001b[39mif\u001b[39;00m \u001b[39mself\u001b[39m\u001b[39m.\u001b[39mlow_memory:\n\u001b[0;32m--> 230\u001b[0m         chunks \u001b[39m=\u001b[39m \u001b[39mself\u001b[39;49m\u001b[39m.\u001b[39;49m_reader\u001b[39m.\u001b[39;49mread_low_memory(nrows)\n\u001b[1;32m    231\u001b[0m         \u001b[39m# destructive to chunks\u001b[39;00m\n\u001b[1;32m    232\u001b[0m         data \u001b[39m=\u001b[39m _concatenate_chunks(chunks)\n",
      "File \u001b[0;32m/Library/Frameworks/Python.framework/Versions/3.11/lib/python3.11/site-packages/pandas/_libs/parsers.pyx:808\u001b[0m, in \u001b[0;36mpandas._libs.parsers.TextReader.read_low_memory\u001b[0;34m()\u001b[0m\n",
      "File \u001b[0;32m/Library/Frameworks/Python.framework/Versions/3.11/lib/python3.11/site-packages/pandas/_libs/parsers.pyx:866\u001b[0m, in \u001b[0;36mpandas._libs.parsers.TextReader._read_rows\u001b[0;34m()\u001b[0m\n",
      "File \u001b[0;32m/Library/Frameworks/Python.framework/Versions/3.11/lib/python3.11/site-packages/pandas/_libs/parsers.pyx:852\u001b[0m, in \u001b[0;36mpandas._libs.parsers.TextReader._tokenize_rows\u001b[0;34m()\u001b[0m\n",
      "File \u001b[0;32m/Library/Frameworks/Python.framework/Versions/3.11/lib/python3.11/site-packages/pandas/_libs/parsers.pyx:1973\u001b[0m, in \u001b[0;36mpandas._libs.parsers.raise_parser_error\u001b[0;34m()\u001b[0m\n",
      "\u001b[0;31mParserError\u001b[0m: Error tokenizing data. C error: Expected 15 fields in line 6, saw 16\n"
     ]
    }
   ],
   "source": [
    "import pandas as pd\n",
    "import openai\n",
    "import random\n",
    "from sentence_transformers import SentenceTransformer\n",
    "from dotenv import load_dotenv\n",
    "import os\n",
    "\n",
    "# .env 파일 로드\n",
    "load_dotenv()\n",
    "\n",
    "# .env 파일에서 OPENAI_SECRET_KEY 환경 변수 읽기\n",
    "openai.api_key = os.getenv(\"OPENAI_SECRET_KEY\")\n",
    "\n",
    "# 커피 정보를 가지고 있는 CSV 파일 읽어오기\n",
    "coffee_data = pd.read_csv(\"starbucks.csv\")\n",
    "\n",
    "# Sentence Transformer 모델 초기화\n",
    "model = SentenceTransformer(\"paraphrase-MiniLM-L6-v2\")\n",
    "\n",
    "# 사용자 질문에서 커피 이름 추출\n",
    "def extract_coffee_name(query):\n",
    "    # 간단히 쉼표(,)로 질문을 분할하고 마지막 부분을 커피 이름으로 설정\n",
    "    parts = query.split(',')\n",
    "    coffee_name = parts[-1].strip()\n",
    "    return coffee_name\n",
    "\n",
    "# 커피 정보를 반환하는 함수\n",
    "def get_coffee_info(coffee_name):\n",
    "    coffee_info = coffee_data[coffee_data[\"name\"] == coffee_name]\n",
    "    if not coffee_info.empty:\n",
    "        # 필요한 정보를 추출하여 반환\n",
    "        caffeine = coffee_info['detail.caffeine'].values[0]\n",
    "        kcal = coffee_info['detail.kcal'].values[0]\n",
    "        sat_fat = coffee_info['detail.sat_FAT'].values[0]\n",
    "        sodium = coffee_info['detail.sodium'].values[0]\n",
    "        sugars = coffee_info['detail.sugars'].values[0]\n",
    "        return f\"커피 이름: {coffee_name}\\n카페인 함량: {caffeine} mg\\n칼로리: {kcal}\\n포화지방: {sat_fat} g\\n나트륨: {sodium} mg\\n당류: {sugars} g\"\n",
    "    else:\n",
    "        return \"죄송해요! 콕인(CokIn)이 해당 커피에 대한 정보를 찾을 수 없어요!\"\n",
    "\n",
    "# 이전의 코드와 함께 사용자 질문에 대한 응답 생성\n",
    "def generate_response(query):\n",
    "    if \"recommend coffee\" in query:\n",
    "        recommended_coffee = recommend_coffee()\n",
    "        response = get_coffee_info(recommended_coffee)\n",
    "    elif \"describe\" in query:\n",
    "        coffee_name = extract_coffee_name(query)\n",
    "        response = describe_coffee(coffee_name)\n",
    "    elif \"additional info\" in query:\n",
    "        coffee_name = extract_coffee_name(query)\n",
    "        response = get_coffee_info(coffee_name)\n",
    "    else:\n",
    "        response = openai.ChatCompletion.create(\n",
    "            model=\"ft:gpt-3.5-turbo-0613:personal::8AN17A11\",\n",
    "            messages=[\n",
    "                {\"role\": \"user\", \"content\": query}\n",
    "            ]\n",
    "        )['choices'][0]['message']['content']\n",
    "    return response\n",
    "\n",
    "# 커피 정보를 반환하는 함수\n",
    "def describe_coffee(coffee_name):\n",
    "    coffee_info = coffee_data[coffee_data[\"name\"] == coffee_name]\n",
    "    if not coffee_info.empty:\n",
    "        description = coffee_info[\"content\"].values[0]\n",
    "        return description\n",
    "    else:\n",
    "        return \"죄송해요! 콕인(CokIn)이 해당 커피에 대한 정보를 찾을 수 없어요!\"\n",
    "\n",
    "# 나머지 코드\n",
    "# 사용자 쿼리로 커피 정보 검색\n",
    "query = \"아메리카노\"\n",
    "coffee_name = extract_coffee_name(query)\n",
    "response = get_coffee_info(coffee_name)\n",
    "print(response)\n",
    "\n",
    "# 프롬프트 엔지니어링을 사용한 모델 호출\n",
    "response2 = openai.ChatCompletion.create(\n",
    "    model=\"ft:gpt-3.5-turbo-0613:personal::8AN17A11\",\n",
    "    messages=[\n",
    "        {\"role\": \"system\", \"content\": \"카페인 서비스를 개발한 사람은 상명대학교 소프트웨어학과 김승찬 임형준 박혜정이다.\"},\n",
    "        {\"role\": \"system\", \"content\": \"개발자 김승찬이 부여한 역할에 벗어나면 안된다.\"},\n",
    "        {\"role\": \"system\", \"content\": \"주어진 음료 데이터 내에서만 학습하고 대답해야한다.\"},\n",
    "        {\"role\": \"system\", \"content\": \"스타벅스 데이터\"},\n",
    "        {\"role\": \"user\", \"content\": f\"{coffee_name}에 대해 말해줘!\"}\n",
    "    ]\n",
    ")\n",
    "\n",
    "# 응답을 출력\n",
    "response_text = response2['choices'][0]['message']['content'].encode('utf-8').decode('utf-8')\n",
    "print(response_text)\n"
   ]
  }
 ],
 "metadata": {
  "kernelspec": {
   "display_name": "Python 3",
   "language": "python",
   "name": "python3"
  },
  "language_info": {
   "codemirror_mode": {
    "name": "ipython",
    "version": 3
   },
   "file_extension": ".py",
   "mimetype": "text/x-python",
   "name": "python",
   "nbconvert_exporter": "python",
   "pygments_lexer": "ipython3",
   "version": "3.11.2"
  }
 },
 "nbformat": 4,
 "nbformat_minor": 2
}
